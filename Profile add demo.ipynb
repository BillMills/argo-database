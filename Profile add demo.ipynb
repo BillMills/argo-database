{
 "cells": [
  {
   "cell_type": "code",
   "execution_count": 16,
   "metadata": {},
   "outputs": [],
   "source": [
    "import pandas as pd\n",
    "import pdb\n",
    "import os\n",
    "import glob\n",
    "import sys\n",
    "import logging\n",
    "sys.path.append('add-profiles')\n",
    "from argoDatabase import argoDatabase\n",
    "import addFunctions as af"
   ]
  },
  {
   "cell_type": "code",
   "execution_count": 17,
   "metadata": {},
   "outputs": [],
   "source": [
    "from types import SimpleNamespace\n",
    "\n",
    "args = SimpleNamespace()\n",
    "args.logName = 'demoLog.log'\n",
    "args.subset = 'trouble'\n",
    "args.npes = 1\n",
    "args.dbName = 'argo-express-test'\n",
    "args.dbDumpThreshold = 200\n",
    "args.qcThreshold = '1'\n",
    "args.basinFilename = 'basinmask_01.nc'\n",
    "args.addToDb = True\n",
    "args.removeExisting = True\n",
    "args.removeAddedFileNames = False\n",
    "args.adjustedOnly = False \n",
    "args.minDate = None\n",
    "args.maxDate = None\n"
   ]
  },
  {
   "cell_type": "code",
   "execution_count": 18,
   "metadata": {},
   "outputs": [],
   "source": [
    "logFileName = args.logName\n",
    "af.format_logger(logFileName, level=logging.WARNING)\n",
    "logging.warning('Start of log file')\n",
    "ad = argoDatabase(args.dbName, 'profiles',\n",
    "                  qcThreshold=args.qcThreshold, \n",
    "                  dbDumpThreshold=args.dbDumpThreshold,\n",
    "                  removeExisting=args.removeExisting,\n",
    "                  basinFilename=args.basinFilename,\n",
    "                  addToDb=args.addToDb,\n",
    "                  removeAddedFileNames=args.removeAddedFileNames, \n",
    "                  adjustedOnly=args.adjustedOnly)"
   ]
  },
  {
   "cell_type": "markdown",
   "metadata": {},
   "source": [
    "After initializeing logger and argoDatabase object, we get a list of files to add"
   ]
  },
  {
   "cell_type": "code",
   "execution_count": 23,
   "metadata": {},
   "outputs": [
    {
     "name": "stdout",
     "output_type": "stream",
     "text": [
      "/home/tyler/Desktop/argo-database/troublesome-files\n"
     ]
    }
   ],
   "source": [
    "ncFileDir = af.get_mirror_dir(args)\n",
    "print(ncFileDir)"
   ]
  },
  {
   "cell_type": "markdown",
   "metadata": {},
   "source": [
    "We get a list of dacs that will be added"
   ]
  },
  {
   "cell_type": "code",
   "execution_count": 24,
   "metadata": {},
   "outputs": [
    {
     "name": "stdout",
     "output_type": "stream",
     "text": [
      "['aoml', 'coriolis', 'nmdis', 'kordi', 'meds', 'kma', 'bodc', 'csio', 'incois', 'jma', 'csiro']\n"
     ]
    }
   ],
   "source": [
    "dacs = af.get_dacs(args.subset)\n",
    "print(dacs)"
   ]
  },
  {
   "cell_type": "markdown",
   "metadata": {},
   "source": [
    "Next we generate a table of all .nc files found in ncFileDir and dacs subdirectories"
   ]
  },
  {
   "cell_type": "code",
   "execution_count": 26,
   "metadata": {},
   "outputs": [
    {
     "name": "stdout",
     "output_type": "stream",
     "text": [
      "(2750, 7)\n"
     ]
    },
    {
     "data": {
      "text/html": [
       "<div>\n",
       "<style scoped>\n",
       "    .dataframe tbody tr th:only-of-type {\n",
       "        vertical-align: middle;\n",
       "    }\n",
       "\n",
       "    .dataframe tbody tr th {\n",
       "        vertical-align: top;\n",
       "    }\n",
       "\n",
       "    .dataframe thead th {\n",
       "        text-align: right;\n",
       "    }\n",
       "</style>\n",
       "<table border=\"1\" class=\"dataframe\">\n",
       "  <thead>\n",
       "    <tr style=\"text-align: right;\">\n",
       "      <th></th>\n",
       "      <th>file</th>\n",
       "      <th>filename</th>\n",
       "      <th>profile</th>\n",
       "      <th>platform</th>\n",
       "      <th>prefix</th>\n",
       "      <th>dac</th>\n",
       "      <th>cat</th>\n",
       "    </tr>\n",
       "  </thead>\n",
       "  <tbody>\n",
       "    <tr>\n",
       "      <th>183</th>\n",
       "      <td>/home/tyler/Desktop/argo-database/troublesome-...</td>\n",
       "      <td>SD1900722_001.nc</td>\n",
       "      <td>1900722_1</td>\n",
       "      <td>1900722</td>\n",
       "      <td>SD</td>\n",
       "      <td>aoml</td>\n",
       "      <td>S</td>\n",
       "    </tr>\n",
       "    <tr>\n",
       "      <th>193</th>\n",
       "      <td>/home/tyler/Desktop/argo-database/troublesome-...</td>\n",
       "      <td>SD1900722_002.nc</td>\n",
       "      <td>1900722_2</td>\n",
       "      <td>1900722</td>\n",
       "      <td>SD</td>\n",
       "      <td>aoml</td>\n",
       "      <td>S</td>\n",
       "    </tr>\n",
       "    <tr>\n",
       "      <th>195</th>\n",
       "      <td>/home/tyler/Desktop/argo-database/troublesome-...</td>\n",
       "      <td>SD1900722_003.nc</td>\n",
       "      <td>1900722_3</td>\n",
       "      <td>1900722</td>\n",
       "      <td>SD</td>\n",
       "      <td>aoml</td>\n",
       "      <td>S</td>\n",
       "    </tr>\n",
       "    <tr>\n",
       "      <th>192</th>\n",
       "      <td>/home/tyler/Desktop/argo-database/troublesome-...</td>\n",
       "      <td>SD1900722_004.nc</td>\n",
       "      <td>1900722_4</td>\n",
       "      <td>1900722</td>\n",
       "      <td>SD</td>\n",
       "      <td>aoml</td>\n",
       "      <td>S</td>\n",
       "    </tr>\n",
       "    <tr>\n",
       "      <th>190</th>\n",
       "      <td>/home/tyler/Desktop/argo-database/troublesome-...</td>\n",
       "      <td>SD1900722_005.nc</td>\n",
       "      <td>1900722_5</td>\n",
       "      <td>1900722</td>\n",
       "      <td>SD</td>\n",
       "      <td>aoml</td>\n",
       "      <td>S</td>\n",
       "    </tr>\n",
       "  </tbody>\n",
       "</table>\n",
       "</div>"
      ],
      "text/plain": [
       "                                                  file          filename  \\\n",
       "183  /home/tyler/Desktop/argo-database/troublesome-...  SD1900722_001.nc   \n",
       "193  /home/tyler/Desktop/argo-database/troublesome-...  SD1900722_002.nc   \n",
       "195  /home/tyler/Desktop/argo-database/troublesome-...  SD1900722_003.nc   \n",
       "192  /home/tyler/Desktop/argo-database/troublesome-...  SD1900722_004.nc   \n",
       "190  /home/tyler/Desktop/argo-database/troublesome-...  SD1900722_005.nc   \n",
       "\n",
       "       profile platform prefix   dac cat  \n",
       "183  1900722_1  1900722     SD  aoml   S  \n",
       "193  1900722_2  1900722     SD  aoml   S  \n",
       "195  1900722_3  1900722     SD  aoml   S  \n",
       "192  1900722_4  1900722     SD  aoml   S  \n",
       "190  1900722_5  1900722     SD  aoml   S  "
      ]
     },
     "execution_count": 26,
     "metadata": {},
     "output_type": "execute_result"
    }
   ],
   "source": [
    "df = af.get_df_to_add(ncFileDir, dacs=dacs)\n",
    "print(df.shape)\n",
    "df.head()"
   ]
  },
  {
   "cell_type": "markdown",
   "metadata": {},
   "source": [
    "Optional parameters in args can filter out more data, such as to only include S profiles, or Mixed, etc."
   ]
  },
  {
   "cell_type": "code",
   "execution_count": 29,
   "metadata": {},
   "outputs": [
    {
     "name": "stdout",
     "output_type": "stream",
     "text": [
      "(2750, 7)\n"
     ]
    },
    {
     "data": {
      "text/html": [
       "<div>\n",
       "<style scoped>\n",
       "    .dataframe tbody tr th:only-of-type {\n",
       "        vertical-align: middle;\n",
       "    }\n",
       "\n",
       "    .dataframe tbody tr th {\n",
       "        vertical-align: top;\n",
       "    }\n",
       "\n",
       "    .dataframe thead th {\n",
       "        text-align: right;\n",
       "    }\n",
       "</style>\n",
       "<table border=\"1\" class=\"dataframe\">\n",
       "  <thead>\n",
       "    <tr style=\"text-align: right;\">\n",
       "      <th></th>\n",
       "      <th>file</th>\n",
       "      <th>filename</th>\n",
       "      <th>profile</th>\n",
       "      <th>platform</th>\n",
       "      <th>prefix</th>\n",
       "      <th>dac</th>\n",
       "      <th>cat</th>\n",
       "    </tr>\n",
       "  </thead>\n",
       "  <tbody>\n",
       "    <tr>\n",
       "      <th>183</th>\n",
       "      <td>/home/tyler/Desktop/argo-database/troublesome-...</td>\n",
       "      <td>SD1900722_001.nc</td>\n",
       "      <td>1900722_1</td>\n",
       "      <td>1900722</td>\n",
       "      <td>SD</td>\n",
       "      <td>aoml</td>\n",
       "      <td>S</td>\n",
       "    </tr>\n",
       "    <tr>\n",
       "      <th>193</th>\n",
       "      <td>/home/tyler/Desktop/argo-database/troublesome-...</td>\n",
       "      <td>SD1900722_002.nc</td>\n",
       "      <td>1900722_2</td>\n",
       "      <td>1900722</td>\n",
       "      <td>SD</td>\n",
       "      <td>aoml</td>\n",
       "      <td>S</td>\n",
       "    </tr>\n",
       "    <tr>\n",
       "      <th>195</th>\n",
       "      <td>/home/tyler/Desktop/argo-database/troublesome-...</td>\n",
       "      <td>SD1900722_003.nc</td>\n",
       "      <td>1900722_3</td>\n",
       "      <td>1900722</td>\n",
       "      <td>SD</td>\n",
       "      <td>aoml</td>\n",
       "      <td>S</td>\n",
       "    </tr>\n",
       "    <tr>\n",
       "      <th>192</th>\n",
       "      <td>/home/tyler/Desktop/argo-database/troublesome-...</td>\n",
       "      <td>SD1900722_004.nc</td>\n",
       "      <td>1900722_4</td>\n",
       "      <td>1900722</td>\n",
       "      <td>SD</td>\n",
       "      <td>aoml</td>\n",
       "      <td>S</td>\n",
       "    </tr>\n",
       "    <tr>\n",
       "      <th>190</th>\n",
       "      <td>/home/tyler/Desktop/argo-database/troublesome-...</td>\n",
       "      <td>SD1900722_005.nc</td>\n",
       "      <td>1900722_5</td>\n",
       "      <td>1900722</td>\n",
       "      <td>SD</td>\n",
       "      <td>aoml</td>\n",
       "      <td>S</td>\n",
       "    </tr>\n",
       "  </tbody>\n",
       "</table>\n",
       "</div>"
      ],
      "text/plain": [
       "                                                  file          filename  \\\n",
       "183  /home/tyler/Desktop/argo-database/troublesome-...  SD1900722_001.nc   \n",
       "193  /home/tyler/Desktop/argo-database/troublesome-...  SD1900722_002.nc   \n",
       "195  /home/tyler/Desktop/argo-database/troublesome-...  SD1900722_003.nc   \n",
       "192  /home/tyler/Desktop/argo-database/troublesome-...  SD1900722_004.nc   \n",
       "190  /home/tyler/Desktop/argo-database/troublesome-...  SD1900722_005.nc   \n",
       "\n",
       "       profile platform prefix   dac cat  \n",
       "183  1900722_1  1900722     SD  aoml   S  \n",
       "193  1900722_2  1900722     SD  aoml   S  \n",
       "195  1900722_3  1900722     SD  aoml   S  \n",
       "192  1900722_4  1900722     SD  aoml   S  \n",
       "190  1900722_5  1900722     SD  aoml   S  "
      ]
     },
     "execution_count": 29,
     "metadata": {},
     "output_type": "execute_result"
    }
   ],
   "source": [
    "df = af.reduce_files(args, df)\n",
    "print(df.shape)\n",
    "df.head()"
   ]
  },
  {
   "cell_type": "code",
   "execution_count": null,
   "metadata": {
    "collapsed": true
   },
   "outputs": [],
   "source": [
    "af.run_parallel_process(ad, df.file.tolist(), ncFileDir, args.npes)\n",
    "\n",
    "logging.warning('End of log file')"
   ]
  }
 ],
 "metadata": {
  "kernelspec": {
   "display_name": "Python argo",
   "language": "python",
   "name": "argo"
  },
  "language_info": {
   "codemirror_mode": {
    "name": "ipython",
    "version": 3
   },
   "file_extension": ".py",
   "mimetype": "text/x-python",
   "name": "python",
   "nbconvert_exporter": "python",
   "pygments_lexer": "ipython3",
   "version": "3.6.1"
  }
 },
 "nbformat": 4,
 "nbformat_minor": 2
}
