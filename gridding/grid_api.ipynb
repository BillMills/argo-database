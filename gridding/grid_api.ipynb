{
 "cells": [
  {
   "cell_type": "code",
   "execution_count": 1,
   "metadata": {},
   "outputs": [],
   "source": [
    "import requests\n",
    "import pandas as pd\n",
    "import numpy as np\n",
    "from scipy.interpolate import griddata\n",
    "import cmocean\n",
    "import matplotlib.pylab as plt\n",
    "from scipy.interpolate import griddata\n",
    "from scipy import interpolate\n",
    "import itertools\n",
    "import pdb\n",
    "import cartopy.crs as ccrs"
   ]
  },
  {
   "cell_type": "code",
   "execution_count": 2,
   "metadata": {},
   "outputs": [],
   "source": [
    "#/griddedProducts/grid/window?latRange=[-90,-70]&lonRange=[-18,18]&gridName=soseSIarea&monthYear=02-2013&presLevel=0&gridProj=false\n",
    "def get_grid(gridName, latRange, lonRange, date, presLevel,localhost='http://localhost:3000/griddedProducts/nonUniformGrid/window?'):\n",
    "    url = localhost\n",
    "    if not localhost:\n",
    "        url = 'https://argovis.colorado.edu/griddedProducts/nonUniformGrid/window?'\n",
    "    url += 'gridName={}'.format(gridName)\n",
    "    resp = requests.get(url)\n",
    "    url += '&presLevel={}'.format(presLevel)\n",
    "    url += '&date={}'.format(date)\n",
    "    url += '&latRange={}'.format(latRange)\n",
    "    url += '&lonRange={}'.format(lonRange)\n",
    "    url = url.replace(' ', '')\n",
    "    # Consider any status other than 2xx an error\n",
    "    print(url)\n",
    "    resp = requests.get(url)\n",
    "    if not resp.status_code // 100 == 2:\n",
    "        return \"Error: Unexpected response {}\".format(resp)\n",
    "    grid = resp.json()\n",
    "    return grid[0]"
   ]
  },
  {
   "cell_type": "code",
   "execution_count": 3,
   "metadata": {},
   "outputs": [
    {
     "name": "stdout",
     "output_type": "stream",
     "text": [
      "https://argovis.colorado.edu/griddedProducts/nonUniformGrid/window?gridName=sose_si_area_3_day&presLevel=0&date=2013-01-04&latRange=[-70,-65]&lonRange=[0,5]\n"
     ]
    }
   ],
   "source": [
    "latRange=[-70, -65]\n",
    "lonRange=[0, 5]\n",
    "gridName='sose_si_area_3_day'\n",
    "date='2013-01-04'\n",
    "presLevel=0\n",
    "grid = get_grid(gridName, latRange, lonRange, date, presLevel, False)"
   ]
  },
  {
   "cell_type": "code",
   "execution_count": 4,
   "metadata": {},
   "outputs": [],
   "source": [
    "assert not isinstance(grid, str)"
   ]
  },
  {
   "cell_type": "code",
   "execution_count": 5,
   "metadata": {},
   "outputs": [],
   "source": [
    "lats, longs, values = [], [], []\n",
    "for row in grid['data']:\n",
    "    #if row['value'] == 0:\n",
    "    #    continue\n",
    "    lats.append(row['lat'])\n",
    "    longs.append(row['lon'])\n",
    "    values.append(row['value'])\n",
    "def transform_lon(lon):\n",
    "    if lon < 0:\n",
    "        return 360 + lon\n",
    "    else:\n",
    "        return lon\n",
    "longs = [transform_lon(long) for long in longs]\n",
    "gridData = {'lat': lats, 'lon': longs, 'values': values}\n",
    "df = pd.DataFrame.from_dict(gridData, orient='columns')\n",
    "df = df[df['values'] > 0]"
   ]
  },
  {
   "cell_type": "code",
   "execution_count": 6,
   "metadata": {},
   "outputs": [
    {
     "data": {
      "text/html": [
       "<div>\n",
       "<style scoped>\n",
       "    .dataframe tbody tr th:only-of-type {\n",
       "        vertical-align: middle;\n",
       "    }\n",
       "\n",
       "    .dataframe tbody tr th {\n",
       "        vertical-align: top;\n",
       "    }\n",
       "\n",
       "    .dataframe thead th {\n",
       "        text-align: right;\n",
       "    }\n",
       "</style>\n",
       "<table border=\"1\" class=\"dataframe\">\n",
       "  <thead>\n",
       "    <tr style=\"text-align: right;\">\n",
       "      <th></th>\n",
       "      <th>lat</th>\n",
       "      <th>lon</th>\n",
       "      <th>values</th>\n",
       "    </tr>\n",
       "  </thead>\n",
       "  <tbody>\n",
       "    <tr>\n",
       "      <th>count</th>\n",
       "      <td>322.000000</td>\n",
       "      <td>322.000000</td>\n",
       "      <td>3.220000e+02</td>\n",
       "    </tr>\n",
       "    <tr>\n",
       "      <th>mean</th>\n",
       "      <td>-68.627165</td>\n",
       "      <td>2.660450</td>\n",
       "      <td>3.795408e-03</td>\n",
       "    </tr>\n",
       "    <tr>\n",
       "      <th>std</th>\n",
       "      <td>0.774450</td>\n",
       "      <td>1.418856</td>\n",
       "      <td>1.239436e-02</td>\n",
       "    </tr>\n",
       "    <tr>\n",
       "      <th>min</th>\n",
       "      <td>-69.935000</td>\n",
       "      <td>0.167000</td>\n",
       "      <td>2.150531e-07</td>\n",
       "    </tr>\n",
       "    <tr>\n",
       "      <th>25%</th>\n",
       "      <td>-69.238000</td>\n",
       "      <td>1.500000</td>\n",
       "      <td>3.936781e-04</td>\n",
       "    </tr>\n",
       "    <tr>\n",
       "      <th>50%</th>\n",
       "      <td>-68.639000</td>\n",
       "      <td>2.833000</td>\n",
       "      <td>1.048857e-03</td>\n",
       "    </tr>\n",
       "    <tr>\n",
       "      <th>75%</th>\n",
       "      <td>-68.023000</td>\n",
       "      <td>3.833000</td>\n",
       "      <td>1.442500e-03</td>\n",
       "    </tr>\n",
       "    <tr>\n",
       "      <th>max</th>\n",
       "      <td>-67.133000</td>\n",
       "      <td>4.833000</td>\n",
       "      <td>1.067007e-01</td>\n",
       "    </tr>\n",
       "  </tbody>\n",
       "</table>\n",
       "</div>"
      ],
      "text/plain": [
       "              lat         lon        values\n",
       "count  322.000000  322.000000  3.220000e+02\n",
       "mean   -68.627165    2.660450  3.795408e-03\n",
       "std      0.774450    1.418856  1.239436e-02\n",
       "min    -69.935000    0.167000  2.150531e-07\n",
       "25%    -69.238000    1.500000  3.936781e-04\n",
       "50%    -68.639000    2.833000  1.048857e-03\n",
       "75%    -68.023000    3.833000  1.442500e-03\n",
       "max    -67.133000    4.833000  1.067007e-01"
      ]
     },
     "execution_count": 6,
     "metadata": {},
     "output_type": "execute_result"
    }
   ],
   "source": [
    "df.describe()"
   ]
  },
  {
   "cell_type": "code",
   "execution_count": 7,
   "metadata": {},
   "outputs": [],
   "source": [
    "# assumes a sorted lat and lon\n",
    "uLats = []\n",
    "for lat in lats:\n",
    "    if lat in uLats:\n",
    "        break\n",
    "    else:\n",
    "        uLats.append(lat)\n",
    "\n",
    "uLats = np.array(uLats)\n",
    "nLats = len(uLats)\n",
    "uLongs = longs[::nLats]\n",
    "uLongs = np.array(uLongs)\n",
    "nLongs = len(uLongs)\n",
    "\n",
    "values = np.array(values).reshape((nLongs, nLats))"
   ]
  },
  {
   "cell_type": "code",
   "execution_count": 9,
   "metadata": {},
   "outputs": [],
   "source": [
    "# assumes a sorted lat and lon\n",
    "gridFun = interpolate.RegularGridInterpolator((uLongs, uLats), values)"
   ]
  },
  {
   "cell_type": "code",
   "execution_count": 10,
   "metadata": {},
   "outputs": [
    {
     "data": {
      "text/plain": [
       "[<matplotlib.lines.Line2D at 0x7f05a903fc50>]"
      ]
     },
     "execution_count": 10,
     "metadata": {},
     "output_type": "execute_result"
    },
    {
     "data": {
      "image/png": "[encoded data removed]",
      "text/plain": [
       "<Figure size 432x288 with 1 Axes>"
      ]
     },
     "metadata": {
      "needs_background": "light"
     },
     "output_type": "display_data"
    }
   ],
   "source": [
    "lat_idxs = np.array([x for x in range(len(uLats))])\n",
    "z = np.polyfit(lat_idxs, uLats, deg=6, full=True)\n",
    "p = np.poly1d(z[0])\n",
    "#plt.plot(lat_idxs, uLats, '.', lat_idxs, p(lat_idxs), '-')\n",
    "plt.plot(lat_idxs, p(lat_idxs) - uLats, '.')"
   ]
  },
  {
   "cell_type": "code",
   "execution_count": 168,
   "metadata": {},
   "outputs": [],
   "source": [
    "iPoint = (14, -68.7777)\n",
    "# grid has uniform long finding idx is easy\n",
    "dlon = round(uLongs[1] - uLongs[0], 3)\n",
    "lon_0 = min(uLongs)\n",
    "def get_lon_idx(lon, dlon, lon_0):\n",
    "    idx = int((lon - lon_0) / dlon)\n",
    "    return idx\n",
    "lon_idx = get_lon_idx(iPoint[0], dlon, lon_0)\n",
    "\n",
    "# grid does not have uniform lat. need to use binary search\n",
    "# Returns element closest to target in arr[] \n",
    "def find_closest_idx(arr, target):\n",
    "    arrLen = len(arr)\n",
    "    # Corner cases \n",
    "    if (target <= arr[0]): \n",
    "        return 0\n",
    "    if (target >= arr[arrLen - 1]): \n",
    "        return arrLen - 1\n",
    "\n",
    "    # Doing iterative binary search \n",
    "    idx = 0; jdx = arrLen; mid = 0\n",
    "    while (idx < jdx):  \n",
    "        mid = int((idx + jdx) / 2)\n",
    "\n",
    "        if (arr[mid] == target): \n",
    "            return mid\n",
    "\n",
    "        if (target < arr[mid]): # search to the left of mid\n",
    "            # If target is greater than previous \n",
    "            # to mid, return closest of two \n",
    "            if (mid > 0 and target > arr[mid - 1]):\n",
    "                cdx = get_closest_idx(arr[mid - 1], arr[mid], mid, target) \n",
    "                return cdx\n",
    "            # Repeat for left half  \n",
    "            jdx = mid \n",
    "\n",
    "        else: # search to the right of mid\n",
    "            if (mid < arrLen - 1 and target < arr[mid + 1]): \n",
    "                cdx = get_closest_idx(arr[mid - 1], arr[mid], mid, target) \n",
    "                return cdx\n",
    "            idx = mid + 1\n",
    "    # Only single element left after search \n",
    "    return arr[mid] \n",
    "\n",
    "def get_closest_idx(val1, val2, mid, target): \n",
    "    if (target - val1 >= val2 - target): \n",
    "        return mid\n",
    "    else: \n",
    "        return mid-1 "
   ]
  },
  {
   "cell_type": "raw",
   "metadata": {},
   "source": []
  },
  {
   "cell_type": "code",
   "execution_count": null,
   "metadata": {},
   "outputs": [],
   "source": []
  },
  {
   "cell_type": "code",
   "execution_count": 189,
   "metadata": {},
   "outputs": [
    {
     "name": "stdout",
     "output_type": "stream",
     "text": [
      "lat_idx: 98, lon_idx: 41\n",
      "uLats[lat_idx]: -68.88, uLongs[lon_idx]: 13.833\n"
     ]
    },
    {
     "data": {
      "text/plain": [
       "<matplotlib.collections.PathCollection at 0x7f7364296668>"
      ]
     },
     "execution_count": 189,
     "metadata": {},
     "output_type": "execute_result"
    },
    {
     "data": {
      "image/png": "[encoded data removed]",
      "text/plain": [
       "<Figure size 432x288 with 1 Axes>"
      ]
     },
     "metadata": {
      "needs_background": "light"
     },
     "output_type": "display_data"
    }
   ],
   "source": [
    "lat_idx = find_closest_idx(uLats.tolist(), iPoint[1])\n",
    "lon_idx = get_lon_idx(iPoint[0], dlon, lon_0)\n",
    "llPoint = (uLongs[lon_idx], uLats[lat_idx], values[lon_idx, lat_idx])\n",
    "lrPoint = (uLongs[lon_idx+1], uLats[lat_idx], values[lon_idx+1, lat_idx])\n",
    "urPoint = (uLongs[lon_idx+1], uLats[lat_idx+1], values[lon_idx+1, lat_idx+1])\n",
    "ulPoint = (uLongs[lon_idx], uLats[lat_idx+1], values[lon_idx, lat_idx+1])\n",
    "points = [llPoint, lrPoint, urPoint, ulPoint]\n",
    "print(f'lat_idx: {lat_idx}, lon_idx: {lon_idx}')\n",
    "print(f'uLats[lat_idx]: {uLats[lat_idx]}, uLongs[lon_idx]: {uLongs[lon_idx]}')\n",
    "x, y = [uLongs[lon_idx], uLongs[lon_idx], uLongs[lon_idx+1], uLongs[lon_idx+1]] ,[uLats[lat_idx],  uLats[lat_idx+1], uLats[lat_idx],  uLats[lat_idx+1]]\n",
    "ax = plt.axes()\n",
    "ax.scatter(x, y)\n",
    "ax.scatter(iPoint[0], iPoint[1])"
   ]
  },
  {
   "cell_type": "code",
   "execution_count": 190,
   "metadata": {},
   "outputs": [
    {
     "name": "stdout",
     "output_type": "stream",
     "text": [
      "[(13.833, -68.88, 0.37608304619789124), (14.167, -68.88, 0.3888804614543915), (14.167, -68.76, 0.34624210000038147), (13.833, -68.76, 0.34019502997398376)]\n"
     ]
    }
   ],
   "source": [
    "print(points)"
   ]
  },
  {
   "cell_type": "code",
   "execution_count": 195,
   "metadata": {},
   "outputs": [
    {
     "name": "stdout",
     "output_type": "stream",
     "text": [
      "0.3490098853409264\n",
      "0.3490098853409264\n"
     ]
    }
   ],
   "source": [
    "def bilinear_interpolation(x, y, points):\n",
    "    '''Interpolate (x,y) from values associated with four points.\n",
    "\n",
    "    The four points are a list of four triplets:  (x, y, value).\n",
    "    The four points can be in any order.  They should form a rectangle.\n",
    "\n",
    "        >>> bilinear_interpolation(12, 5.5,\n",
    "        ...                        [(10, 4, 100),\n",
    "        ...                         (20, 4, 200),\n",
    "        ...                         (10, 6, 150),\n",
    "        ...                         (20, 6, 300)])\n",
    "        165.0\n",
    "\n",
    "    '''\n",
    "    # See formula at:  http://en.wikipedia.org/wiki/Bilinear_interpolation\n",
    "\n",
    "    points = sorted(points)               # order points by x, then by y\n",
    "    (x1, y1, q11), (_x1, y2, q12), (x2, _y1, q21), (_x2, _y2, q22) = points\n",
    "\n",
    "    if x1 != _x1 or x2 != _x2 or y1 != _y1 or y2 != _y2:\n",
    "        raise ValueError('points do not form a rectangle')\n",
    "    if not x1 <= x <= x2 or not y1 <= y <= y2:\n",
    "        raise ValueError('(x, y) not within the rectangle')\n",
    "\n",
    "    return (q11 * (x2 - x) * (y2 - y) +\n",
    "            q21 * (x - x1) * (y2 - y) +\n",
    "            q12 * (x2 - x) * (y - y1) +\n",
    "            q22 * (x - x1) * (y - y1)\n",
    "           ) / ((x2 - x1) * (y2 - y1) + 0.0)\n",
    "\n",
    "print(bilinear_interpolation(iPoint[0], iPoint[1], points))\n",
    "print(gridFun(iPoint))"
   ]
  },
  {
   "cell_type": "code",
   "execution_count": 123,
   "metadata": {},
   "outputs": [],
   "source": [
    "# define grid.\n",
    "latsi = np.linspace(np.floor(df['lat'].min()),np.ceil(df['lat'].max()), 150)\n",
    "longsi = np.linspace(np.floor(df['lon'].min()),np.ceil(df['lon'].max()), 150)\n",
    "latsi = np.linspace(np.floor(df['lat'].min()),np.ceil(df['lat'].max()), 150)\n",
    "longsi = np.linspace(np.floor(df['lon'].min()),np.ceil(df['lon'].max()), 150)\n",
    "zi = griddata((longs, lats), values, (longsi[None,:], latsi[:,None]), method='linear')\n",
    "zi[zi == 0] = np.nan\n",
    "map_proj = ccrs.AzimuthalEquidistant(central_latitude=-90)\n",
    "#map_proj = ccrs.Orthographic(central_latitude=-90)\n",
    "#map_proj = ccrs.PlateCarree()\n",
    "#map_proj = ccrs.Stereographic(central_latitude=-90) "
   ]
  },
  {
   "cell_type": "code",
   "execution_count": 124,
   "metadata": {},
   "outputs": [
    {
     "data": {
      "text/plain": [
       "<cartopy.mpl.feature_artist.FeatureArtist at 0x7f2508306400>"
      ]
     },
     "execution_count": 124,
     "metadata": {},
     "output_type": "execute_result"
    },
    {
     "data": {
      "image/png": "[encoded data removed]",
      "text/plain": [
       "<Figure size 432x288 with 1 Axes>"
      ]
     },
     "metadata": {
      "needs_background": "light"
     },
     "output_type": "display_data"
    }
   ],
   "source": [
    "ax = plt.axes(projection=map_proj)\n",
    "ax.contourf(longsi, latsi, zi, 60, transform=ccrs.PlateCarree(), cmap=cmocean.cm.ice)\n",
    "#ax.pcolormesh(longsi, latsi, zi, transform=ccrs.PlateCarree(), cmap=cmocean.cm.ice)\n",
    "ax.coastlines()\n",
    "#ax.set_global()"
   ]
  },
  {
   "cell_type": "code",
   "execution_count": 125,
   "metadata": {},
   "outputs": [
    {
     "data": {
      "image/png": "[encoded data removed]",
      "text/plain": [
       "<Figure size 432x288 with 1 Axes>"
      ]
     },
     "metadata": {
      "needs_background": "light"
     },
     "output_type": "display_data"
    }
   ],
   "source": [
    "plt.contourf(longsi, latsi, zi, 60, cmap=cmocean.cm.ice)\n",
    "plt.show()"
   ]
  },
  {
   "cell_type": "code",
   "execution_count": 9,
   "metadata": {},
   "outputs": [],
   "source": [
    "def _ndim_coords_from_arrays(points, ndim=None):\n",
    "    \"\"\"\n",
    "    Convert a tuple of coordinate arrays to a (..., ndim)-shaped array.\n",
    "    \"\"\"\n",
    "\n",
    "    if isinstance(points, tuple) and len(points) == 1:\n",
    "        # handle argument tuple\n",
    "        points = points[0]\n",
    "    if isinstance(points, tuple):\n",
    "        p = np.broadcast_arrays(*points)\n",
    "        n = len(p)\n",
    "        for j in range(1, n):\n",
    "            if p[j].shape != p[0].shape:\n",
    "                raise ValueError(\"coordinate arrays do not have the same shape\")\n",
    "        points = np.empty(p[0].shape + (len(points),), dtype=float)\n",
    "        for j, item in enumerate(p):\n",
    "            points[...,j] = item\n",
    "    else:\n",
    "        points = np.asanyarray(points)\n",
    "        if points.ndim == 1:\n",
    "            if ndim is None:\n",
    "                points = points.reshape(-1, 1)\n",
    "            else:\n",
    "                points = points.reshape(-1, ndim)\n",
    "    return points"
   ]
  },
  {
   "cell_type": "code",
   "execution_count": 25,
   "metadata": {},
   "outputs": [],
   "source": [
    "class RegularGridInterpolator(object):\n",
    "    \"\"\"\n",
    "    Interpolation on a regular grid in arbitrary dimensions\n",
    "    The data must be defined on a regular grid; the grid spacing however may be\n",
    "    uneven.  Linear and nearest-neighbour interpolation are supported. After\n",
    "    setting up the interpolator object, the interpolation method (*linear* or\n",
    "    *nearest*) may be chosen at each evaluation.\n",
    "    Parameters\n",
    "    ----------\n",
    "    points : tuple of ndarray of float, with shapes (m1, ), ..., (mn, )\n",
    "        The points defining the regular grid in n dimensions.\n",
    "    values : array_like, shape (m1, ..., mn, ...)\n",
    "        The data on the regular grid in n dimensions.\n",
    "    method : str, optional\n",
    "        The method of interpolation to perform. Supported are \"linear\" and\n",
    "        \"nearest\". This parameter will become the default for the object's\n",
    "        ``__call__`` method. Default is \"linear\".\n",
    "    bounds_error : bool, optional\n",
    "        If True, when interpolated values are requested outside of the\n",
    "        domain of the input data, a ValueError is raised.\n",
    "        If False, then `fill_value` is used.\n",
    "    fill_value : number, optional\n",
    "        If provided, the value to use for points outside of the\n",
    "        interpolation domain. If None, values outside\n",
    "        the domain are extrapolated.\n",
    "    Methods\n",
    "    -------\n",
    "    __call__\n",
    "    Notes\n",
    "    -----\n",
    "    Contrary to LinearNDInterpolator and NearestNDInterpolator, this class\n",
    "    avoids expensive triangulation of the input data by taking advantage of the\n",
    "    regular grid structure.\n",
    "    If any of `points` have a dimension of size 1, linear interpolation will\n",
    "    return an array of `nan` values. Nearest-neighbor interpolation will work\n",
    "    as usual in this case.\n",
    "    .. versionadded:: 0.14\n",
    "    Examples\n",
    "    --------\n",
    "    Evaluate a simple example function on the points of a 3D grid:\n",
    "    >>> from scipy.interpolate import RegularGridInterpolator\n",
    "    >>> def f(x, y, z):\n",
    "    ...     return 2 * x**3 + 3 * y**2 - z\n",
    "    >>> x = np.linspace(1, 4, 11)\n",
    "    >>> y = np.linspace(4, 7, 22)\n",
    "    >>> z = np.linspace(7, 9, 33)\n",
    "    >>> data = f(*np.meshgrid(x, y, z, indexing='ij', sparse=True))\n",
    "    ``data`` is now a 3D array with ``data[i,j,k] = f(x[i], y[j], z[k])``.\n",
    "    Next, define an interpolating function from this data:\n",
    "    >>> my_interpolating_function = RegularGridInterpolator((x, y, z), data)\n",
    "    Evaluate the interpolating function at the two points\n",
    "    ``(x,y,z) = (2.1, 6.2, 8.3)`` and ``(3.3, 5.2, 7.1)``:\n",
    "    >>> pts = np.array([[2.1, 6.2, 8.3], [3.3, 5.2, 7.1]])\n",
    "    >>> my_interpolating_function(pts)\n",
    "    array([ 125.80469388,  146.30069388])\n",
    "    which is indeed a close approximation to\n",
    "    ``[f(2.1, 6.2, 8.3), f(3.3, 5.2, 7.1)]``.\n",
    "    See also\n",
    "    --------\n",
    "    NearestNDInterpolator : Nearest neighbour interpolation on unstructured\n",
    "                            data in N dimensions\n",
    "    LinearNDInterpolator : Piecewise linear interpolant on unstructured data\n",
    "                           in N dimensions\n",
    "    References\n",
    "    ----------\n",
    "    .. [1] Python package *regulargrid* by Johannes Buchner, see\n",
    "           https://pypi.python.org/pypi/regulargrid/\n",
    "    .. [2] Wikipedia, \"Trilinear interpolation\",\n",
    "           https://en.wikipedia.org/wiki/Trilinear_interpolation\n",
    "    .. [3] Weiser, Alan, and Sergio E. Zarantonello. \"A note on piecewise linear\n",
    "           and multilinear table interpolation in many dimensions.\" MATH.\n",
    "           COMPUT. 50.181 (1988): 189-196.\n",
    "           https://www.ams.org/journals/mcom/1988-50-181/S0025-5718-1988-0917826-0/S0025-5718-1988-0917826-0.pdf\n",
    "    \"\"\"\n",
    "    # this class is based on code originally programmed by Johannes Buchner,\n",
    "    # see https://github.com/JohannesBuchner/regulargrid\n",
    "\n",
    "    def __init__(self, points, values, method=\"linear\", bounds_error=True,\n",
    "                 fill_value=np.nan):\n",
    "        if method not in [\"linear\", \"nearest\"]:\n",
    "            raise ValueError(\"Method '%s' is not defined\" % method)\n",
    "        self.method = method\n",
    "        self.bounds_error = bounds_error\n",
    "\n",
    "        if not hasattr(values, 'ndim'):\n",
    "            # allow reasonable duck-typed values\n",
    "            values = np.asarray(values)\n",
    "\n",
    "        if len(points) > values.ndim:\n",
    "            raise ValueError(\"There are %d point arrays, but values has %d \"\n",
    "                             \"dimensions\" % (len(points), values.ndim))\n",
    "\n",
    "        if hasattr(values, 'dtype') and hasattr(values, 'astype'):\n",
    "            if not np.issubdtype(values.dtype, np.inexact):\n",
    "                values = values.astype(float)\n",
    "\n",
    "        self.fill_value = fill_value\n",
    "        if fill_value is not None:\n",
    "            fill_value_dtype = np.asarray(fill_value).dtype\n",
    "            if (hasattr(values, 'dtype') and not\n",
    "                    np.can_cast(fill_value_dtype, values.dtype,\n",
    "                                casting='same_kind')):\n",
    "                raise ValueError(\"fill_value must be either 'None' or \"\n",
    "                                 \"of a type compatible with values\")\n",
    "\n",
    "        for i, p in enumerate(points):\n",
    "            if not np.all(np.diff(p) > 0.):\n",
    "                raise ValueError(\"The points in dimension %d must be strictly \"\n",
    "                                 \"ascending\" % i)\n",
    "            if not np.asarray(p).ndim == 1:\n",
    "                raise ValueError(\"The points in dimension %d must be \"\n",
    "                                 \"1-dimensional\" % i)\n",
    "            if not values.shape[i] == len(p):\n",
    "                raise ValueError(\"There are %d points and %d values in \"\n",
    "                                 \"dimension %d\" % (len(p), values.shape[i], i))\n",
    "        self.grid = tuple([np.asarray(p) for p in points])\n",
    "        self.values = values\n",
    "\n",
    "    def __call__(self, xi, method=None):\n",
    "        \"\"\"\n",
    "        Interpolation at coordinates\n",
    "        Parameters\n",
    "        ----------\n",
    "        xi : ndarray of shape (..., ndim)\n",
    "            The coordinates to sample the gridded data at\n",
    "        method : str\n",
    "            The method of interpolation to perform. Supported are \"linear\" and\n",
    "            \"nearest\".\n",
    "        \"\"\"\n",
    "        method = self.method if method is None else method\n",
    "        if method not in [\"linear\", \"nearest\"]:\n",
    "            raise ValueError(\"Method '%s' is not defined\" % method)\n",
    "\n",
    "        ndim = len(self.grid)\n",
    "        xi = _ndim_coords_from_arrays(xi, ndim=ndim)\n",
    "        if xi.shape[-1] != len(self.grid):\n",
    "            raise ValueError(\"The requested sample points xi have dimension \"\n",
    "                             \"%d, but this RegularGridInterpolator has \"\n",
    "                             \"dimension %d\" % (xi.shape[1], ndim))\n",
    "\n",
    "        xi_shape = xi.shape\n",
    "        xi = xi.reshape(-1, xi_shape[-1])\n",
    "\n",
    "        if self.bounds_error:\n",
    "            for idx, pnt in enumerate(xi.T):\n",
    "                if not np.logical_and(np.all(self.grid[idx][0] <= pnt),\n",
    "                                      np.all(pnt <= self.grid[idx][-1])):\n",
    "                    raise ValueError(\"One of the requested xi is out of bounds \"\n",
    "                                     \"in dimension %d\" % idx)\n",
    "        indices, norm_distances, out_of_bounds = self._find_indices(xi.T)\n",
    "        if method == \"linear\":\n",
    "            result = self._evaluate_linear(indices,\n",
    "                                           norm_distances,\n",
    "                                           out_of_bounds)\n",
    "        elif method == \"nearest\":\n",
    "            result = self._evaluate_nearest(indices,\n",
    "                                            norm_distances,\n",
    "                                            out_of_bounds)\n",
    "        if not self.bounds_error and self.fill_value is not None:\n",
    "            result[out_of_bounds] = self.fill_value\n",
    "\n",
    "        return result.reshape(xi_shape[:-1] + self.values.shape[ndim:])\n",
    "\n",
    "    def _evaluate_linear(self, indices, norm_distances, out_of_bounds):\n",
    "        pdb.set_trace()\n",
    "        # slice for broadcasting over trailing dimensions in self.values\n",
    "        vslice = (slice(None),) + (None,)*(self.values.ndim - len(indices))\n",
    "\n",
    "        # find relevant values\n",
    "        # each i and i+1 represents a edge\n",
    "        edges = itertools.product(*[[i, i + 1] for i in indices])\n",
    "        values = 0.\n",
    "        for edge_indices in edges:\n",
    "            weight = 1.\n",
    "            for ei, i, yi in zip(edge_indices, indices, norm_distances):\n",
    "                weight *= np.where(ei == i, 1 - yi, yi)\n",
    "            values += np.asarray(self.values[edge_indices]) * weight[vslice]\n",
    "        return values\n",
    "\n",
    "    def _evaluate_nearest(self, indices, norm_distances, out_of_bounds):\n",
    "        idx_res = [np.where(yi <= .5, i, i + 1)\n",
    "                   for i, yi in zip(indices, norm_distances)]\n",
    "        return self.values[tuple(idx_res)]\n",
    "\n",
    "    def _find_indices(self, xi):\n",
    "        # find relevant edges between which xi are situated\n",
    "        indices = []\n",
    "        # compute distance to lower edge in unity units\n",
    "        norm_distances = []\n",
    "        # check for out of bounds xi\n",
    "        out_of_bounds = np.zeros((xi.shape[1]), dtype=bool)\n",
    "        # iterate through dimensions\n",
    "        for x, grid in zip(xi, self.grid):\n",
    "            idx = np.searchsorted(grid, x) - 1\n",
    "            idx[idx < 0] = 0\n",
    "            idx[idx > grid.size - 2] = grid.size - 2\n",
    "            indices.append(idx)\n",
    "            norm_distances.append((x - grid[idx]) /\n",
    "                                  (grid[idx + 1] - grid[idx]))\n",
    "            if not self.bounds_error:\n",
    "                out_of_bounds += x < grid[0]\n",
    "                out_of_bounds += x > grid[-1]\n",
    "        return indices, norm_distances, out_of_bounds"
   ]
  },
  {
   "cell_type": "code",
   "execution_count": null,
   "metadata": {},
   "outputs": [
    {
     "name": "stdout",
     "output_type": "stream",
     "text": [
      "> <ipython-input-25-03d8e83107bb>(167)_evaluate_linear()\n",
      "-> vslice = (slice(None),) + (None,)*(self.values.ndim - len(indices))\n"
     ]
    }
   ],
   "source": [
    "ice_grid_function = RegularGridInterpolator((uLongs, uLats), vGrid)\n",
    "\n",
    "#pts = np.array([[5.25, -67.123], [4.25, -74.123]])\n",
    "pts = np.array([[5.25, -67.123]])\n",
    "ice_grid_function(pts)"
   ]
  },
  {
   "cell_type": "code",
   "execution_count": 71,
   "metadata": {},
   "outputs": [
    {
     "data": {
      "text/plain": [
       "array([[  5.25 , -67.123]])"
      ]
     },
     "execution_count": 71,
     "metadata": {},
     "output_type": "execute_result"
    }
   ],
   "source": [
    "pts"
   ]
  },
  {
   "cell_type": "markdown",
   "metadata": {},
   "source": [
    "# scratch\n",
    "\n",
    "/// x1, y1, x2, y2 forms a rectangle of coordinates\n",
    "/// v11 represents the value at x1, y1\n",
    "/// v12 represents the value at x1, y2\n",
    "/// v21 represents the value at x2, y1\n",
    "/// v22 represents the value at x2, y2\n",
    "struct BilinearData {\n",
    "    x1: f64,\n",
    "    y1: f64,\n",
    "    x2: f64,\n",
    "    y2: f64,\n",
    "    v11: f64,\n",
    "    v12: f64,\n",
    "    v21: f64,\n",
    "    v22: f64,\n",
    "}\n",
    "\n",
    "// approximates the value of the function f at x,y using bilinear interpolation\n",
    "fn interpolate(x: f64, y: f64, f: BilinearData) -> f64 {\n",
    "    let dx1 = x - f.x1;\n",
    "    let dx2 = f.x2 - x;\n",
    "    let dy1 = y - f.y1;\n",
    "    let dy2 = f.y2 - y;\n",
    "    let scaled = f.v11 * dx2 * dy2\n",
    "               + f.v21 * dx1 * dy2\n",
    "               + f.v12 * dx2 * dy1\n",
    "               + f.v22 * dx1 * dy1;\n",
    "    scaled / ((f.x2 - f.x1) * (f.y2 - f.y1))\n",
    "}"
   ]
  },
  {
   "cell_type": "code",
   "execution_count": null,
   "metadata": {},
   "outputs": [],
   "source": []
  }
 ],
 "metadata": {
  "kernelspec": {
   "display_name": "Python argo",
   "language": "python",
   "name": "argo"
  },
  "language_info": {
   "codemirror_mode": {
    "name": "ipython",
    "version": 3
   },
   "file_extension": ".py",
   "mimetype": "text/x-python",
   "name": "python",
   "nbconvert_exporter": "python",
   "pygments_lexer": "ipython3",
   "version": "3.6.10"
  }
 },
 "nbformat": 4,
 "nbformat_minor": 4
}
