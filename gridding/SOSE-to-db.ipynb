{
 "cells": [
  {
   "cell_type": "code",
   "execution_count": 1,
   "metadata": {
    "collapsed": true
   },
   "outputs": [],
   "source": [
    "import numpy as np\n",
    "import pandas as pd\n",
    "import xarray as xr\n",
    "import pymongo\n",
    "import pdb\n",
    "from datetime import datetime, timedelta\n",
    "from dateutil.relativedelta import *\n",
    "from scipy.io import loadmat\n",
    "import os\n",
    "import glob"
   ]
  },
  {
   "cell_type": "code",
   "execution_count": 45,
   "metadata": {},
   "outputs": [],
   "source": [
    "def transform_lon(lon):\n",
    "    '''\n",
    "    Transforms longitude from absolute to -180 to 180 deg\n",
    "    '''\n",
    "    if lon >= 180:\n",
    "        lon -= 360\n",
    "    return lon\n",
    "\n",
    "def make_docs(df, date, presLevel, dataVariable, param, measurement, gridName, units, nChunks):\n",
    "    '''\n",
    "    Takes df and converts it into a document for mongodb\n",
    "    '''\n",
    "    docs = []\n",
    "    df = df.rename(index=str, columns={dataVariable: 'value'})\n",
    "    dataDict = df.to_dict(orient='records')\n",
    "    for idx in range(0, nChunks):\n",
    "        doc = {}\n",
    "        doc['gridName'] = gridName\n",
    "        doc['measurement'] = measurement #temperature or psal\n",
    "        doc['units'] = units # degrees celsius or psu\n",
    "        doc['data'] = list(divide_chunks(dataDict, nChunks))\n",
    "        doc['variable'] = dataVariable # ARGO_TEMPERATURE_ANOMALY or ARGO_TEMPERATURE_MEAN or total\n",
    "        doc['date'] = date\n",
    "        doc['pres'] = presLevel\n",
    "        doc['param'] = param # anomaly, mean, or total\n",
    "        doc['cellsize'] = 1  #  Degree\n",
    "        doc['NODATA_value'] = np.NaN\n",
    "        docs.append(doc)\n",
    "    return docs\n",
    "\n",
    "def create_grid_df(chunk, latName, longName):\n",
    "    df = chunk.to_dataframe()\n",
    "    df = df.reset_index()\n",
    "    df = df.rename(columns={latName:'lat', longName: 'lon', 'Z': 'pres'})\n",
    "    df['lon'] = df['lon'].apply(lambda lon: transform_lon(lon))\n",
    "    return df\n",
    "\n",
    "def divide_chunks(gridData, nChunks): \n",
    "    # Yield successive nChunks\n",
    "    # chunks from list gridData. \n",
    "    # looping till length l \n",
    "    for i in range(0, len(gridData), nChunks):  \n",
    "        yield gridData[i:i + nChunks]\n",
    "def format_date(date):\n",
    "    return datetime.strptime(str(date.year)+'-'+str(date.month), '%Y-%m')\n",
    "    \n",
    "def insert_pres_time_grid(da, coll, param, measurement, gridName, latName, longName, units,\n",
    "                          dataVariable, maskName, nChunks=5):\n",
    "    baseDate = datetime.strptime('2008-01-01', '%Y-%m-%d')\n",
    "    for sec, chunk in da.groupby('time'):\n",
    "        date = baseDate + timedelta(seconds=int(sec))\n",
    "        date = format_date(date)\n",
    "        print(date)\n",
    "        df = create_grid_df(chunk, latName, longName)\n",
    "        pdb.set_trace()\n",
    "        df[param] = df[param] = df.loc[(df[maskName] != 1), param] = np.NaN\n",
    "        for pdx, presDf in df.groupby('pres'):\n",
    "            if not pdx in [-2.1, -12.15, -95, -1800]:\n",
    "                continue\n",
    "            presDf['pres'] = presDf['pres'].apply(lambda x: np.round(-1 * x, 5))\n",
    "            presDf = presDf.drop(['time', 'pres', 'iter', 'drF', 'Depth', 'rA', 'hFacC'], axis=1)\n",
    "            docs = make_docs(presDf, date, pdx, dataVariable, param, measurement, gridName, units, nChunks)\n",
    "            coll.insert_many(docs)\n"
   ]
  },
  {
   "cell_type": "code",
   "execution_count": 46,
   "metadata": {
    "collapsed": true
   },
   "outputs": [],
   "source": [
    "def create_collection(dbName, collectionName):\n",
    "    dbUrl = 'mongodb://localhost:27017/'\n",
    "    client = pymongo.MongoClient(dbUrl)\n",
    "    db = client[dbName]\n",
    "    coll = db[collectionName]\n",
    "    coll = init_profiles_collection(coll)\n",
    "    return coll\n",
    "\n",
    "def init_profiles_collection(coll):\n",
    "    try:\n",
    "        coll.create_index([('date', pymongo.DESCENDING)])\n",
    "        coll.create_index([('pres', pymongo.DESCENDING)])\n",
    "        coll.create_index([('data.lat', pymongo.DESCENDING)])\n",
    "        coll.create_index([('data.lon', pymongo.ASCENDING)])\n",
    "        \n",
    "        #may want to store as geojson feature collection one day\n",
    "        #coll.create_index([('data.geometries', pymongo.GEOSPHERE)])\n",
    "\n",
    "    except:\n",
    "        logging.warning('not able to get collections or set indexes')\n",
    "    return coll"
   ]
  },
  {
   "cell_type": "markdown",
   "metadata": {},
   "source": [
    "so.info()"
   ]
  },
  {
   "cell_type": "markdown",
   "metadata": {},
   "source": [
    "[(np.round(x, 5), x) for x in np.unique(so.Z.data).astype(np.float64)]"
   ]
  },
  {
   "cell_type": "markdown",
   "metadata": {},
   "source": [
    "np.unique(so.Depth.data)"
   ]
  },
  {
   "cell_type": "code",
   "execution_count": 47,
   "metadata": {},
   "outputs": [
    {
     "ename": "SyntaxError",
     "evalue": "invalid syntax (<ipython-input-47-901dfe36f455>, line 1)",
     "output_type": "error",
     "traceback": [
      "\u001b[0;36m  File \u001b[0;32m\"<ipython-input-47-901dfe36f455>\"\u001b[0;36m, line \u001b[0;32m1\u001b[0m\n\u001b[0;31m    np.unique(so.hFacC.data).()\u001b[0m\n\u001b[0m                             ^\u001b[0m\n\u001b[0;31mSyntaxError\u001b[0m\u001b[0;31m:\u001b[0m invalid syntax\n"
     ]
    }
   ],
   "source": [
    "np.unique(so.hFacC.data).()"
   ]
  },
  {
   "cell_type": "code",
   "execution_count": 48,
   "metadata": {},
   "outputs": [
    {
     "name": "stdout",
     "output_type": "stream",
     "text": [
      "xarray.Dataset {\n",
      "dimensions:\n",
      "\tXC = 1080 ;\n",
      "\tYC = 294 ;\n",
      "\tZ = 52 ;\n",
      "\ttime = 60 ;\n",
      "\n",
      "variables:\n",
      "\tint64 iter(time) ;\n",
      "\t\titer:long_name = model timestep number ;\n",
      "\t\titer:standard_name = timestep ;\n",
      "\tint64 time(time) ;\n",
      "\t\ttime:long_name = Time ;\n",
      "\t\ttime:standard_name = time ;\n",
      "\t\ttime:axis = T ;\n",
      "\t\ttime:units = seconds since 2008-01-01 ;\n",
      "\t\ttime:calendar = proleptic_gregorian ;\n",
      "\tfloat32 XC(XC) ;\n",
      "\t\tXC:coordinate = YC XC ;\n",
      "\t\tXC:units = degrees_east ;\n",
      "\t\tXC:standard_name = longitude ;\n",
      "\t\tXC:long_name = longitude ;\n",
      "\t\tXC:axis = X ;\n",
      "\tfloat32 YC(YC) ;\n",
      "\t\tYC:coordinate = YC XC ;\n",
      "\t\tYC:units = degrees_north ;\n",
      "\t\tYC:standard_name = latitude ;\n",
      "\t\tYC:long_name = latitude ;\n",
      "\t\tYC:axis = Y ;\n",
      "\tfloat32 Z(Z) ;\n",
      "\t\tZ:units = m ;\n",
      "\t\tZ:positive = down ;\n",
      "\t\tZ:standard_name = depth ;\n",
      "\t\tZ:long_name = vertical coordinate of cell center ;\n",
      "\t\tZ:axis = Z ;\n",
      "\tfloat32 Depth(YC, XC) ;\n",
      "\t\tDepth:coordinate = XC YC ;\n",
      "\t\tDepth:units = m ;\n",
      "\t\tDepth:standard_name = ocean_depth ;\n",
      "\t\tDepth:long_name = ocean depth ;\n",
      "\tfloat32 rA(YC, XC) ;\n",
      "\t\trA:coordinate = YC XC ;\n",
      "\t\trA:units = m2 ;\n",
      "\t\trA:standard_name = cell_area ;\n",
      "\t\trA:long_name = cell area ;\n",
      "\tfloat32 drF(Z) ;\n",
      "\t\tdrF:units = m ;\n",
      "\t\tdrF:long_name = cell z size ;\n",
      "\t\tdrF:standard_name = cell_z_size ;\n",
      "\tfloat32 hFacC(Z, YC, XC) ;\n",
      "\t\thFacC:long_name = vertical fraction of open cell ;\n",
      "\t\thFacC:standard_name = cell_vertical_fraction ;\n",
      "\tfloat32 TRAC03(time, Z, YC, XC) ;\n",
      "\t\tTRAC03:units = mol O/m ;\n",
      "\t\tTRAC03:long_name = Dissolved Oxygen concentration ;\n",
      "\t\tTRAC03:standard_name = TRAC03 ;\n",
      "\n",
      "// global attributes:\n",
      "}"
     ]
    }
   ],
   "source": [
    "soFilename = '/storage/bsose/bsose_i105_2008to2012_monthly_O2.nc'\n",
    "so = xr.open_dataset(soFilename, decode_times=False)\n",
    "so.info()"
   ]
  },
  {
   "cell_type": "code",
   "execution_count": 49,
   "metadata": {},
   "outputs": [],
   "source": [
    "dataVariable='TRAC03'\n",
    "soDataArray = so[dataVariable]\n",
    "param='TRAC03'\n",
    "maskName='hFacC'\n",
    "measurement='doxy'\n",
    "latName = 'YC'\n",
    "longName = 'XC'\n",
    "gridName='soseDoxy'\n",
    "units = 'mol O/m'\n",
    "dbName = 'argo'\n",
    "nChunks = 5"
   ]
  },
  {
   "cell_type": "markdown",
   "metadata": {},
   "source": [
    "# Sea Ice"
   ]
  },
  {
   "cell_type": "code",
   "execution_count": 80,
   "metadata": {
    "collapsed": true
   },
   "outputs": [],
   "source": [
    "def format_date(date):\n",
    "    '''keeps only the year and month of the date object'''\n",
    "    return datetime.strptime(str(date.year)+'-'+str(date.month), '%Y-%m')\n",
    "\n",
    "def insert_time_grid(da, coll, param, measurement, gridName, latName, longName, units,\n",
    "                          dataVariable, maskName, nChunks=5):\n",
    "    baseDate = datetime.strptime('2013-01-01', '%Y-%m-%d')\n",
    "    presLevel = 0\n",
    "    for sec, chunk in da.groupby('t'):\n",
    "        date = baseDate + timedelta(seconds=int(sec))\n",
    "        date = format_date(date)\n",
    "        print(date)\n",
    "        df = create_grid_df(chunk, latName, longName)\n",
    "        df = df.rename(columns={'t': 'time'})\n",
    "        df = df.drop(['time'], axis=1)\n",
    "        df.lat = df.lat.round(3)\n",
    "        df.lon = df.lon.round(3)\n",
    "        docs = make_docs(df, date, presLevel, dataVariable, param, measurement, gridName, units, nChunks)\n",
    "        coll.insert_many(docs)"
   ]
  },
  {
   "cell_type": "code",
   "execution_count": 81,
   "metadata": {},
   "outputs": [
    {
     "name": "stdout",
     "output_type": "stream",
     "text": [
      "xarray.Dataset {\n",
      "dimensions:\n",
      "\tt = 72 ;\n",
      "\tx = 360 ;\n",
      "\ty = 98 ;\n",
      "\n",
      "variables:\n",
      "\tfloat32 t(t) ;\n",
      "\t\tt:units = seconds since 2013-01-01 ;\n",
      "\tfloat32 x(x) ;\n",
      "\t\tx:units = degrees East ;\n",
      "\tfloat32 y(y) ;\n",
      "\t\ty:units = degrees North ;\n",
      "\tfloat64 SIarea(t, y, x) ;\n",
      "\t\tSIarea:units = m^2/m^2 ;\n",
      "\t\tSIarea:long_name = SEAICE fractional ice-covered area [0 to 1] ;\n",
      "\t\tSIarea:standard_name = SIarea ;\n",
      "\n",
      "// global attributes:\n",
      "}"
     ]
    }
   ],
   "source": [
    "soFilename = '/storage/bsose/bsose_i133_2013to2018_1deg_monthly_SeaIceArea.nc'\n",
    "so = xr.open_dataset(soFilename, decode_times=False)\n",
    "so.info()"
   ]
  },
  {
   "cell_type": "code",
   "execution_count": 89,
   "metadata": {},
   "outputs": [
    {
     "data": {
      "text/plain": [
       "<xarray.DataArray 'y' (y: 98)>\n",
       "array([-77.89544 , -77.683945, -77.46881 , -77.24999 , -77.0274  , -76.800995,\n",
       "       -76.57072 , -76.33649 , -76.09825 , -75.85595 , -75.60951 , -75.358864,\n",
       "       -75.10396 , -74.84472 , -74.58106 , -74.31294 , -74.04026 , -73.76299 ,\n",
       "       -73.481026, -73.1943  , -72.90275 , -72.6063  , -72.30486 , -71.99836 ,\n",
       "       -71.686745, -71.36991 , -71.0478  , -70.72034 , -70.38742 , -70.04899 ,\n",
       "       -69.70496 , -69.355255, -68.99979 , -68.63849 , -68.27126 , -67.89803 ,\n",
       "       -67.518715, -67.13325 , -66.741516, -66.34345 , -65.93899 , -65.528015,\n",
       "       -65.11046 , -64.68624 , -64.25529 , -63.8175  , -63.3728  , -62.92111 ,\n",
       "       -62.46234 , -61.996414, -61.52326 , -61.04279 , -60.554928, -60.05959 ,\n",
       "       -59.556713, -59.0462  , -58.52799 , -58.00201 , -57.46819 , -56.926456,\n",
       "       -56.376743, -55.818985, -55.25311 , -54.67906 , -54.096783, -53.506214,\n",
       "       -52.9073  , -52.29999 , -51.68424 , -51.059998, -50.427227, -49.785877,\n",
       "       -49.135937, -48.47737 , -47.81012 , -47.134186, -46.449554, -45.75621 ,\n",
       "       -45.054134, -44.343334, -43.62381 , -42.895573, -42.158634, -41.413017,\n",
       "       -40.658756, -39.89586 , -39.124363, -38.344326, -37.555805, -36.75885 ,\n",
       "       -35.95352 , -35.139896, -34.318054, -33.488094, -32.650097, -31.804174,\n",
       "       -30.95044 , -30.08657 ], dtype=float32)\n",
       "Coordinates:\n",
       "  * y        (y) float32 -77.89544 -77.683945 -77.46881 ... -30.95044 -30.08657\n",
       "Attributes:\n",
       "    units:    degrees North"
      ]
     },
     "execution_count": 89,
     "metadata": {},
     "output_type": "execute_result"
    }
   ],
   "source": [
    "so.y.to"
   ]
  },
  {
   "cell_type": "code",
   "execution_count": 90,
   "metadata": {},
   "outputs": [
    {
     "data": {
      "text/plain": [
       "array([0.211495, 0.215135, 0.21882 , 0.22259 , 0.226405, 0.230275,\n",
       "       0.23423 , 0.23824 , 0.2423  , 0.24644 , 0.250646, 0.254904,\n",
       "       0.25924 , 0.26366 , 0.26812 , 0.27268 , 0.27727 , 0.281964,\n",
       "       0.286726, 0.29155 , 0.29645 , 0.30144 , 0.3065  , 0.311615,\n",
       "       0.316835, 0.32211 , 0.32746 , 0.33292 , 0.33843 , 0.34403 ,\n",
       "       0.349705, 0.355465, 0.3613  , 0.36723 , 0.37323 , 0.379315,\n",
       "       0.385465, 0.391734, 0.398066, 0.40446 , 0.410975, 0.417555,\n",
       "       0.42422 , 0.43095 , 0.43779 , 0.4447  , 0.45169 , 0.45877 ,\n",
       "       0.465926, 0.473154, 0.48047 , 0.487862, 0.495338, 0.502877,\n",
       "       0.510513, 0.51821 , 0.52598 , 0.53382 , 0.541734, 0.549713,\n",
       "       0.557758, 0.565875, 0.57405 , 0.582277, 0.590569, 0.598914,\n",
       "       0.60731 , 0.61575 , 0.624242, 0.632771, 0.64135 , 0.64994 ,\n",
       "       0.658567, 0.66725 , 0.675934, 0.684632, 0.693344, 0.702076,\n",
       "       0.7108  , 0.719524, 0.728237, 0.736939, 0.745617, 0.754261,\n",
       "       0.762896, 0.771497, 0.780037, 0.788521, 0.796955, 0.80533 ,\n",
       "       0.813624, 0.821842, 0.82996 , 0.837997, 0.845923, 0.853734,\n",
       "       0.86387 ])"
      ]
     },
     "execution_count": 90,
     "metadata": {},
     "output_type": "execute_result"
    }
   ],
   "source": [
    "np.diff([-77.89544 , -77.683945, -77.46881 , -77.24999 , -77.0274  , -76.800995,\n",
    "       -76.57072 , -76.33649 , -76.09825 , -75.85595 , -75.60951 , -75.358864,\n",
    "       -75.10396 , -74.84472 , -74.58106 , -74.31294 , -74.04026 , -73.76299 ,\n",
    "       -73.481026, -73.1943  , -72.90275 , -72.6063  , -72.30486 , -71.99836 ,\n",
    "       -71.686745, -71.36991 , -71.0478  , -70.72034 , -70.38742 , -70.04899 ,\n",
    "       -69.70496 , -69.355255, -68.99979 , -68.63849 , -68.27126 , -67.89803 ,\n",
    "       -67.518715, -67.13325 , -66.741516, -66.34345 , -65.93899 , -65.528015,\n",
    "       -65.11046 , -64.68624 , -64.25529 , -63.8175  , -63.3728  , -62.92111 ,\n",
    "       -62.46234 , -61.996414, -61.52326 , -61.04279 , -60.554928, -60.05959 ,\n",
    "       -59.556713, -59.0462  , -58.52799 , -58.00201 , -57.46819 , -56.926456,\n",
    "       -56.376743, -55.818985, -55.25311 , -54.67906 , -54.096783, -53.506214,\n",
    "       -52.9073  , -52.29999 , -51.68424 , -51.059998, -50.427227, -49.785877,\n",
    "       -49.135937, -48.47737 , -47.81012 , -47.134186, -46.449554, -45.75621 ,\n",
    "       -45.054134, -44.343334, -43.62381 , -42.895573, -42.158634, -41.413017,\n",
    "       -40.658756, -39.89586 , -39.124363, -38.344326, -37.555805, -36.75885 ,\n",
    "       -35.95352 , -35.139896, -34.318054, -33.488094, -32.650097, -31.804174,\n",
    "       -30.95044 , -30.08657 ])"
   ]
  },
  {
   "cell_type": "code",
   "execution_count": 83,
   "metadata": {},
   "outputs": [],
   "source": [
    "soFilename = '/storage/bsose/bsose_i133_2013to2018_1deg_monthly_SeaIceArea.nc'\n",
    "so = xr.open_dataset(soFilename, decode_times=False)\n",
    "dataVariable='SIarea'\n",
    "soDataArray = so[dataVariable]\n",
    "param='SIarea'\n",
    "maskName=None\n",
    "measurement='SIarea'\n",
    "gridName='soseSIarea'\n",
    "latName = 'y'\n",
    "longName = 'x'\n",
    "units = 'm^2/m^2'\n",
    "dbName = 'argo'\n",
    "nChunks = 1"
   ]
  },
  {
   "cell_type": "code",
   "execution_count": 84,
   "metadata": {},
   "outputs": [
    {
     "name": "stdout",
     "output_type": "stream",
     "text": [
      "2013-01-01 00:00:00\n",
      "2013-02-01 00:00:00\n",
      "2013-03-01 00:00:00\n",
      "2013-04-01 00:00:00\n",
      "2013-05-01 00:00:00\n",
      "2013-06-01 00:00:00\n",
      "2013-07-01 00:00:00\n",
      "2013-08-01 00:00:00\n",
      "2013-09-01 00:00:00\n",
      "2013-10-01 00:00:00\n",
      "2013-11-01 00:00:00\n",
      "2013-12-01 00:00:00\n",
      "2014-01-01 00:00:00\n",
      "2014-02-01 00:00:00\n",
      "2014-03-01 00:00:00\n",
      "2014-04-01 00:00:00\n",
      "2014-05-01 00:00:00\n",
      "2014-06-01 00:00:00\n",
      "2014-07-01 00:00:00\n",
      "2014-08-01 00:00:00\n",
      "2014-09-01 00:00:00\n",
      "2014-10-01 00:00:00\n",
      "2014-11-01 00:00:00\n",
      "2014-12-01 00:00:00\n",
      "2015-01-01 00:00:00\n",
      "2015-02-01 00:00:00\n",
      "2015-03-01 00:00:00\n",
      "2015-04-01 00:00:00\n",
      "2015-05-01 00:00:00\n",
      "2015-06-01 00:00:00\n",
      "2015-07-01 00:00:00\n",
      "2015-08-01 00:00:00\n",
      "2015-09-01 00:00:00\n",
      "2015-10-01 00:00:00\n",
      "2015-11-01 00:00:00\n",
      "2015-12-01 00:00:00\n",
      "2016-01-01 00:00:00\n",
      "2016-02-01 00:00:00\n",
      "2016-03-01 00:00:00\n",
      "2016-04-01 00:00:00\n",
      "2016-05-01 00:00:00\n",
      "2016-06-01 00:00:00\n",
      "2016-07-01 00:00:00\n",
      "2016-08-01 00:00:00\n",
      "2016-09-01 00:00:00\n",
      "2016-10-01 00:00:00\n",
      "2016-11-01 00:00:00\n",
      "2016-12-01 00:00:00\n",
      "2017-01-01 00:00:00\n",
      "2017-02-01 00:00:00\n",
      "2017-03-01 00:00:00\n",
      "2017-04-01 00:00:00\n",
      "2017-05-01 00:00:00\n",
      "2017-06-01 00:00:00\n",
      "2017-07-01 00:00:00\n",
      "2017-08-01 00:00:00\n",
      "2017-09-01 00:00:00\n",
      "2017-10-01 00:00:00\n",
      "2017-11-01 00:00:00\n",
      "2017-12-01 00:00:00\n",
      "2018-01-01 00:00:00\n",
      "2018-02-01 00:00:00\n",
      "2018-03-01 00:00:00\n",
      "2018-04-01 00:00:00\n",
      "2018-05-01 00:00:00\n",
      "2018-06-01 00:00:00\n",
      "2018-07-01 00:00:00\n",
      "2018-08-01 00:00:00\n",
      "2018-09-01 00:00:00\n",
      "2018-10-01 00:00:00\n",
      "2018-11-01 00:00:00\n",
      "2018-12-01 00:00:00\n"
     ]
    }
   ],
   "source": [
    "coll = create_collection(dbName, gridName)\n",
    "coll.drop()\n",
    "insert_time_grid(soDataArray, coll, param, \n",
    "                      measurement, gridName, latName, longName, units,\n",
    "                      param, maskName, nChunks)"
   ]
  },
  {
   "cell_type": "code",
   "execution_count": 32,
   "metadata": {},
   "outputs": [
    {
     "data": {
      "text/plain": [
       "datetime.datetime(2013, 1, 1, 0, 0)"
      ]
     },
     "execution_count": 32,
     "metadata": {},
     "output_type": "execute_result"
    }
   ],
   "source": [
    "datetime.strptime('2013-1', '%Y-%m')"
   ]
  },
  {
   "cell_type": "code",
   "execution_count": null,
   "metadata": {
    "collapsed": true
   },
   "outputs": [],
   "source": []
  }
 ],
 "metadata": {
  "kernelspec": {
   "display_name": "Python AR",
   "language": "python",
   "name": "ar"
  },
  "language_info": {
   "codemirror_mode": {
    "name": "ipython",
    "version": 3
   },
   "file_extension": ".py",
   "mimetype": "text/x-python",
   "name": "python",
   "nbconvert_exporter": "python",
   "pygments_lexer": "ipython3",
   "version": "3.6.7"
  }
 },
 "nbformat": 4,
 "nbformat_minor": 2
}
