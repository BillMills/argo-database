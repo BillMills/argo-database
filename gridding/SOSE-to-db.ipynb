{
 "cells": [
  {
   "cell_type": "code",
   "execution_count": 1,
   "metadata": {},
   "outputs": [],
   "source": [
    "import numpy as np\n",
    "import pandas as pd\n",
    "import xarray as xr\n",
    "import pymongo\n",
    "import pdb\n",
    "from datetime import datetime, timedelta\n",
    "from dateutil.relativedelta import *\n",
    "from scipy.io import loadmat\n",
    "import os\n",
    "import glob\n",
    "import matplotlib.pyplot as plt\n",
    "from scipy.interpolate import griddata"
   ]
  },
  {
   "cell_type": "markdown",
   "metadata": {},
   "source": [
    "This notebook converts BSOSE gridded data into mongoDB documents. Data can be sparse, as seen in sea ice. The SOSE grid is nonuniform in latitude. \n",
    "\n",
    "MongoDB stores grids as BSON objects which have a limit of 16MB per document. Many of the finer scaled BSOSE grids are broken up into several smaller 'chunks' in order to be converted into BSON objects."
   ]
  },
  {
   "cell_type": "code",
   "execution_count": 2,
   "metadata": {},
   "outputs": [],
   "source": [
    "def transform_lon(lon):\n",
    "    '''\n",
    "    Transforms longitude from absolute to -180 to 180 deg\n",
    "    '''\n",
    "    if lon >= 180:\n",
    "        lon -= 360\n",
    "    return lon\n",
    "\n",
    "def make_docs(df, date, presLevel, dataVariable, param, measurement, gridName, units, nChunks, sortBy=['lon', 'lat'], sparse=False):\n",
    "    '''\n",
    "    Takes df and converts it into a document for mongodb\n",
    "    '''\n",
    "    docs = []\n",
    "    if sparse:\n",
    "        df = df[df[dataVariable] != 0]\n",
    "    df = df.rename(index=str, columns={dataVariable: 'value'})\n",
    "    df = df.sort_values(by=sortBy) # sort by (lon, lat) or by (lat, _then_ lon).\n",
    "    df = df[['lat', 'lon', 'value']] # drop other columns if exist\n",
    "    df['value'] = df['value']\n",
    "    dataDict = df.to_dict(orient='records')\n",
    "    dataChunks = np.array_split(np.array(dataDict), nChunks)\n",
    "    for idx in range(0, nChunks):\n",
    "        doc = {}\n",
    "        doc['gridName'] = gridName\n",
    "        doc['measurement'] = measurement #ie temperature or psal\n",
    "        doc['units'] = units # ie celsius or psu\n",
    "        doc['data'] = dataChunks[idx].tolist()\n",
    "        doc['variable'] = dataVariable # ie ARGO_TEMPERATURE_ANOMALY\n",
    "        doc['date'] = date\n",
    "        doc['pres'] = presLevel\n",
    "        doc['param'] = param # ie anomaly, mean, or total\n",
    "        doc['cellsize'] = 1  #  in degrees\n",
    "        doc['NODATA_value'] = np.NaN\n",
    "        doc['chunk'] = idx\n",
    "        docs.append(doc)\n",
    "    return docs\n",
    "\n",
    "def create_grid_df(chunk, latName, longName):\n",
    "    df = chunk.to_dataframe()\n",
    "    df = df.reset_index()\n",
    "    df = df.rename(columns={latName:'lat', longName: 'lon', 'Z': 'pres'})\n",
    "    df['lon'] = df['lon'].apply(lambda lon: transform_lon(lon))\n",
    "    return df\n",
    "\n",
    "def format_date(date):\n",
    "    return datetime.strptime(str(date.year)+'-'+str(date.month), '%Y-%m')\n",
    "    \n",
    "def insert_pres_time_grid(da, coll, param, measurement, gridName, latName, longName, units,\n",
    "                          dataVariable, maskName, nChunks=5, sortBy=['lon', 'lat'], sparse=False):\n",
    "    baseDate = datetime.strptime('2008-01-01', '%Y-%m-%d')\n",
    "    for sec, chunk in da.groupby('time'):\n",
    "        date = baseDate + timedelta(seconds=int(sec))\n",
    "        date = format_date(date)\n",
    "        print(date)\n",
    "        df = create_grid_df(chunk, latName, longName)\n",
    "        df[param] = df[param] = df.loc[(df[maskName] != 1), param] = np.NaN\n",
    "        for pdx, presDf in df.groupby('pres'):\n",
    "            if not pdx in [-2.1, -12.15, -95, -1800]:\n",
    "                continue\n",
    "            presDf['pres'] = presDf['pres'].apply(lambda x: np.round(-1 * x, 5))\n",
    "            presDf = presDf.drop(['time', 'pres', 'iter', 'drF', 'Depth', 'rA', 'hFacC'], axis=1)\n",
    "            docs = make_docs(presDf, date, pdx, dataVariable, param, measurement, gridName, units, nChunks, sortBy, sparse)\n",
    "            coll.insert_many(docs)\n"
   ]
  },
  {
   "cell_type": "code",
   "execution_count": 3,
   "metadata": {},
   "outputs": [],
   "source": [
    "def create_collection(dbName, collectionName):\n",
    "    dbUrl = 'mongodb://localhost:27017/'\n",
    "    client = pymongo.MongoClient(dbUrl)\n",
    "    db = client[dbName]\n",
    "    coll = db[collectionName]\n",
    "    coll = init_profiles_collection(coll)\n",
    "    return coll\n",
    "\n",
    "def init_profiles_collection(coll):\n",
    "    try:\n",
    "        coll.create_index([('date', pymongo.ASCENDING)])\n",
    "        coll.create_index([('pres', pymongo.ASCENDING)])\n",
    "        coll.create_index([('gridName', pymongo.ASCENDING)])\n",
    "        coll.create_index([('date', pymongo.ASCENDING), ('pres', pymongo.ASCENDING), ('gridName', pymongo.ASCENDING)])\n",
    "        coll.create_index([('data.lat', pymongo.DESCENDING)])\n",
    "        coll.create_index([('data.lon', pymongo.ASCENDING)])\n",
    "    except:\n",
    "        msg = 'not able to get collections or set indexes'\n",
    "        print(msg)\n",
    "        logging.warning(msg)\n",
    "    return coll"
   ]
  },
  {
   "cell_type": "code",
   "execution_count": 10,
   "metadata": {},
   "outputs": [],
   "source": [
    "monthlyO2 = '/storage/bsose/bsose_i105_2008to2012_monthly_O2.nc'\n",
    "storagePath = '/storage/bsose'\n",
    "filename = storagePath + monthlyO2\n",
    "so = xr.open_dataset(filename, decode_times=False)"
   ]
  },
  {
   "cell_type": "code",
   "execution_count": 8,
   "metadata": {},
   "outputs": [],
   "source": [
    "dataVariable='TRAC03'\n",
    "soDataArray = so[dataVariable]\n",
    "param='TRAC03'\n",
    "maskName='hFacC'\n",
    "measurement='doxy'\n",
    "latName = 'YC'\n",
    "longName = 'XC'\n",
    "gridName='sose_doxy'\n",
    "units = 'mol O/m'\n",
    "dbName = 'argo'\n",
    "nChunks = 5"
   ]
  },
  {
   "cell_type": "markdown",
   "metadata": {},
   "source": [
    "coll = create_collection(dbName, gridName)\n",
    "coll.drop()\n",
    "insert_pres_time_grid(soDataArray, coll, param, measurement, gridName, latName, longName, units,\n",
    "                          dataVariable, maskName, nChunks=5)"
   ]
  },
  {
   "cell_type": "markdown",
   "metadata": {},
   "source": [
    "# Sea Ice"
   ]
  },
  {
   "cell_type": "code",
   "execution_count": 18,
   "metadata": {},
   "outputs": [],
   "source": [
    "def format_date(date):\n",
    "    '''keeps only the year and month of the date object'''\n",
    "    return datetime.strptime(str(date.year)+'-'+str(date.month), '%Y-%m')\n",
    "\n",
    "def insert_time_grid(da, coll, param, measurement, gridName, latName, longName, timeName, units,\n",
    "                          dataVariable, maskName, nChunks=5, test=False, baseDate='2012-12-01', sortBy=['lon', 'lat'], sparse=True):\n",
    "    presLevel = 0\n",
    "    group = da.groupby(timeName)\n",
    "    baseDate = datetime.strptime(baseDate, '%Y-%m-%d')\n",
    "    for sec, chunk in da.groupby(timeName):\n",
    "        date = baseDate + timedelta(seconds=int(sec))\n",
    "        date = datetime.strftime(date, '%Y-%m-%d')\n",
    "        if test and date != '2013-01-04':\n",
    "            continue\n",
    "        print(date)\n",
    "        \n",
    "        df = create_grid_df(chunk, latName, longName)\n",
    "        df = df.rename(columns={'t': 'time'}) # rename for monthly\n",
    "        df = df.drop(['time'], axis=1)\n",
    "        df.lat = df.lat.round(3)\n",
    "        df.lon = df.lon.round(3)\n",
    "        docs = make_docs(df, date, presLevel, dataVariable, param, measurement, gridName, units, nChunks, sortBy, sparse)\n",
    "        try:\n",
    "            coll.insert_many(docs)\n",
    "        except:\n",
    "            print(f'date {date} was not added')\n",
    "\n",
    "\n",
    "def create_grid_coord_collection(da, gridName, coll):\n",
    "    lons = np.sort(np.array([transform_lon(lon) for lon in np.unique(np.unique(da.XC.values.round(3))).tolist()]))\n",
    "    lats = np.sort(np.unique(np.unique(da.YC.values.round(3))))\n",
    "    lons = lons.astype(np.float64).round(3).tolist()\n",
    "    lats = lats.astype(np.float64).round(3).tolist()\n",
    "    doc = {'gridName': gridName, 'lats': lats, 'lons': lons}\n",
    "    coll.insert_one(doc)\n",
    "\n",
    "def insert_monthly_grid(da, coll, param, measurement, gridName, latName, longName, timeName, units,\n",
    "                          dataVariable, maskName, nChunks=1, baseDate='2012-01-01', sortBy=['lon', 'lat'], sparse=True):\n",
    "    baseDate = datetime.strptime(baseDate, '%Y-%m-%d')\n",
    "    presLevel = 0\n",
    "    for sec, chunk in da.groupby('t'):\n",
    "        date = baseDate + timedelta(seconds=int(sec))\n",
    "        date = format_date(date)\n",
    "        if not date.year == 2012 and date.month==1 and date.day<=5:\n",
    "            continue\n",
    "        print(date)\n",
    "        df = create_grid_df(chunk, latName, longName)\n",
    "        df = df.rename(columns={'t': 'time'}) # rename for monthly\n",
    "        df = df.drop(['time'], axis=1)\n",
    "        df.lat = df.lat.round(3)\n",
    "        df.lon = df.lon.round(3)\n",
    "        docs = make_docs(df, date, presLevel, dataVariable, param, measurement, gridName, units, nChunks, sortBy, sparse)\n",
    "        coll.insert_many(docs)"
   ]
  },
  {
   "cell_type": "code",
   "execution_count": 19,
   "metadata": {},
   "outputs": [],
   "source": [
    "seaIceDaily = 'bsose_i133_2013to2018_1dy_SeaIceArea.nc'\n",
    "storagePath = '/storage/bsose/'\n",
    "seaIceFilename = storagePath + seaIceDaily\n",
    "so = xr.open_dataset(seaIceFilename, decode_times=False, decode_coords=False)\n",
    "def correct_longitude(lons, dlon=1/6):\n",
    "    '''\n",
    "    longitude should be linear, but data is not uniformly spaced\n",
    "    '''\n",
    "    dlon = 1/6\n",
    "    lon_0 = lons[0]\n",
    "    lon_correct = lambda ldx: dlon * ldx + lon_0\n",
    "    return np.array([ lon_correct(ldx) for ldx in range(0, len(lons))]) \n",
    "    \n",
    "so['XC'] = correct_longitude(so.XC.values)  \n",
    "\n",
    "dataVariable='SIarea'\n",
    "soDataArray = so[dataVariable]\n",
    "param='SIarea'\n",
    "maskName=None\n",
    "measurement='SIarea'\n",
    "gridName='sose_si_area_1_day_sparse'\n",
    "# for 3 day\n",
    "latName = 'YC'\n",
    "longName = 'XC'\n",
    "timeName = 'time'\n",
    "units = 'm^2/m^2'\n",
    "dbName = 'argo-express-test'\n",
    "nChunks = 5"
   ]
  },
  {
   "cell_type": "markdown",
   "metadata": {},
   "source": [
    "\n",
    "dbUrl = 'mongodb://localhost:27017/'\n",
    "client = pymongo.MongoClient(dbUrl)\n",
    "db = client['argo']\n",
    "coll = db['grid_coords']\n",
    "coll.drop()\n",
    "create_grid_coord_collection(soDataArray, gridName, coll)"
   ]
  },
  {
   "cell_type": "markdown",
   "metadata": {},
   "source": [
    "so.info()"
   ]
  },
  {
   "cell_type": "code",
   "execution_count": 20,
   "metadata": {},
   "outputs": [],
   "source": [
    "coll = create_collection(dbName, gridName)\n",
    "coll.drop()"
   ]
  },
  {
   "cell_type": "code",
   "execution_count": 21,
   "metadata": {},
   "outputs": [
    {
     "name": "stdout",
     "output_type": "stream",
     "text": [
      "2013-01-04\n"
     ]
    }
   ],
   "source": [
    "insert_time_grid(soDataArray, coll, param, \n",
    "                      measurement, gridName, latName, longName, timeName, units,\n",
    "                      param, maskName, nChunks, True)"
   ]
  },
  {
   "cell_type": "markdown",
   "metadata": {},
   "source": [
    "soFilename = '/storage/bsose/bsose_i133_2013to2018_1deg_monthly_SeaIceArea.nc'\n",
    "so = xr.open_dataset(soFilename, decode_times=False)\n",
    "#so.info()\n",
    "\n",
    "dataVariable='SIarea'\n",
    "soDataArray = so[dataVariable]\n",
    "param='SIarea'\n",
    "maskName=None\n",
    "measurement='SIarea'\n",
    "gridName='sose_si_area_monthly'\n",
    "# for monthly\n",
    "latName = 'y'\n",
    "longName = 'x'\n",
    "timeName = 't'\n",
    "units = 'm^2/m^2'\n",
    "dbName = 'argo'\n",
    "nChunks = 1"
   ]
  },
  {
   "cell_type": "markdown",
   "metadata": {},
   "source": [
    "so.info()"
   ]
  },
  {
   "cell_type": "markdown",
   "metadata": {},
   "source": [
    "coll = create_collection(dbName, gridName)\n",
    "coll.drop()\n",
    "insert_monthly_grid(soDataArray, coll, param, \n",
    "                      measurement, gridName, latName, longName, timeName, units,\n",
    "                      param, maskName, nChunks)"
   ]
  },
  {
   "cell_type": "markdown",
   "metadata": {},
   "source": [
    "soFilename = '/storage/bsose/bsose_i105_2008to2012_3day_SeaIceArea.nc'\n",
    "so = xr.open_dataset(soFilename, decode_times=False)\n",
    "#so.info()\n",
    "\n",
    "dataVariable='SIarea'\n",
    "soDataArray = so[dataVariable]\n",
    "param='SIarea'\n",
    "maskName=None\n",
    "measurement='SIarea'\n",
    "gridName='sose_si_area_3_day'\n",
    "# for 3 day\n",
    "latName = 'YC'\n",
    "longName = 'XC'\n",
    "timeName = 'time'\n",
    "units = 'm^2/m^2'\n",
    "dbName = 'argo'\n",
    "nChunks = 5"
   ]
  },
  {
   "cell_type": "markdown",
   "metadata": {},
   "source": [
    "so.info()"
   ]
  },
  {
   "cell_type": "markdown",
   "metadata": {},
   "source": [
    "np.unique(np.diff(np.unique(so.XC.values)))"
   ]
  },
  {
   "cell_type": "markdown",
   "metadata": {},
   "source": [
    "coll = create_collection(dbName, gridName)\n",
    "coll.drop()\n",
    "insert_time_grid(soDataArray, coll, param, \n",
    "                      measurement, gridName, latName, longName, timeName, units,\n",
    "                      param, maskName, nChunks)"
   ]
  },
  {
   "cell_type": "markdown",
   "metadata": {},
   "source": [
    "coll = create_collection('argo-express-test', gridName)\n",
    "coll.drop()\n",
    "insert_time_grid(soDataArray, coll, param, \n",
    "                      measurement, gridName, latName, longName, timeName, units,\n",
    "                      param, maskName, nChunks, test=True)"
   ]
  }
 ],
 "metadata": {
  "kernelspec": {
   "display_name": "Python argo",
   "language": "python",
   "name": "argo"
  },
  "language_info": {
   "codemirror_mode": {
    "name": "ipython",
    "version": 3
   },
   "file_extension": ".py",
   "mimetype": "text/x-python",
   "name": "python",
   "nbconvert_exporter": "python",
   "pygments_lexer": "ipython3",
   "version": "3.6.10"
  }
 },
 "nbformat": 4,
 "nbformat_minor": 4
}
