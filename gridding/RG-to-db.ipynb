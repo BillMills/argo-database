{
 "cells": [
  {
   "cell_type": "code",
   "execution_count": 43,
   "metadata": {},
   "outputs": [],
   "source": [
    "import numpy as np\n",
    "import pandas as pd\n",
    "import xarray as xr\n",
    "import pymongo\n",
    "import pdb\n",
    "from datetime import datetime, timedelta\n",
    "from dateutil.relativedelta import *\n",
    "from scipy.io import loadmat\n",
    "import os\n",
    "import glob"
   ]
  },
  {
   "cell_type": "code",
   "execution_count": 63,
   "metadata": {},
   "outputs": [],
   "source": [
    "def transform_lon(lon):\n",
    "    '''\n",
    "    Transforms longitude from absolute to -180 to 180 deg\n",
    "    '''\n",
    "    if lon >= 180:\n",
    "        lon -= 360\n",
    "    return lon\n",
    "\n",
    "def make_doc(df, date, presLevel, dataVal):\n",
    "    '''\n",
    "    Takes df and converts it into a document for mongodb\n",
    "    '''\n",
    "    doc = {}\n",
    "    df = df.rename(index=str, columns={dataVal: 'value'})\n",
    "    df = df.fillna(float(-9999))\n",
    "    dataDict = df.to_dict(orient='records')\n",
    "    doc['data'] = dataDict\n",
    "    doc['dataVal'] = dataVal\n",
    "    doc['date'] = date\n",
    "    doc['pres'] = float(presLevel)\n",
    "    doc['cellsize'] = 1  #  Degree\n",
    "    doc['NODATA_value'] = -9999\n",
    "    return doc\n",
    "\n",
    "def insert_pres_time_grid(tempAnom, coll, dataVal='ARGO_TEMPERATURE_ANOMALY', insertOne=False):\n",
    "    for tdx, chunk in tempAnom.groupby('TIME'):\n",
    "        month = int(tdx % 12 + 1)\n",
    "        year = int(2004 + tdx // 12)\n",
    "        date = datetime.strptime('{0}-{1}'.format(year, month), '%Y-%m')\n",
    "        if not year == 2010: # only add 2010\n",
    "            continue\n",
    "        print(date)\n",
    "        df = chunk.to_dataframe()\n",
    "        df = df.reset_index()\n",
    "        df['LONGITUDE'] = df['LONGITUDE'] \n",
    "        df['LONGITUDE'] = df['LONGITUDE'].apply(lambda lon: transform_lon(lon))\n",
    "\n",
    "        for pdx, presDf in df.groupby('PRESSURE'):\n",
    "            if not pdx in [5, 10, 200]:\n",
    "                continue\n",
    "            presDf = presDf.drop(['TIME', 'PRESSURE'], axis=1)\n",
    "            doc = make_doc(presDf, date, pdx, dataVal)\n",
    "            coll.insert_one(doc)\n",
    "            if insertOne: # Use for testing\n",
    "                return"
   ]
  },
  {
   "cell_type": "code",
   "execution_count": 64,
   "metadata": {},
   "outputs": [],
   "source": [
    "def create_collection(dbName='argo2', collectionName='rgTempAnom'):\n",
    "    dbUrl = 'mongodb://localhost:27017/'\n",
    "    client = pymongo.MongoClient(dbUrl)\n",
    "    db = client[dbName]\n",
    "    coll = db[collectionName]\n",
    "    coll = init_profiles_collection(coll)\n",
    "    return coll\n",
    "\n",
    "def init_profiles_collection(coll):\n",
    "    try:\n",
    "        coll.create_index([('date', pymongo.DESCENDING)])\n",
    "        coll.create_index([('pres', pymongo.DESCENDING)])\n",
    "        coll.create_index([('data.LATITUDE', pymongo.DESCENDING)])\n",
    "        coll.create_index([('data.LONGITUDE', pymongo.ASCENDING)])\n",
    "        \n",
    "        #may want to store as geojson feature collection one day\n",
    "        #coll.create_index([('data.geometries', pymongo.GEOSPHERE)])\n",
    "\n",
    "    except:\n",
    "        logging.warning('not able to get collections or set indexes')\n",
    "    return coll"
   ]
  },
  {
   "cell_type": "code",
   "execution_count": 65,
   "metadata": {},
   "outputs": [
    {
     "name": "stdout",
     "output_type": "stream",
     "text": [
      "2010-01-01 00:00:00\n",
      "2010-02-01 00:00:00\n",
      "2010-03-01 00:00:00\n",
      "2010-04-01 00:00:00\n",
      "2010-05-01 00:00:00\n",
      "2010-06-01 00:00:00\n",
      "2010-07-01 00:00:00\n",
      "2010-08-01 00:00:00\n",
      "2010-09-01 00:00:00\n",
      "2010-10-01 00:00:00\n",
      "2010-11-01 00:00:00\n",
      "2010-12-01 00:00:00\n"
     ]
    }
   ],
   "source": [
    "rgFilename = '/home/tyler/Desktop/RG_ArgoClim_Temp.nc'\n",
    "rg = xr.open_dataset(rgFilename, decode_times=False)\n",
    "\n",
    "coll = create_collection()\n",
    "\n",
    "dataVal='ARGO_TEMPERATURE_ANOMALY'\n",
    "tempAnom = rg[dataVal]\n",
    "insert_pres_time_grid(tempAnom, coll, dataVal)"
   ]
  },
  {
   "cell_type": "code",
   "execution_count": 13,
   "metadata": {},
   "outputs": [
    {
     "name": "stdout",
     "output_type": "stream",
     "text": [
      "2004-01-01 00:00:00\n"
     ]
    }
   ],
   "source": [
    "# make for express testing\n",
    "testColl = create_collection(dbName='argo-express-test', collectionName='rgTempAnom')\n",
    "insert_pres_time_grid(tempAnom, testColl, dataVal='ARGO_TEMPERATURE_ANOMALY', insertOne=True)"
   ]
  },
  {
   "cell_type": "code",
   "execution_count": 9,
   "metadata": {},
   "outputs": [
    {
     "name": "stdout",
     "output_type": "stream",
     "text": [
      "2004-02-01 00:00:00\n"
     ]
    }
   ],
   "source": [
    "tdx = 1\n",
    "month = int(tdx % 12 + 1)\n",
    "year = int(2004 + tdx // 12)\n",
    "if not year == 2010:\n",
    "    continue\n",
    "date = datetime.strptime('{0}-{1}'.format(year, month), '%Y-%m')\n",
    "print(date)"
   ]
  },
  {
   "cell_type": "code",
   "execution_count": 11,
   "metadata": {},
   "outputs": [
    {
     "data": {
      "text/plain": [
       "False"
      ]
     },
     "execution_count": 11,
     "metadata": {},
     "output_type": "execute_result"
    }
   ],
   "source": [
    "pdx = 10\n",
    "not pdx in [5, 10, 200]"
   ]
  },
  {
   "cell_type": "code",
   "execution_count": null,
   "metadata": {},
   "outputs": [],
   "source": []
  }
 ],
 "metadata": {
  "kernelspec": {
   "display_name": "Python AR",
   "language": "python",
   "name": "ar"
  },
  "language_info": {
   "codemirror_mode": {
    "name": "ipython",
    "version": 3
   },
   "file_extension": ".py",
   "mimetype": "text/x-python",
   "name": "python",
   "nbconvert_exporter": "python",
   "pygments_lexer": "ipython3",
   "version": "3.6.7"
  }
 },
 "nbformat": 4,
 "nbformat_minor": 2
}
