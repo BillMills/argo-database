{
 "cells": [
  {
   "cell_type": "code",
   "execution_count": 3,
   "metadata": {},
   "outputs": [
    {
     "ename": "ModuleNotFoundError",
     "evalue": "No module named 'boobs'",
     "output_type": "error",
     "traceback": [
      "\u001b[0;31m---------------------------------------------------------------------------\u001b[0m",
      "\u001b[0;31mModuleNotFoundError\u001b[0m                       Traceback (most recent call last)",
      "\u001b[0;32m<ipython-input-3-1a40cc6d38a7>\u001b[0m in \u001b[0;36m<module>\u001b[0;34m\u001b[0m\n\u001b[1;32m      9\u001b[0m \u001b[0;32mimport\u001b[0m \u001b[0mos\u001b[0m\u001b[0;34m\u001b[0m\u001b[0;34m\u001b[0m\u001b[0m\n\u001b[1;32m     10\u001b[0m \u001b[0;32mimport\u001b[0m \u001b[0mglob\u001b[0m\u001b[0;34m\u001b[0m\u001b[0;34m\u001b[0m\u001b[0m\n\u001b[0;32m---> 11\u001b[0;31m \u001b[0;32mimport\u001b[0m \u001b[0mboobs\u001b[0m\u001b[0;34m\u001b[0m\u001b[0;34m\u001b[0m\u001b[0m\n\u001b[0m",
      "\u001b[0;31mModuleNotFoundError\u001b[0m: No module named 'boobs'"
     ]
    }
   ],
   "source": [
    "import numpy as np\n",
    "import pandas as pd\n",
    "import xarray as xr\n",
    "import pymongo\n",
    "import pdb\n",
    "from datetime import datetime, timedelta\n",
    "from dateutil.relativedelta import *\n",
    "from scipy.io import loadmat\n",
    "import os\n",
    "import glob"
   ]
  },
  {
   "cell_type": "code",
   "execution_count": 6,
   "metadata": {},
   "outputs": [],
   "source": [
    "a_dict = {'boobs': True}"
   ]
  },
  {
   "cell_type": "code",
   "execution_count": 10,
   "metadata": {},
   "outputs": [
    {
     "data": {
      "text/plain": [
       "dict_values([True])"
      ]
     },
     "execution_count": 10,
     "metadata": {},
     "output_type": "execute_result"
    }
   ],
   "source": [
    "a_dict.values()"
   ]
  },
  {
   "cell_type": "code",
   "execution_count": 2,
   "metadata": {},
   "outputs": [],
   "source": [
    "def transform_lon(lon):\n",
    "    '''\n",
    "    Transforms longitude from absolute to -180 to 180 deg\n",
    "    '''\n",
    "    if lon >= 180:\n",
    "        lon -= 360\n",
    "    return lon\n",
    "\n",
    "def make_doc(df, date, presLevel, dataVariable, param, measurement, gridName, units):\n",
    "    '''\n",
    "    Takes df and converts it into a document for mongodb\n",
    "    '''\n",
    "    doc = {}\n",
    "    df = df.rename(index=str, columns={dataVariable: 'value'})\n",
    "    dataDict = df.to_dict(orient='records')\n",
    "    #print(date)\n",
    "    doc['gridName'] = gridName\n",
    "    doc['measurement'] = measurement #temperature or psal\n",
    "    doc['units'] = units # degrees celsius or psu\n",
    "    doc['data'] = dataDict \n",
    "    doc['variable'] = dataVariable # ARGO_TEMPERATURE_ANOMALY or ARGO_TEMPERATURE_MEAN or total\n",
    "    doc['date'] = date\n",
    "    doc['pres'] = float(presLevel)\n",
    "    doc['param'] = param # anomaly, mean, or total\n",
    "    doc['cellsize'] = 1  #  Degree\n",
    "    doc['NODATA_value'] = np.NaN\n",
    "    return doc\n",
    "\n",
    "def create_grid_df(chunk):\n",
    "    df = chunk.to_dataframe()\n",
    "    df = df.reset_index()\n",
    "    df = df.rename(columns={'LATITUDE':'lat', 'LONGITUDE':'lon'})\n",
    "    df['lon'] = df['lon'].apply(lambda lon: transform_lon(lon))\n",
    "    return df\n",
    "    \n",
    "def insert_pres_time_grid(xrDataArray, coll, param, measurement, gridName, units,\n",
    "                          dataVariable, insertOne=False, meanDf=None):\n",
    "    for tdx, chunk in xrDataArray.groupby('TIME'):\n",
    "        month = int(tdx % 12 + 1)\n",
    "        year = int(2004 + tdx // 12)\n",
    "        #if not year >= 2019:\n",
    "        #    continue\n",
    "        date = datetime.strptime('{0}-{1}'.format(year, month), '%Y-%m')\n",
    "        print(date)\n",
    "        df = create_grid_df(chunk)\n",
    "        \n",
    "        if param == 'total':\n",
    "            df[dataVariable] = df['ARGO_SALINITY_ANOMALY'] + meanDf['ARGO_SALINITY_ANOMALY'.replace('ANOMALY', 'MEAN')]\n",
    "            df=df.drop(dataVariable, axis=1)\n",
    "        for pdx, presDf in df.groupby('PRESSURE'):\n",
    "            #if not pdx in [10, 50, 200]:\n",
    "            #    continue\n",
    "            presDf = presDf.drop(['TIME', 'PRESSURE'], axis=1)\n",
    "            doc = make_doc(presDf, date, pdx, dataVariable, param, measurement, gridName, units)\n",
    "            if insertOne: # Use for testing\n",
    "                coll.insert_one(doc)\n",
    "                return\n",
    "            else:\n",
    "                coll.insert_one(doc)\n"
   ]
  },
  {
   "cell_type": "code",
   "execution_count": 3,
   "metadata": {},
   "outputs": [],
   "source": [
    "def create_collection(dbName, collectionName):\n",
    "    dbUrl = 'mongodb://localhost:27017/'\n",
    "    client = pymongo.MongoClient(dbUrl)\n",
    "    db = client[dbName]\n",
    "    coll = db[collectionName]\n",
    "    coll = init_profiles_collection(coll)\n",
    "    return coll\n",
    "\n",
    "def init_profiles_collection(coll):\n",
    "    try:\n",
    "        coll.create_index([('date', pymongo.ASCENDING)])\n",
    "        coll.create_index([('pres', pymongo.ASCENDING)])\n",
    "        coll.create_index([('gridName', pymongo.ASCENDING)])\n",
    "        coll.create_index([('date', pymongo.ASCENDING), ('pres', pymongo.ASCENDING), ('gridName', pymongo.ASCENDING)])\n",
    "        coll.create_index([('data.lat', pymongo.DESCENDING)])\n",
    "        coll.create_index([('data.lon', pymongo.ASCENDING)])\n",
    "    except:\n",
    "        logging.warning('not able to get collections or set indexes')\n",
    "    return coll"
   ]
  },
  {
   "cell_type": "code",
   "execution_count": 12,
   "metadata": {},
   "outputs": [],
   "source": [
    "rgFilename = '/storage/RG_ArgoClim_Temp.nc'\n",
    "rg = xr.open_dataset(rgFilename, decode_times=False)\n",
    "meanDf = create_grid_df(rg['ARGO_TEMPERATURE_MEAN'])\n",
    "dataVariable='ARGO_TEMPERATURE_ANOMALY'\n",
    "rgDataArray = rg[dataVariable]\n",
    "param='anomaly'\n",
    "measurement='temperature'\n",
    "gridName='rgTempAnom'\n",
    "units = 'Degrees Celsius'"
   ]
  },
  {
   "cell_type": "code",
   "execution_count": null,
   "metadata": {},
   "outputs": [],
   "source": [
    "totalColl = create_collection(dbName='argo', collectionName='rgTempTotal')\n",
    "#totalColl.drop()\n",
    "insert_pres_time_grid(rgDataArray, totalColl, 'total', measurement, 'rgTempTotal', units,\n",
    "                          'total', insertOne=False, meanDf=meanDf)"
   ]
  },
  {
   "cell_type": "code",
   "execution_count": 22,
   "metadata": {},
   "outputs": [],
   "source": [
    "totalColl = create_collection(dbName='argo', collectionName='rgTempTotal')"
   ]
  },
  {
   "cell_type": "markdown",
   "metadata": {},
   "source": [
    "anomColl = create_collection(dbName='argo', collectionName='rgTempAnom')\n",
    "#anomColl.drop()\n",
    "insert_pres_time_grid(rgDataArray, anomColl, param, measurement, gridName, units,\n",
    "                          dataVariable, insertOne=False)"
   ]
  },
  {
   "cell_type": "markdown",
   "metadata": {},
   "source": [
    "# Salinity"
   ]
  },
  {
   "cell_type": "code",
   "execution_count": 4,
   "metadata": {},
   "outputs": [],
   "source": [
    "rgFilename = '/storage/RG_ArgoClim_Psal.nc'\n",
    "rg = xr.open_dataset(rgFilename, decode_times=False)\n",
    "meanDf = create_grid_df(rg['ARGO_SALINITY_MEAN'])\n",
    "dataVariable='ARGO_SALINITY_ANOMALY'\n",
    "rgDataArray = rg[dataVariable]\n",
    "param='anomaly'\n",
    "measurement='salinity'\n",
    "gridName='rgPsalAnom'\n",
    "units = 'Practical Salinity Units'"
   ]
  },
  {
   "cell_type": "code",
   "execution_count": null,
   "metadata": {},
   "outputs": [],
   "source": [
    "anomColl = create_collection(dbName='argo', collectionName=gridName)\n",
    "#anomColl.drop()\n",
    "insert_pres_time_grid(rgDataArray, anomColl, param, measurement, gridName, units,\n",
    "                          dataVariable, insertOne=False)"
   ]
  },
  {
   "cell_type": "code",
   "execution_count": null,
   "metadata": {},
   "outputs": [],
   "source": [
    "totalColl = create_collection(dbName='argo', collectionName='rgPsalTotal')\n",
    "#totalColl.drop()\n",
    "insert_pres_time_grid(rgDataArray, totalColl, 'total', measurement, 'rgPsalTotal', units,\n",
    "                          'total', insertOne=False, meanDf=meanDf)"
   ]
  },
  {
   "cell_type": "markdown",
   "metadata": {},
   "source": [
    "# Scratch"
   ]
  },
  {
   "cell_type": "code",
   "execution_count": 21,
   "metadata": {},
   "outputs": [],
   "source": [
    "#fixes value renaming\n",
    "cursor = totalColl.find()\n",
    "\n",
    "for doc in cursor:\n",
    "    #pdb.set_trace()\n",
    "    #print(doc['pres'])\n",
    "    df = pd.DataFrame(doc['data'])\n",
    "    df = df.rename(columns={'ARGO_SALINITY_ANOMALY': 'value'})\n",
    "    doc['data'] = df.to_dict(orient='records')\n",
    "    totalColl.replace_one({'_id': doc['_id']}, doc)"
   ]
  },
  {
   "cell_type": "code",
   "execution_count": 17,
   "metadata": {},
   "outputs": [
    {
     "data": {
      "text/plain": [
       "ObjectId('5f3851aaafc6ec0f5923e3d4')"
      ]
     },
     "execution_count": 17,
     "metadata": {},
     "output_type": "execute_result"
    }
   ],
   "source": [
    "doc['_id']"
   ]
  },
  {
   "cell_type": "code",
   "execution_count": 13,
   "metadata": {},
   "outputs": [
    {
     "data": {
      "text/html": [
       "<div>\n",
       "<style scoped>\n",
       "    .dataframe tbody tr th:only-of-type {\n",
       "        vertical-align: middle;\n",
       "    }\n",
       "\n",
       "    .dataframe tbody tr th {\n",
       "        vertical-align: top;\n",
       "    }\n",
       "\n",
       "    .dataframe thead th {\n",
       "        text-align: right;\n",
       "    }\n",
       "</style>\n",
       "<table border=\"1\" class=\"dataframe\">\n",
       "  <thead>\n",
       "    <tr style=\"text-align: right;\">\n",
       "      <th></th>\n",
       "      <th>ARGO_SALINITY_ANOMALY</th>\n",
       "      <th>lat</th>\n",
       "      <th>lon</th>\n",
       "    </tr>\n",
       "  </thead>\n",
       "  <tbody>\n",
       "    <tr>\n",
       "      <th>0</th>\n",
       "      <td>-0.000</td>\n",
       "      <td>-64.5</td>\n",
       "      <td>20.5</td>\n",
       "    </tr>\n",
       "    <tr>\n",
       "      <th>1</th>\n",
       "      <td>-0.001</td>\n",
       "      <td>-64.5</td>\n",
       "      <td>21.5</td>\n",
       "    </tr>\n",
       "    <tr>\n",
       "      <th>2</th>\n",
       "      <td>-0.001</td>\n",
       "      <td>-64.5</td>\n",
       "      <td>22.5</td>\n",
       "    </tr>\n",
       "    <tr>\n",
       "      <th>3</th>\n",
       "      <td>-0.001</td>\n",
       "      <td>-64.5</td>\n",
       "      <td>23.5</td>\n",
       "    </tr>\n",
       "    <tr>\n",
       "      <th>4</th>\n",
       "      <td>-0.000</td>\n",
       "      <td>-64.5</td>\n",
       "      <td>24.5</td>\n",
       "    </tr>\n",
       "  </tbody>\n",
       "</table>\n",
       "</div>"
      ],
      "text/plain": [
       "   ARGO_SALINITY_ANOMALY   lat   lon\n",
       "0                 -0.000 -64.5  20.5\n",
       "1                 -0.001 -64.5  21.5\n",
       "2                 -0.001 -64.5  22.5\n",
       "3                 -0.001 -64.5  23.5\n",
       "4                 -0.000 -64.5  24.5"
      ]
     },
     "execution_count": 13,
     "metadata": {},
     "output_type": "execute_result"
    }
   ],
   "source": [
    "df.rename(columns={'ARGO_SALINITY_ANOMALY':'value'})"
   ]
  },
  {
   "cell_type": "code",
   "execution_count": 19,
   "metadata": {},
   "outputs": [
    {
     "name": "stdout",
     "output_type": "stream",
     "text": [
      "2012-01-01 00:00:00\n",
      "rgTempAnom\n"
     ]
    }
   ],
   "source": [
    "# make for express testing\n",
    "testColl = create_collection(dbName='argo-express-test', collectionName='rgTempAnom')\n",
    "#testColl.drop()\n",
    "insert_pres_time_grid(rgDataArray, testColl, param, measurement, gridName, units,\n",
    "                          dataVariable, insertOne=True)"
   ]
  },
  {
   "cell_type": "markdown",
   "metadata": {},
   "source": [
    "# Add mean field"
   ]
  },
  {
   "cell_type": "code",
   "execution_count": 5,
   "metadata": {},
   "outputs": [
    {
     "ename": "NameError",
     "evalue": "name 'insert_pres_time_grid' is not defined",
     "output_type": "error",
     "traceback": [
      "\u001b[0;31m---------------------------------------------------------------------------\u001b[0m",
      "\u001b[0;31mNameError\u001b[0m                                 Traceback (most recent call last)",
      "\u001b[0;32m<ipython-input-5-32f2c5f3e699>\u001b[0m in \u001b[0;36m<module>\u001b[0;34m\u001b[0m\n\u001b[1;32m     10\u001b[0m \u001b[0;34m\u001b[0m\u001b[0m\n\u001b[1;32m     11\u001b[0m \u001b[0mrgDataArray\u001b[0m \u001b[0;34m=\u001b[0m \u001b[0mrg\u001b[0m\u001b[0;34m[\u001b[0m\u001b[0mdataVariable\u001b[0m\u001b[0;34m]\u001b[0m\u001b[0;34m\u001b[0m\u001b[0;34m\u001b[0m\u001b[0m\n\u001b[0;32m---> 12\u001b[0;31m insert_pres_time_grid(rgDataArray, coll, param, measurement, gridName, units,\n\u001b[0m\u001b[1;32m     13\u001b[0m                           dataVariable, insertOne=False)\n",
      "\u001b[0;31mNameError\u001b[0m: name 'insert_pres_time_grid' is not defined"
     ]
    }
   ],
   "source": [
    "rgFilename = '/home/tyler/Desktop/RG_ArgoClim_Temp.nc'\n",
    "rg = xr.open_dataset(rgFilename, decode_times=False)\n",
    "coll = create_collection(dbName='argo', collectionName='rgTempMean')\n",
    "coll.drop()\n",
    "dataVariable='ARGO_TEMPERATURE_MEAN'\n",
    "param='mean'\n",
    "measurement='temperature'\n",
    "gridName='rgTemperatureAnomaly'\n",
    "units = 'Degrees Celsius'\n",
    "\n",
    "rgDataArray = rg[dataVariable]\n",
    "insert_pres_time_grid(rgDataArray, coll, param, measurement, gridName, units,\n",
    "                          dataVariable, insertOne=False)"
   ]
  },
  {
   "cell_type": "code",
   "execution_count": 7,
   "metadata": {},
   "outputs": [
    {
     "ename": "NameError",
     "evalue": "name 'coll' is not defined",
     "output_type": "error",
     "traceback": [
      "\u001b[0;31m---------------------------------------------------------------------------\u001b[0m",
      "\u001b[0;31mNameError\u001b[0m                                 Traceback (most recent call last)",
      "\u001b[0;32m<ipython-input-7-d75a16fac3bf>\u001b[0m in \u001b[0;36m<module>\u001b[0;34m\u001b[0m\n\u001b[0;32m----> 1\u001b[0;31m \u001b[0mcursor\u001b[0m \u001b[0;34m=\u001b[0m \u001b[0mcoll\u001b[0m\u001b[0;34m.\u001b[0m\u001b[0mfind\u001b[0m\u001b[0;34m(\u001b[0m\u001b[0;34m)\u001b[0m\u001b[0;34m\u001b[0m\u001b[0;34m\u001b[0m\u001b[0m\n\u001b[0m\u001b[1;32m      2\u001b[0m \u001b[0;34m\u001b[0m\u001b[0m\n\u001b[1;32m      3\u001b[0m \u001b[0;32mfor\u001b[0m \u001b[0mdoc\u001b[0m \u001b[0;32min\u001b[0m \u001b[0mcursor\u001b[0m\u001b[0;34m:\u001b[0m\u001b[0;34m\u001b[0m\u001b[0;34m\u001b[0m\u001b[0m\n\u001b[1;32m      4\u001b[0m     \u001b[0mprint\u001b[0m\u001b[0;34m(\u001b[0m\u001b[0mdoc\u001b[0m\u001b[0;34m[\u001b[0m\u001b[0;34m'pres'\u001b[0m\u001b[0;34m]\u001b[0m\u001b[0;34m)\u001b[0m\u001b[0;34m\u001b[0m\u001b[0;34m\u001b[0m\u001b[0m\n",
      "\u001b[0;31mNameError\u001b[0m: name 'coll' is not defined"
     ]
    }
   ],
   "source": [
    "cursor = coll.find()\n",
    "\n",
    "for doc in cursor:\n",
    "    print(doc['pres'])"
   ]
  },
  {
   "cell_type": "code",
   "execution_count": 8,
   "metadata": {},
   "outputs": [
    {
     "ename": "NameError",
     "evalue": "name 'coll' is not defined",
     "output_type": "error",
     "traceback": [
      "\u001b[0;31m---------------------------------------------------------------------------\u001b[0m",
      "\u001b[0;31mNameError\u001b[0m                                 Traceback (most recent call last)",
      "\u001b[0;32m<ipython-input-8-2e67996ef2bc>\u001b[0m in \u001b[0;36m<module>\u001b[0;34m\u001b[0m\n\u001b[0;32m----> 1\u001b[0;31m \u001b[0mcoll\u001b[0m\u001b[0;34m\u001b[0m\u001b[0;34m\u001b[0m\u001b[0m\n\u001b[0m",
      "\u001b[0;31mNameError\u001b[0m: name 'coll' is not defined"
     ]
    }
   ],
   "source": [
    "coll"
   ]
  },
  {
   "cell_type": "code",
   "execution_count": null,
   "metadata": {},
   "outputs": [],
   "source": []
  }
 ],
 "metadata": {
  "kernelspec": {
   "display_name": "Python AR",
   "language": "python",
   "name": "ar"
  },
  "language_info": {
   "codemirror_mode": {
    "name": "ipython",
    "version": 3
   },
   "file_extension": ".py",
   "mimetype": "text/x-python",
   "name": "python",
   "nbconvert_exporter": "python",
   "pygments_lexer": "ipython3",
   "version": "3.6.7"
  }
 },
 "nbformat": 4,
 "nbformat_minor": 4
}
