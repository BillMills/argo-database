{
 "cells": [
  {
   "cell_type": "code",
   "execution_count": 1,
   "metadata": {
    "collapsed": true,
    "jupyter": {
     "outputs_hidden": true
    }
   },
   "outputs": [],
   "source": [
    "import pandas as pd  \n",
    "import numpy as np\n",
    "from glob import glob\n",
    "from scipy.io import savemat\n",
    "from datetime import datetime\n",
    "\n",
    "import pdb\n",
    "\n",
    "import psycopg2\n",
    "import os\n",
    "\n",
    "%matplotlib inline\n",
    "%config InlineBackend.figure_format = 'retina'"
   ]
  },
  {
   "cell_type": "code",
   "execution_count": 2,
   "metadata": {
    "collapsed": true,
    "jupyter": {
     "outputs_hidden": true
    }
   },
   "outputs": [],
   "source": [
    "def convert_lon(lon):\n",
    "    '''\n",
    "    converts from [-180, 180] to [20, 380]\n",
    "    '''\n",
    "    if lon < 20:\n",
    "        lon += 360\n",
    "    return lon\n",
    "\n",
    "def format_df(df):\n",
    "    df = df.dropna(how='any',axis=0, subset=[obs])\n",
    "    df = df.drop_duplicates(subset=['profile_id'])\n",
    "    df = df.drop_duplicates(subset=['lat', 'lon']) # need to have lat long be unique when making mask\n",
    "    df = df.sort_values(by=['lat', 'lon']) # sorting columns needed for binary search\n",
    "    df = df[~df.date.str.contains('date', na=False)] # remove second header\n",
    "    #df = df[~df.lon.str.contains('lon', na=False)] # remove second header\n",
    "    #df = df[~df[obs].str.contains(obs, na=False)] # remove second header\n",
    "    df.date = pd.to_datetime(df.date.values)\n",
    "    df.lon = df.lon.astype(float)\n",
    "    df.lat = df.lat.astype(float)\n",
    "    df[obs] = df[obs].astype(float)\n",
    "    df['wmo'] = df['profile_id'].apply(lambda x: float(x.split('_')[0]))\n",
    "    \n",
    "    return df\n",
    "\n",
    "def make_dict_for_mat(df, obs, minYear, maxYear):\n",
    "    df['year'] = df.date.apply(lambda x: x.year)\n",
    "    df['month'] = df.date.apply(lambda x: x.month)\n",
    "    df = df[(df['year'] >= minYear) & (df['year'] <= maxYear)]\n",
    "    df.date = df.date.apply(lambda x: x.strftime(\"%d-%b-%Y %H:%M:%S\"))\n",
    "    df['lon'] = df['lon'].apply(lambda lon: convert_lon(lon))\n",
    "    df = df[df[obs] != -999]\n",
    "    df = df[[obs, 'profile_id', 'wmo', 'date', 'year', 'month', 'lat', 'lon']]\n",
    "    df.columns = ['obsProf', 'profIdAggrSel', 'profFloatIDAggrSel', 'profJulDayAggrSel',\n",
    "                  'profYearAggrSel', 'profMonthAggrSel', 'profLatAggrSel', 'profLongAggrSel']\n",
    "    a_dict = {col_name : df[col_name].values for col_name in df.columns.values}\n",
    "    a_dict['profFloatIDAggrSel'] = a_dict['profFloatIDAggrSel'].astype(str)\n",
    "    return a_dict\n",
    "\n",
    "def make_file_name(presLevel, obs, minYear, maxYear, prefix='/storage/Data/'):\n",
    "    fileName = os.path.join(prefix,'prof')\n",
    "    fileName += str(obs).capitalize()\n",
    "    fileName += '_at{}dbar'.format(str(presLevel))\n",
    "    fileName += '_{0}_{1}'.format(minYear, maxYear)\n",
    "    fileName += '.mat'\n",
    "    return fileName\n"
   ]
  },
  {
   "cell_type": "code",
   "execution_count": 3,
   "metadata": {},
   "outputs": [
    {
     "name": "stdout",
     "output_type": "stream",
     "text": [
      "58\n",
      "200.0\n"
     ]
    },
    {
     "name": "stderr",
     "output_type": "stream",
     "text": [
      "/home/tyler/anaconda3/envs/argo/lib/python3.6/site-packages/IPython/core/interactiveshell.py:3044: DtypeWarning: Columns (1,2,4,5,6,7) have mixed types. Specify dtype option on import or set low_memory=False.\n",
      "  interactivity=interactivity, compiler=compiler, result=result)\n",
      "/home/tyler/anaconda3/envs/argo/lib/python3.6/site-packages/numpy/lib/arraysetops.py:568: FutureWarning: elementwise comparison failed; returning scalar instead, but in the future will perform elementwise comparison\n",
      "  mask |= (ar1 == a)\n"
     ]
    },
    {
     "name": "stdout",
     "output_type": "stream",
     "text": [
      "/storage/Data/200.0/profTemp_at200.0dbar_2007_2018.mat\n"
     ]
    },
    {
     "name": "stderr",
     "output_type": "stream",
     "text": [
      "/home/tyler/anaconda3/envs/argo/lib/python3.6/site-packages/scipy/io/matlab/miobase.py:414: FutureWarning: Using a non-tuple sequence for multidimensional indexing is deprecated; use `arr[tuple(seq)]` instead of `arr[seq]`. In the future this will be interpreted as an array index, `arr[np.array(seq)]`, which will result either in an error or a different result.\n",
      "  arr[empties] = ' '\n"
     ]
    },
    {
     "name": "stdout",
     "output_type": "stream",
     "text": [
      "220.0\n",
      "/storage/Data/220.0/profTemp_at220.0dbar_2007_2018.mat\n",
      "240.0\n",
      "/storage/Data/240.0/profTemp_at240.0dbar_2007_2018.mat\n",
      "260.0\n",
      "/storage/Data/260.0/profTemp_at260.0dbar_2007_2018.mat\n",
      "280.0\n",
      "/storage/Data/280.0/profTemp_at280.0dbar_2007_2018.mat\n",
      "300.0\n",
      "/storage/Data/300.0/profTemp_at300.0dbar_2007_2018.mat\n",
      "320.0\n",
      "/storage/Data/320.0/profTemp_at320.0dbar_2007_2018.mat\n",
      "340.0\n",
      "/storage/Data/340.0/profTemp_at340.0dbar_2007_2018.mat\n",
      "360.0\n",
      "/storage/Data/360.0/profTemp_at360.0dbar_2007_2018.mat\n",
      "380.0\n",
      "/storage/Data/380.0/profTemp_at380.0dbar_2007_2018.mat\n",
      "400.0\n",
      "/storage/Data/400.0/profTemp_at400.0dbar_2007_2018.mat\n",
      "420.0\n",
      "/storage/Data/420.0/profTemp_at420.0dbar_2007_2018.mat\n",
      "440.0\n",
      "/storage/Data/440.0/profTemp_at440.0dbar_2007_2018.mat\n",
      "462.5\n",
      "/storage/Data/462.5/profTemp_at462.5dbar_2007_2018.mat\n",
      "500.0\n",
      "/storage/Data/500.0/profTemp_at500.0dbar_2007_2018.mat\n",
      "550.0\n",
      "/storage/Data/550.0/profTemp_at550.0dbar_2007_2018.mat\n",
      "600.0\n",
      "/storage/Data/600.0/profTemp_at600.0dbar_2007_2018.mat\n",
      "650.0\n",
      "/storage/Data/650.0/profTemp_at650.0dbar_2007_2018.mat\n",
      "700.0\n",
      "/storage/Data/700.0/profTemp_at700.0dbar_2007_2018.mat\n",
      "750.0\n",
      "/storage/Data/750.0/profTemp_at750.0dbar_2007_2018.mat\n",
      "800.0\n",
      "/storage/Data/800.0/profTemp_at800.0dbar_2007_2018.mat\n",
      "850.0\n",
      "/storage/Data/850.0/profTemp_at850.0dbar_2007_2018.mat\n",
      "900.0\n",
      "/storage/Data/900.0/profTemp_at900.0dbar_2007_2018.mat\n",
      "950.0\n",
      "/storage/Data/950.0/profTemp_at950.0dbar_2007_2018.mat\n",
      "1000.0\n",
      "/storage/Data/1000.0/profTemp_at1000.0dbar_2007_2018.mat\n",
      "1050.0\n",
      "/storage/Data/1050.0/profTemp_at1050.0dbar_2007_2018.mat\n",
      "1100.0\n",
      "/storage/Data/1100.0/profTemp_at1100.0dbar_2007_2018.mat\n",
      "1150.0\n",
      "/storage/Data/1150.0/profTemp_at1150.0dbar_2007_2018.mat\n",
      "1200.0\n",
      "/storage/Data/1200.0/profTemp_at1200.0dbar_2007_2018.mat\n",
      "1250.0\n",
      "/storage/Data/1250.0/profTemp_at1250.0dbar_2007_2018.mat\n",
      "1300.0\n",
      "/storage/Data/1300.0/profTemp_at1300.0dbar_2007_2018.mat\n",
      "1350.0\n",
      "/storage/Data/1350.0/profTemp_at1350.0dbar_2007_2018.mat\n",
      "1412.5\n",
      "/storage/Data/1412.5/profTemp_at1412.5dbar_2007_2018.mat\n",
      "1500.0\n",
      "/storage/Data/1500.0/profTemp_at1500.0dbar_2007_2018.mat\n",
      "1600.0\n",
      "/storage/Data/1600.0/profTemp_at1600.0dbar_2007_2018.mat\n",
      "1700.0\n",
      "/storage/Data/1700.0/profTemp_at1700.0dbar_2007_2018.mat\n",
      "1800.0\n",
      "/storage/Data/1800.0/profTemp_at1800.0dbar_2007_2018.mat\n",
      "1900.0\n",
      "/storage/Data/1900.0/profTemp_at1900.0dbar_2007_2018.mat\n",
      "1975.0\n",
      "/storage/Data/1975.0/profTemp_at1975.0dbar_2007_2018.mat\n"
     ]
    }
   ],
   "source": [
    "#files = glob('/storage/kuusela-stein-intrep-profiles/iTempData_pres_50*.0.csv')\n",
    "minYear=2007\n",
    "maxYear=2018\n",
    "files = glob('/storage/JG-interpolated-profiles/iTempData_*')\n",
    "print(len(files))\n",
    "prefix='/storage/Data/'\n",
    "obs='temp'\n",
    "for file in files[19:]:\n",
    "#for file in files[1:2]:\n",
    "    presLevel = file.split('_')[-1].split('.csv')[0]\n",
    "    print(presLevel)\n",
    "    df = pd.read_csv(file, index_col=0)\n",
    "    df = format_df(df)\n",
    "    presDict = make_dict_for_mat(df, obs, minYear, maxYear)\n",
    "    newDir = os.path.join(prefix, presLevel)\n",
    "    if not os.path.exists(newDir):\n",
    "        os.mkdir(newDir)\n",
    "    fileName = make_file_name(presLevel, obs, minYear, maxYear, newDir)\n",
    "    print(fileName)\n",
    "    savemat(fileName, presDict)"
   ]
  },
  {
   "cell_type": "code",
   "execution_count": 37,
   "metadata": {
    "collapsed": true,
    "jupyter": {
     "outputs_hidden": true
    }
   },
   "outputs": [],
   "source": [
    "savemat(fileName, presDict)"
   ]
  },
  {
   "cell_type": "code",
   "execution_count": 14,
   "metadata": {},
   "outputs": [
    {
     "name": "stdout",
     "output_type": "stream",
     "text": [
      "/storage/kuusela-stein-intrep-profiles/profTemp_at10.0dbar_2007_2018.mat\n"
     ]
    },
    {
     "name": "stderr",
     "output_type": "stream",
     "text": [
      "/home/tyler/anaconda3/envs/argo/lib/python3.6/site-packages/scipy/io/matlab/miobase.py:414: FutureWarning: Using a non-tuple sequence for multidimensional indexing is deprecated; use `arr[tuple(seq)]` instead of `arr[seq]`. In the future this will be interpreted as an array index, `arr[np.array(seq)]`, which will result either in an error or a different result.\n",
      "  arr[empties] = ' '\n"
     ]
    }
   ],
   "source": [
    "minYear=2007\n",
    "maxYear=2018\n",
    "presLevels = [10.0]\n",
    "obs='temp'\n",
    "for presLevel in presLevels:\n",
    "    df = get_pressure_level_df(conn, presLevel)\n",
    "    if df.empty:\n",
    "        print('no presLevel []'.format(presLevel))\n",
    "        continue\n",
    "    presDict = make_dict_for_mat(df, obs, minYear, maxYear)\n",
    "    fileName = make_file_name(presLevel, obs, minYear, maxYear)\n",
    "    print(fileName)\n",
    "\n",
    "    savemat(fileName, presDict)"
   ]
  },
  {
   "cell_type": "code",
   "execution_count": 10,
   "metadata": {},
   "outputs": [
    {
     "data": {
      "text/plain": [
       "dict_keys(['obsProf', 'profFloatIDAggrSel', 'profJulDayAggrSel', 'profYearAggrSel', 'profMonthAggrSel', 'profLatAggrSel', 'profLongAggrSel'])"
      ]
     },
     "execution_count": 10,
     "metadata": {},
     "output_type": "execute_result"
    }
   ],
   "source": [
    "presDict.keys()"
   ]
  }
 ],
 "metadata": {
  "kernelspec": {
   "display_name": "Python argo",
   "language": "python",
   "name": "argo"
  },
  "language_info": {
   "codemirror_mode": {
    "name": "ipython",
    "version": 3
   },
   "file_extension": ".py",
   "mimetype": "text/x-python",
   "name": "python",
   "nbconvert_exporter": "python",
   "pygments_lexer": "ipython3",
   "version": "3.6.10"
  }
 },
 "nbformat": 4,
 "nbformat_minor": 4
}
