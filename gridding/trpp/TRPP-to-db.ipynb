{
 "cells": [
  {
   "cell_type": "code",
   "execution_count": 52,
   "metadata": {},
   "outputs": [],
   "source": [
    "import numpy as np\n",
    "import pandas as pd\n",
    "import xarray as xr\n",
    "from glob import glob\n",
    "import pymongo\n",
    "import pdb\n",
    "from datetime import datetime, timedelta\n",
    "from dateutil.relativedelta import *"
   ]
  },
  {
   "cell_type": "code",
   "execution_count": 63,
   "metadata": {},
   "outputs": [],
   "source": [
    "def create_collection(dbName='trpp', collectionName='trppGrids'):\n",
    "    dbUrl = 'mongodb://localhost:27017/'\n",
    "    client = pymongo.MongoClient(dbUrl)\n",
    "    db = client[dbName]\n",
    "    coll = db[collectionName]\n",
    "    coll = init_profiles_collection(coll)\n",
    "    return coll\n",
    "\n",
    "def init_profiles_collection(coll):\n",
    "    try:\n",
    "        coll.create_index([('time', pymongo.DESCENDING)])\n",
    "        coll.create_index([('data.nlat', pymongo.DESCENDING)])\n",
    "        coll.create_index([('data.nlon', pymongo.ASCENDING)])\n",
    "\n",
    "    except:\n",
    "        logging.warning('not able to get collections or set indexes')\n",
    "    return coll\n",
    "\n",
    "coll = create_collection()"
   ]
  },
  {
   "cell_type": "code",
   "execution_count": 57,
   "metadata": {},
   "outputs": [],
   "source": [
    "#precFileNames= glob('/storage/TRMM/precip/**/*.nc4')\n",
    "#filename = precFileNames[0]\n",
    "#prec = xr.open_dataset(filename, decode_cf=True)\n",
    "precFileNames = '/storage/TRMM/precip/**/*.nc4'\n",
    "prec = xr.open_mfdataset(precFileNames)"
   ]
  },
  {
   "cell_type": "code",
   "execution_count": 58,
   "metadata": {},
   "outputs": [
    {
     "data": {
      "text/plain": [
       "<bound method Dataset.info of <xarray.Dataset>\n",
       "Dimensions:        (date: 35063, nlat: 400, nlon: 1440)\n",
       "Coordinates:\n",
       "  * nlon           (nlon) float32 -179.875 -179.625 -179.375 ... 179.625 179.875\n",
       "  * nlat           (nlat) float32 -49.875 -49.625 -49.375 ... 49.625 49.875\n",
       "  * date           (date) datetime64[ns] 2004-01-01 ... 2015-12-31T21:00:00\n",
       "Data variables:\n",
       "    precipitation  (date, nlon, nlat) float32 dask.array<shape=(35063, 1440, 400), chunksize=(1, 1440, 400)>>"
      ]
     },
     "execution_count": 58,
     "metadata": {},
     "output_type": "execute_result"
    }
   ],
   "source": [
    "prec.info"
   ]
  },
  {
   "cell_type": "code",
   "execution_count": 59,
   "metadata": {},
   "outputs": [
    {
     "data": {
      "text/plain": [
       "Frozen(SortedKeysDict({'nlon': 1440, 'nlat': 400, 'date': 35063}))"
      ]
     },
     "execution_count": 59,
     "metadata": {},
     "output_type": "execute_result"
    }
   ],
   "source": [
    "prec.dims"
   ]
  },
  {
   "cell_type": "code",
   "execution_count": 68,
   "metadata": {},
   "outputs": [],
   "source": [
    "def make_docs(dates):\n",
    "    docs = []\n",
    "    for date in dates:\n",
    "        doc = {}\n",
    "        doc['_id'] = str(date)\n",
    "        trg = prec.sel(date=date)\n",
    "        df = trg.to_dataframe()\n",
    "        df.reset_index(inplace=True)\n",
    "        df = df[['nlon', 'nlat', 'precipitation']]\n",
    "        df = df[df['precipitation'] != 0]\n",
    "        df.astype(np.float32, inplace=True)\n",
    "        dataDict = df.to_dict(orient='records')\n",
    "        doc['data'] = dataDict\n",
    "        doc['time'] = pd.to_datetime(date)\n",
    "        docs.append(doc)\n",
    "    return docs\n",
    "dates = prec.date.data[0:10]\n",
    "docs = make_docs(dates)"
   ]
  },
  {
   "cell_type": "code",
   "execution_count": 69,
   "metadata": {},
   "outputs": [
    {
     "data": {
      "text/plain": [
       "<pymongo.results.InsertManyResult at 0x7f8b983be688>"
      ]
     },
     "execution_count": 69,
     "metadata": {},
     "output_type": "execute_result"
    }
   ],
   "source": [
    "coll.insert_many(docs)"
   ]
  },
  {
   "cell_type": "code",
   "execution_count": 49,
   "metadata": {},
   "outputs": [
    {
     "name": "stderr",
     "output_type": "stream",
     "text": [
      "/home/tyler/anaconda3/envs/AR2/lib/python3.6/site-packages/ipykernel_launcher.py:1: DeprecationWarning: parsing timezone aware datetimes is deprecated; this will raise an error in the future\n",
      "  \"\"\"Entry point for launching an IPython kernel.\n"
     ]
    },
    {
     "data": {
      "text/plain": [
       "datetime.datetime(2004, 1, 19, 0, 0)"
      ]
     },
     "execution_count": 49,
     "metadata": {},
     "output_type": "execute_result"
    }
   ],
   "source": [
    "ts = (date - np.datetime64('1970-01-01T00:00:00Z')) / np.timedelta64(1, 's')\n",
    "\n",
    "datetime.utcfromtimestamp(ts)"
   ]
  },
  {
   "cell_type": "code",
   "execution_count": null,
   "metadata": {},
   "outputs": [],
   "source": []
  },
  {
   "cell_type": "code",
   "execution_count": 65,
   "metadata": {},
   "outputs": [
    {
     "data": {
      "text/plain": [
       "28.050400000000003"
      ]
     },
     "execution_count": 65,
     "metadata": {},
     "output_type": "execute_result"
    }
   ],
   "source": [
    ".008 * 35063 / 10"
   ]
  },
  {
   "cell_type": "code",
   "execution_count": null,
   "metadata": {},
   "outputs": [],
   "source": []
  }
 ],
 "metadata": {
  "kernelspec": {
   "display_name": "Python AR2",
   "language": "python",
   "name": "ar2"
  },
  "language_info": {
   "codemirror_mode": {
    "name": "ipython",
    "version": 3
   },
   "file_extension": ".py",
   "mimetype": "text/x-python",
   "name": "python",
   "nbconvert_exporter": "python",
   "pygments_lexer": "ipython3",
   "version": "3.6.7"
  }
 },
 "nbformat": 4,
 "nbformat_minor": 2
}
