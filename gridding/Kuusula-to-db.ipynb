{
 "cells": [
  {
   "cell_type": "code",
   "execution_count": 1,
   "metadata": {},
   "outputs": [],
   "source": [
    "import numpy as np\n",
    "import pandas as pd\n",
    "import xarray as xr\n",
    "import pymongo\n",
    "import pdb\n",
    "from datetime import datetime, timedelta\n",
    "from dateutil.relativedelta import *\n",
    "from scipy.io import loadmat\n",
    "import os\n",
    "import glob"
   ]
  },
  {
   "cell_type": "code",
   "execution_count": 2,
   "metadata": {},
   "outputs": [],
   "source": [
    "def create_collection(dbName='argo2', collectionName='kuusela'):\n",
    "    dbUrl = 'mongodb://localhost:27017/'\n",
    "    client = pymongo.MongoClient(dbUrl)\n",
    "    db = client[dbName]\n",
    "    coll = db[collectionName]\n",
    "    coll = init_profiles_collection(coll)\n",
    "    return coll\n",
    "\n",
    "def init_profiles_collection(coll):\n",
    "    try:\n",
    "        coll.create_index([('date', pymongo.DESCENDING)])\n",
    "        coll.create_index([('pres', pymongo.DESCENDING)])\n",
    "        coll.create_index([('data.LATITUDE', pymongo.DESCENDING)])\n",
    "        coll.create_index([('data.LONGITUDE', pymongo.ASCENDING)])\n",
    "        \n",
    "        #may want to store as geojson feature collection one day\n",
    "        #coll.create_index([('data.geometries', pymongo.GEOSPHERE)])\n",
    "\n",
    "    except:\n",
    "        logging.warning('not able to get collections or set indexes')\n",
    "    return coll\n",
    "\n",
    "coll = create_collection()"
   ]
  },
  {
   "cell_type": "code",
   "execution_count": 3,
   "metadata": {},
   "outputs": [
    {
     "name": "stdout",
     "output_type": "stream",
     "text": [
      "144\n"
     ]
    }
   ],
   "source": [
    "path = os.path.join(os.getcwd(),'Kuusela', 'Gridded_Argo_product2019', 'projects', 'username', 'ArgoClim2019', 'Results', 'anom*')\n",
    "\n",
    "anomMats = glob.glob(path)\n",
    "print(len(anomMats))"
   ]
  },
  {
   "cell_type": "code",
   "execution_count": 4,
   "metadata": {},
   "outputs": [],
   "source": [
    "def transform_lon(lon):\n",
    "    '''\n",
    "    Transforms longitude from absolute to -180 to 180 deg\n",
    "    '''\n",
    "    if lon >= 180:\n",
    "        lon -= 360\n",
    "    return lon\n",
    "\n",
    "def make_docs(files, dataVal='predGrid'):\n",
    "    docs = []\n",
    "    for file in files:\n",
    "        doc = {}\n",
    "        anomData = loadmat(file)\n",
    "        fa = file.split('/')[-1].split('_')\n",
    "        year = fa[-1].replace('.mat', '')\n",
    "        month = fa[-2]\n",
    "        year_month = year + month\n",
    "\n",
    "        date = datetime.strptime(year_month, '%Y%m')\n",
    "        presLevel = float(fa[-6].replace('at', '').replace('dbar', ''))\n",
    "        latGrid = anomData['latGrid'].flatten()\n",
    "        lonGrid = anomData['longGrid'].flatten()\n",
    "        values = anomData[dataVal].flatten()\n",
    "        df = pd.DataFrame()\n",
    "        df['LATITUDE'] = latGrid\n",
    "        df['LONGITUDE'] = lonGrid\n",
    "        df['LONGITUDE'] = df['LONGITUDE'].apply(lambda lon: transform_lon(lon))\n",
    "        df['value'] = values\n",
    "        df = df.fillna(float(-9999))\n",
    "        dataDict = df.to_dict(orient='records')\n",
    "        doc['dataVal'] = dataVal\n",
    "        doc['data'] = dataDict\n",
    "        doc['date'] = date\n",
    "        doc['pres'] = float(presLevel)\n",
    "        doc['cellsize'] = 1  #  Degree\n",
    "        doc['NODATA_value'] = -9999\n",
    "        docs.append(doc)\n",
    "    return docs"
   ]
  },
  {
   "cell_type": "code",
   "execution_count": 5,
   "metadata": {},
   "outputs": [
    {
     "name": "stdout",
     "output_type": "stream",
     "text": [
      "-180\n",
      "0\n",
      "-1\n",
      "-179\n"
     ]
    }
   ],
   "source": [
    "print(transform_lon(180))\n",
    "print(transform_lon(360))\n",
    "print(transform_lon(359))\n",
    "print(transform_lon(181))"
   ]
  },
  {
   "cell_type": "code",
   "execution_count": 6,
   "metadata": {},
   "outputs": [
    {
     "name": "stdout",
     "output_type": "stream",
     "text": [
      "15\n",
      "15\n",
      "15\n",
      "15\n",
      "14\n",
      "14\n",
      "14\n",
      "14\n",
      "14\n",
      "14\n"
     ]
    }
   ],
   "source": [
    "for fileChunk in np.array_split(anomMats, 10):\n",
    "    docs = make_docs(fileChunk)\n",
    "    print(len(docs))\n",
    "    coll.insert_many(docs)"
   ]
  },
  {
   "cell_type": "code",
   "execution_count": 8,
   "metadata": {},
   "outputs": [
    {
     "data": {
      "text/plain": [
       "<pymongo.results.InsertManyResult at 0x7f43d03b7808>"
      ]
     },
     "execution_count": 8,
     "metadata": {},
     "output_type": "execute_result"
    }
   ],
   "source": [
    "# make for express testing\n",
    "testColl = create_collection(dbName='argo-express-test', collectionName='kuusela')\n",
    "testColl.insert_many(docs)"
   ]
  },
  {
   "cell_type": "code",
   "execution_count": null,
   "metadata": {},
   "outputs": [],
   "source": []
  }
 ],
 "metadata": {
  "kernelspec": {
   "display_name": "Python AR",
   "language": "python",
   "name": "ar"
  },
  "language_info": {
   "codemirror_mode": {
    "name": "ipython",
    "version": 3
   },
   "file_extension": ".py",
   "mimetype": "text/x-python",
   "name": "python",
   "nbconvert_exporter": "python",
   "pygments_lexer": "ipython3",
   "version": "3.6.7"
  }
 },
 "nbformat": 4,
 "nbformat_minor": 2
}
