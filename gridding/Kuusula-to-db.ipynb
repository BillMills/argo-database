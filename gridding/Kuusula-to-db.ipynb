{
 "cells": [
  {
   "cell_type": "code",
   "execution_count": 1,
   "metadata": {
    "collapsed": true
   },
   "outputs": [],
   "source": [
    "import numpy as np\n",
    "import pandas as pd\n",
    "import xarray as xr\n",
    "import pymongo\n",
    "import pdb\n",
    "from datetime import datetime, timedelta\n",
    "from dateutil.relativedelta import *\n",
    "from scipy.io import loadmat\n",
    "import os\n",
    "import glob\n",
    "import itertools"
   ]
  },
  {
   "cell_type": "code",
   "execution_count": 2,
   "metadata": {
    "collapsed": true
   },
   "outputs": [],
   "source": [
    "def create_collection(dbName, collectionName, init_collection):\n",
    "    dbUrl = 'mongodb://localhost:27017/'\n",
    "    client = pymongo.MongoClient(dbUrl)\n",
    "    db = client[dbName]\n",
    "    coll = db[collectionName]\n",
    "    coll = init_collection(coll)\n",
    "    return coll\n",
    "\n",
    "def init_anom_collection(coll):\n",
    "    coll.create_index([('date', pymongo.DESCENDING)])\n",
    "    coll.create_index([('pres', pymongo.DESCENDING)])\n",
    "    coll.create_index([('data.LATITUDE', pymongo.DESCENDING)])\n",
    "    coll.create_index([('data.LONGITUDE', pymongo.ASCENDING)])\n",
    "\n",
    "    return coll\n",
    "\n",
    "def init_param_collection(coll):\n",
    "    coll.create_index([('pres', pymongo.DESCENDING)])\n",
    "    coll.create_index([('data.LATITUDE', pymongo.DESCENDING)])\n",
    "    coll.create_index([('data.LONGITUDE', pymongo.ASCENDING)])\n",
    "    coll.create_index([('param', pymongo.DESCENDING),\n",
    "                       ('trend', pymongo.DESCENDING),\n",
    "                       ('model', pymongo.DESCENDING),\n",
    "                       ('modelParam', pymongo.DESCENDING)])\n",
    "        \n",
    "    return coll"
   ]
  },
  {
   "cell_type": "code",
   "execution_count": 11,
   "metadata": {
    "collapsed": true
   },
   "outputs": [],
   "source": [
    "def transform_lon(lon):\n",
    "    '''\n",
    "    Transforms longitude from absolute to -180 to 180 deg\n",
    "    '''\n",
    "    if lon >= 180:\n",
    "        lon -= 360\n",
    "    return lon\n",
    "\n",
    "def make_anom_docs(files, gridName, dataVal='predGrid'):\n",
    "    docs = []\n",
    "    for file in files:\n",
    "        doc = {}\n",
    "        anomData = loadmat(file)\n",
    "        fa = file.split('/')[-1].split('_')\n",
    "        year = fa[-1].replace('.mat', '')\n",
    "        month = fa[-2]\n",
    "        year_month = year + month\n",
    "\n",
    "        date = datetime.strptime(year_month, '%Y%m')\n",
    "        presLevel = float(fa[-6].replace('at', '').replace('dbar', ''))\n",
    "        latGrid = anomData['latGrid'].flatten()\n",
    "        lonGrid = anomData['longGrid'].flatten()\n",
    "        values = anomData[dataVal].flatten()\n",
    "        df = pd.DataFrame()\n",
    "        df['LATITUDE'] = latGrid\n",
    "        df['LONGITUDE'] = lonGrid\n",
    "        df['LONGITUDE'] = df['LONGITUDE'].apply(lambda lon: transform_lon(lon))\n",
    "        df['value'] = values\n",
    "        df = df.fillna(float(-9999))\n",
    "        dataDict = df.to_dict(orient='records')\n",
    "        \n",
    "        doc['measurement'] = 'Temperature'\n",
    "        doc['param'] = 'anomaly'\n",
    "        doc['gridName'] = gridName\n",
    "        doc['dataVal'] = dataVal\n",
    "        doc['data'] = dataDict\n",
    "        doc['date'] = date\n",
    "        doc['pres'] = float(presLevel)\n",
    "        doc['cellsize'] = 1  #  Degree\n",
    "        doc['NODATA_value'] = -9999\n",
    "        docs.append(doc)\n",
    "    return docs\n",
    "\n",
    "def make_param_docs(grids):\n",
    "    docs = []\n",
    "    for pres, measurement, model, trend in grids:\n",
    "        paramFiles = '{0}Trend{1}*.mat'.format(model, measurement)\n",
    "\n",
    "        path = os.path.join(kuuselaBase, pres,\\\n",
    "                                'outliers_removed', trend, 'Results',\\\n",
    "                                paramFiles)\n",
    "        filename = glob.glob(path) # should be one\n",
    "        print(paramFiles)\n",
    "        if not filename:\n",
    "            print('file not found: {}'.format(path))\n",
    "            continue\n",
    "        paramData = loadmat(filename[0])\n",
    "        if model == 'localMLESpace':\n",
    "            modelParams = spaceParams\n",
    "        else:\n",
    "            modelParams = spaceTimeParams\n",
    "\n",
    "        for modelParam in modelParams:\n",
    "            print(pres, measurement, model, trend, modelParam)\n",
    "            doc = make_param_doc(paramData, modelParam, model, trend, measurement, pres)\n",
    "            docs.append(doc)\n",
    "    return docs\n",
    "\n",
    "def make_param_doc(paramData, modelParam, model, trend, measurement, pres):\n",
    "    values = paramData[modelParam].flatten()\n",
    "    latGrid = paramData['latGrid'].flatten()\n",
    "    lonGrid = paramData['longGrid'].flatten()\n",
    "    gridName = 'ks' + model + modelParam + trend\n",
    "\n",
    "    df = pd.DataFrame()\n",
    "    df['LATITUDE'] = latGrid\n",
    "    df['LONGITUDE'] = lonGrid\n",
    "    df['LONGITUDE'] = df['LONGITUDE'].apply(lambda lon: transform_lon(lon))\n",
    "    df['value'] = values\n",
    "    df = df.fillna(-9999)\n",
    "    dataDict = df.to_dict(orient='records')\n",
    "    doc = {}\n",
    "    doc['gridName'] = gridName\n",
    "    doc['model'] = model\n",
    "    doc['param'] = modelParam\n",
    "    doc['trend'] = trend\n",
    "    doc['measurement'] = measurement\n",
    "    doc['data'] = dataDict\n",
    "    doc['pres'] = float(pres)\n",
    "    doc['cellsize'] = 1  #  Degree\n",
    "    doc['NODATA_value'] = -9999\n",
    "    return doc"
   ]
  },
  {
   "cell_type": "code",
   "execution_count": 12,
   "metadata": {},
   "outputs": [
    {
     "name": "stdout",
     "output_type": "stream",
     "text": [
      "localMLESpaceTrendTemp*.mat\n",
      "10.0 Temp localMLESpace Trend aOpt\n",
      "10.0 Temp localMLESpace Trend latGrid\n",
      "10.0 Temp localMLESpace Trend longGrid\n",
      "10.0 Temp localMLESpace Trend nResGrid\n",
      "10.0 Temp localMLESpace Trend nll\n",
      "10.0 Temp localMLESpace Trend sigmaOpt\n",
      "10.0 Temp localMLESpace Trend theta1Opt\n",
      "10.0 Temp localMLESpace Trend theta2Opt\n",
      "localMLESpaceTrendTemp*.mat\n",
      "file not found: /home/tyler/Kuusela-Stein/Data/Data/10.0/outliers_removed/NoTrend/Results/localMLESpaceTrendTemp*.mat\n",
      "localMLESpaceTrendTemp*.mat\n",
      "file not found: /home/tyler/Kuusela-Stein/Data/Data/10.0/outliers_removed/Trend2/Results/localMLESpaceTrendTemp*.mat\n",
      "localMLESpaceTimeTrendTemp*.mat\n",
      "10.0 Temp localMLESpaceTime Trend nResGrid\n",
      "10.0 Temp localMLESpaceTime Trend nll\n",
      "10.0 Temp localMLESpaceTime Trend sigmaOpt\n",
      "10.0 Temp localMLESpaceTime Trend thetaLatOpt\n",
      "10.0 Temp localMLESpaceTime Trend thetaLongOpt\n",
      "10.0 Temp localMLESpaceTime Trend thetasOpt\n",
      "10.0 Temp localMLESpaceTime Trend thetatOpt\n",
      "localMLESpaceTimeTrendTemp*.mat\n",
      "file not found: /home/tyler/Kuusela-Stein/Data/Data/10.0/outliers_removed/NoTrend/Results/localMLESpaceTimeTrendTemp*.mat\n",
      "localMLESpaceTimeTrendTemp*.mat\n",
      "file not found: /home/tyler/Kuusela-Stein/Data/Data/10.0/outliers_removed/Trend2/Results/localMLESpaceTimeTrendTemp*.mat\n"
     ]
    }
   ],
   "source": [
    "kuuselaBase = os.path.join('/home','tyler','Kuusela-Stein', 'Data', 'Data')\n",
    "pressures = [str(10.0)]\n",
    "measurements = ['Temp']\n",
    "trends = ['Trend', 'NoTrend', 'Trend2']\n",
    "models = ['localMLESpace', 'localMLESpaceTime']\n",
    "spaceTimeParams  = ['nResGrid', 'nll', 'sigmaOpt', 'thetaLatOpt', 'thetaLongOpt', 'thetasOpt', 'thetatOpt']\n",
    "spaceParams = ['aOpt', 'latGrid', 'longGrid', 'nResGrid', 'nll', 'sigmaOpt', 'theta1Opt', 'theta2Opt']\n",
    "\n",
    "allIters = [pressures, measurements, models, trends]\n",
    "grids = list(itertools.product(*allIters))\n",
    "\n",
    "docs = make_param_docs(grids)\n"
   ]
  },
  {
   "cell_type": "code",
   "execution_count": 13,
   "metadata": {},
   "outputs": [
    {
     "data": {
      "text/plain": [
       "<pymongo.results.InsertManyResult at 0x7f38bd530d88>"
      ]
     },
     "execution_count": 13,
     "metadata": {},
     "output_type": "execute_result"
    }
   ],
   "source": [
    "collName = 'ksParams'\n",
    "coll = create_collection('argo', collName, init_param_collection)\n",
    "coll.drop()\n",
    "coll.insert_many(docs)"
   ]
  },
  {
   "cell_type": "code",
   "execution_count": 32,
   "metadata": {},
   "outputs": [
    {
     "name": "stdout",
     "output_type": "stream",
     "text": [
      "/home/tyler/Kuusela-Stein/Data/Data/10.0/outliers_removed/Trend/Results/anomalySpaceTrendTemp_at10.0dbar*.mat\n",
      "144\n",
      "ksSpaceTempTrend\n",
      "48\n",
      "48\n",
      "48\n",
      "/home/tyler/Kuusela-Stein/Data/Data/10.0/outliers_removed/NoTrend/Results/anomalySpaceNoTrendTemp_at10.0dbar*.mat\n",
      "12\n",
      "ksSpaceTempNoTrend\n",
      "4\n",
      "4\n",
      "4\n",
      "/home/tyler/Kuusela-Stein/Data/Data/10.0/outliers_removed/Trend2/Results/anomalySpaceTrend2Temp_at10.0dbar*.mat\n",
      "12\n",
      "ksSpaceTempTrend2\n",
      "4\n",
      "4\n",
      "4\n",
      "/home/tyler/Kuusela-Stein/Data/Data/10.0/outliers_removed/Trend/Results/anomalySpaceTimeTrendTemp_at10.0dbar*.mat\n",
      "12\n",
      "ksSpaceTimeTempTrend\n",
      "4\n",
      "4\n",
      "4\n",
      "/home/tyler/Kuusela-Stein/Data/Data/10.0/outliers_removed/NoTrend/Results/anomalySpaceTimeNoTrendTemp_at10.0dbar*.mat\n",
      "file not found: /home/tyler/Kuusela-Stein/Data/Data/10.0/outliers_removed/NoTrend/Results/anomalySpaceTimeNoTrendTemp_at10.0dbar*.mat\n",
      "/home/tyler/Kuusela-Stein/Data/Data/10.0/outliers_removed/Trend2/Results/anomalySpaceTimeTrend2Temp_at10.0dbar*.mat\n",
      "12\n",
      "ksSpaceTimeTempTrend2\n",
      "4\n",
      "4\n",
      "4\n"
     ]
    },
    {
     "data": {
      "text/plain": [
       "<pymongo.results.InsertManyResult at 0x7f38b8da2848>"
      ]
     },
     "execution_count": 32,
     "metadata": {},
     "output_type": "execute_result"
    }
   ],
   "source": [
    "allIters = [pressures, measurements, models, trends]\n",
    "grids = list(itertools.product(*allIters))\n",
    "\n",
    "for pres, measurement, model, trend in grids:\n",
    "    model_label = model.strip('localMLE')\n",
    "    pres_label = '_at{}dbar'.format(pres)\n",
    "    anomFiles = 'anomaly{0}{1}{2}{3}*.mat'.format(model_label, trend, measurement, pres_label)\n",
    "    path = os.path.join(kuuselaBase, pres,\\\n",
    "                        'outliers_removed', trend, 'Results',\\\n",
    "                        anomFiles)\n",
    "    print(path)\n",
    "    anomMats = glob.glob(path)\n",
    "    if not anomMats:\n",
    "        print('file not found: {}'.format(path))\n",
    "        continue\n",
    "    print(len(anomMats))\n",
    "    collName = 'ks' + model_label + measurement + trend\n",
    "    coll = create_collection('argo', collName, init_anom_collection)\n",
    "    coll.drop()\n",
    "    print(collName)\n",
    "    for fileChunk in np.array_split(anomMats, 3):\n",
    "        docs = make_anom_docs(fileChunk, collName)\n",
    "        print(len(docs))\n",
    "        coll.insert_many(docs)\n",
    "# make for express testing\n",
    "testColl = create_collection('argo-express-test', collName, init_anom_collection)\n",
    "testColl.drop()\n",
    "testColl.insert_many(docs)"
   ]
  },
  {
   "cell_type": "code",
   "execution_count": 30,
   "metadata": {},
   "outputs": [
    {
     "data": {
      "text/plain": [
       "<pymongo.results.InsertManyResult at 0x7f38a9c09fc8>"
      ]
     },
     "execution_count": 30,
     "metadata": {},
     "output_type": "execute_result"
    }
   ],
   "source": [
    "testColl = create_collection('argo-express-test', collName, init_anom_collection)\n",
    "testColl.drop()\n",
    "testColl.insert_many(docs)"
   ]
  },
  {
   "cell_type": "code",
   "execution_count": 39,
   "metadata": {},
   "outputs": [
    {
     "name": "stdout",
     "output_type": "stream",
     "text": [
      "12\n",
      "ksSpaceTempTrend\n",
      "2\n",
      "2\n",
      "1\n",
      "1\n",
      "1\n",
      "1\n",
      "1\n",
      "1\n",
      "1\n",
      "1\n",
      "12\n",
      "ksSpaceTempNoTrend\n",
      "2\n",
      "2\n",
      "1\n",
      "1\n",
      "1\n",
      "1\n",
      "1\n",
      "1\n",
      "1\n",
      "1\n",
      "12\n",
      "ksSpaceTempTrend2\n",
      "2\n",
      "2\n",
      "1\n",
      "1\n",
      "1\n",
      "1\n",
      "1\n",
      "1\n",
      "1\n",
      "1\n"
     ]
    }
   ],
   "source": [
    "\n",
    "\n",
    "for trend in trends:\n",
    "    path = os.path.join(kuuselaBase, pres,\\\n",
    "                        'outliers_removed', trend, 'Results',\\\n",
    "                        anomFiles)\n",
    "    anomMats = glob.glob(path)\n",
    "    print(len(anomMats))\n",
    "    collName = 'ks' + 'Space' + param + trend\n",
    "    coll = create_collection('argo', collName, init_anom_collection)\n",
    "    coll.drop()\n",
    "    print(collName)\n",
    "    for fileChunk in np.array_split(anomMats, 10):\n",
    "        docs = make_docs(fileChunk, collName)\n",
    "        print(len(docs))\n",
    "        coll.insert_many(docs)\n",
    "    # make for express testing\n",
    "    testColl = create_collection('argo-express-test', collName)\n",
    "    testColl.drop()\n",
    "    testColl.insert_many(docs)"
   ]
  },
  {
   "cell_type": "code",
   "execution_count": null,
   "metadata": {
    "collapsed": true
   },
   "outputs": [],
   "source": []
  }
 ],
 "metadata": {
  "kernelspec": {
   "display_name": "Python AR",
   "language": "python",
   "name": "ar"
  },
  "language_info": {
   "codemirror_mode": {
    "name": "ipython",
    "version": 3
   },
   "file_extension": ".py",
   "mimetype": "text/x-python",
   "name": "python",
   "nbconvert_exporter": "python",
   "pygments_lexer": "ipython3",
   "version": "3.6.7"
  }
 },
 "nbformat": 4,
 "nbformat_minor": 2
}
