{
 "cells": [
  {
   "cell_type": "code",
   "execution_count": 1,
   "metadata": {
    "collapsed": true
   },
   "outputs": [],
   "source": [
    "import pandas as pd\n",
    "import numpy as np\n",
    "import xarray as xr\n",
    "import os, sys\n",
    "import glob"
   ]
  },
  {
   "cell_type": "markdown",
   "metadata": {},
   "source": [
    "Join multiple files into one using NCO utilities.\n",
    "[here](http://forum.marine.copernicus.eu/discussion/205/how-to-mergeconcatenate-cmems-netcdf-files-tips/p1)\n",
    "\n",
    "The following routine concats files without the need for NCO, but can be slow if there are many files."
   ]
  },
  {
   "cell_type": "code",
   "execution_count": 3,
   "metadata": {
    "collapsed": true
   },
   "outputs": [],
   "source": [
    "files = glob.glob('/storage/ShenResults/*.csv')"
   ]
  },
  {
   "cell_type": "code",
   "execution_count": 4,
   "metadata": {},
   "outputs": [
    {
     "data": {
      "text/plain": [
       "['/storage/ShenResults/mTempData_3.75.csv',\n",
       " '/storage/ShenResults/mTempData_9.75.csv',\n",
       " '/storage/ShenResults/mTempData_16.0.csv',\n",
       " '/storage/ShenResults/mTempData_25.0.csv',\n",
       " '/storage/ShenResults/mTempData_40.0.csv',\n",
       " '/storage/ShenResults/mTempData_62.5.csv',\n",
       " '/storage/ShenResults/mTempData_87.5.csv',\n",
       " '/storage/ShenResults/mTempData_112.5.csv',\n",
       " '/storage/ShenResults/mTempData_137.5.csv',\n",
       " '/storage/ShenResults/mTempData_175.0.csv',\n",
       " '/storage/ShenResults/mTempData_225.0.csv',\n",
       " '/storage/ShenResults/mTempData_275.0.csv',\n",
       " '/storage/ShenResults/mTempData_350.0.csv',\n",
       " '/storage/ShenResults/mTempData_450.0.csv',\n",
       " '/storage/ShenResults/mTempData_550.0.csv',\n",
       " '/storage/ShenResults/mTempData_650.0.csv',\n",
       " '/storage/ShenResults/mTempData_750.0.csv',\n",
       " '/storage/ShenResults/mTempData_850.0.csv',\n",
       " '/storage/ShenResults/mTempData_950.0.csv',\n",
       " '/storage/ShenResults/mTempData_1050.0.csv',\n",
       " '/storage/ShenResults/mTempData_1150.0.csv',\n",
       " '/storage/ShenResults/mTempData_1250.0.csv',\n",
       " '/storage/ShenResults/mTempData_1350.0.csv',\n",
       " '/storage/ShenResults/mTempData_1450.0.csv',\n",
       " '/storage/ShenResults/mTempData_1625.0.csv',\n",
       " '/storage/ShenResults/mTempData_1875.0.csv']"
      ]
     },
     "execution_count": 4,
     "metadata": {},
     "output_type": "execute_result"
    }
   ],
   "source": [
    "files"
   ]
  },
  {
   "cell_type": "code",
   "execution_count": 5,
   "metadata": {
    "collapsed": true
   },
   "outputs": [],
   "source": [
    "datasets = []\n",
    "for file in files: # each file is \n",
    "    df = pd.read_csv(file, index_col=0)\n",
    "    df = df.set_index(['lat', 'long', 'tdx', 'pres'])\n",
    "    ds = df.to_xarray()\n",
    "    datasets.append(ds)\n",
    "combined = xr.concat(datasets, dim='pres') # can concat along pressure dimension"
   ]
  },
  {
   "cell_type": "code",
   "execution_count": 6,
   "metadata": {
    "collapsed": true
   },
   "outputs": [],
   "source": [
    "comp = dict(zlib=True, complevel=9) # compresss level set to max\n",
    "encoding = {var: comp for var in combined.data_vars}\n",
    "combined.to_netcdf('mTempData.nc', encoding=encoding)"
   ]
  },
  {
   "cell_type": "markdown",
   "metadata": {},
   "source": [
    "# Check if file was created properly"
   ]
  },
  {
   "cell_type": "code",
   "execution_count": 8,
   "metadata": {
    "collapsed": true
   },
   "outputs": [],
   "source": [
    "ds = xr.open_dataset('mTempData.nc')"
   ]
  },
  {
   "cell_type": "code",
   "execution_count": 9,
   "metadata": {},
   "outputs": [
    {
     "data": {
      "text/plain": [
       "<xarray.Dataset>\n",
       "Dimensions:    (lat: 552, long: 1233, pres: 26, tdx: 2)\n",
       "Coordinates:\n",
       "  * lat        (lat) float64 -89.0 -74.25 -73.75 -73.5 ... 72.0 74.5 75.25 78.25\n",
       "  * long       (long) float64 -179.5 -179.2 -179.0 -178.8 ... 179.2 179.5 179.8\n",
       "  * tdx        (tdx) int64 1093 1094\n",
       "  * pres       (pres) float64 3.75 9.75 16.0 ... 1.45e+03 1.625e+03 1.875e+03\n",
       "Data variables:\n",
       "    mean       (lat, long, tdx, pres) float64 ...\n",
       "    std        (lat, long, tdx, pres) float64 ...\n",
       "    dof        (lat, long, tdx, pres) float64 ...\n",
       "    startDate  (lat, long, tdx, pres) object ...\n",
       "    endDate    (lat, long, tdx, pres) object ..."
      ]
     },
     "execution_count": 9,
     "metadata": {},
     "output_type": "execute_result"
    }
   ],
   "source": [
    "ds"
   ]
  },
  {
   "cell_type": "code",
   "execution_count": 42,
   "metadata": {
    "collapsed": true
   },
   "outputs": [],
   "source": [
    "df = df.dropna(axis=0)"
   ]
  },
  {
   "cell_type": "code",
   "execution_count": 43,
   "metadata": {},
   "outputs": [
    {
     "data": {
      "text/html": [
       "<div>\n",
       "<style scoped>\n",
       "    .dataframe tbody tr th:only-of-type {\n",
       "        vertical-align: middle;\n",
       "    }\n",
       "\n",
       "    .dataframe tbody tr th {\n",
       "        vertical-align: top;\n",
       "    }\n",
       "\n",
       "    .dataframe thead th {\n",
       "        text-align: right;\n",
       "    }\n",
       "</style>\n",
       "<table border=\"1\" class=\"dataframe\">\n",
       "  <thead>\n",
       "    <tr style=\"text-align: right;\">\n",
       "      <th></th>\n",
       "      <th></th>\n",
       "      <th></th>\n",
       "      <th></th>\n",
       "      <th>mean</th>\n",
       "      <th>std</th>\n",
       "      <th>dof</th>\n",
       "      <th>startDate</th>\n",
       "      <th>endDate</th>\n",
       "    </tr>\n",
       "    <tr>\n",
       "      <th>lat</th>\n",
       "      <th>long</th>\n",
       "      <th>pres</th>\n",
       "      <th>tdx</th>\n",
       "      <th></th>\n",
       "      <th></th>\n",
       "      <th></th>\n",
       "      <th></th>\n",
       "      <th></th>\n",
       "    </tr>\n",
       "  </thead>\n",
       "  <tbody>\n",
       "    <tr>\n",
       "      <th rowspan=\"5\" valign=\"top\">-89.0</th>\n",
       "      <th rowspan=\"5\" valign=\"top\">-0.0</th>\n",
       "      <th>3.75</th>\n",
       "      <th>1094</th>\n",
       "      <td>-1.471143</td>\n",
       "      <td>0.004502</td>\n",
       "      <td>14.0</td>\n",
       "      <td>2018-12-27</td>\n",
       "      <td>2018-12-31</td>\n",
       "    </tr>\n",
       "    <tr>\n",
       "      <th>2.25</th>\n",
       "      <th>1094</th>\n",
       "      <td>-1.470500</td>\n",
       "      <td>0.003775</td>\n",
       "      <td>8.0</td>\n",
       "      <td>2018-12-27</td>\n",
       "      <td>2018-12-31</td>\n",
       "    </tr>\n",
       "    <tr>\n",
       "      <th>10.00</th>\n",
       "      <th>1094</th>\n",
       "      <td>0.823216</td>\n",
       "      <td>1.202438</td>\n",
       "      <td>37.0</td>\n",
       "      <td>2018-12-27</td>\n",
       "      <td>2018-12-31</td>\n",
       "    </tr>\n",
       "    <tr>\n",
       "      <th>4.00</th>\n",
       "      <th>1094</th>\n",
       "      <td>-1.277733</td>\n",
       "      <td>0.158675</td>\n",
       "      <td>15.0</td>\n",
       "      <td>2018-12-27</td>\n",
       "      <td>2018-12-31</td>\n",
       "    </tr>\n",
       "    <tr>\n",
       "      <th>5.00</th>\n",
       "      <th>1094</th>\n",
       "      <td>-0.959263</td>\n",
       "      <td>0.280545</td>\n",
       "      <td>19.0</td>\n",
       "      <td>2018-12-27</td>\n",
       "      <td>2018-12-31</td>\n",
       "    </tr>\n",
       "  </tbody>\n",
       "</table>\n",
       "</div>"
      ],
      "text/plain": [
       "                           mean       std   dof   startDate     endDate\n",
       "lat   long pres  tdx                                                   \n",
       "-89.0 -0.0 3.75  1094 -1.471143  0.004502  14.0  2018-12-27  2018-12-31\n",
       "           2.25  1094 -1.470500  0.003775   8.0  2018-12-27  2018-12-31\n",
       "           10.00 1094  0.823216  1.202438  37.0  2018-12-27  2018-12-31\n",
       "           4.00  1094 -1.277733  0.158675  15.0  2018-12-27  2018-12-31\n",
       "           5.00  1094 -0.959263  0.280545  19.0  2018-12-27  2018-12-31"
      ]
     },
     "execution_count": 43,
     "metadata": {},
     "output_type": "execute_result"
    }
   ],
   "source": [
    "df.head()"
   ]
  }
 ],
 "metadata": {
  "kernelspec": {
   "display_name": "Python 3",
   "language": "python",
   "name": "python3"
  },
  "language_info": {
   "codemirror_mode": {
    "name": "ipython",
    "version": 3
   },
   "file_extension": ".py",
   "mimetype": "text/x-python",
   "name": "python",
   "nbconvert_exporter": "python",
   "pygments_lexer": "ipython3",
   "version": "3.6.1"
  }
 },
 "nbformat": 4,
 "nbformat_minor": 2
}
