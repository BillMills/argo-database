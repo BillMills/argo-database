{
 "cells": [
  {
   "cell_type": "code",
   "execution_count": 1,
   "metadata": {},
   "outputs": [
    {
     "name": "stderr",
     "output_type": "stream",
     "text": [
      "/home/tyler/anaconda3/envs/argo/lib/python3.6/_collections_abc.py:841: MatplotlibDeprecationWarning: \n",
      "The examples.directory rcparam was deprecated in Matplotlib 3.0 and will be removed in 3.2. In the future, examples will be found relative to the 'datapath' directory.\n",
      "  self[key] = other[key]\n",
      "/home/tyler/anaconda3/envs/argo/lib/python3.6/_collections_abc.py:841: MatplotlibDeprecationWarning: \n",
      "The savefig.frameon rcparam was deprecated in Matplotlib 3.1 and will be removed in 3.3.\n",
      "  self[key] = other[key]\n",
      "/home/tyler/anaconda3/envs/argo/lib/python3.6/_collections_abc.py:841: MatplotlibDeprecationWarning: \n",
      "The text.latex.unicode rcparam was deprecated in Matplotlib 3.0 and will be removed in 3.2.\n",
      "  self[key] = other[key]\n",
      "/home/tyler/anaconda3/envs/argo/lib/python3.6/_collections_abc.py:841: MatplotlibDeprecationWarning: \n",
      "The verbose.fileo rcparam was deprecated in Matplotlib 3.1 and will be removed in 3.3.\n",
      "  self[key] = other[key]\n",
      "/home/tyler/anaconda3/envs/argo/lib/python3.6/_collections_abc.py:841: MatplotlibDeprecationWarning: \n",
      "The verbose.level rcparam was deprecated in Matplotlib 3.1 and will be removed in 3.3.\n",
      "  self[key] = other[key]\n"
     ]
    }
   ],
   "source": [
    "import pandas as pd  \n",
    "import numpy as np\n",
    "from glob import glob\n",
    "from scipy.io import savemat, loadmat\n",
    "from datetime import datetime, timedelta\n",
    "\n",
    "import seaborn as sns\n",
    "sns.reset_orig()\n",
    "import pdb\n",
    "\n",
    "import psycopg2\n",
    "import sqlite3\n",
    "import os\n",
    "import gzip\n",
    "\n",
    "from importlib import reload\n",
    "\n",
    "import visualizeProfs as vp\n",
    "%config InlineBackend.figure_format = 'retina'\n",
    "from pchipOceanSlices import PchipOceanSlices"
   ]
  },
  {
   "cell_type": "markdown",
   "metadata": {},
   "source": [
    "# Init database"
   ]
  },
  {
   "cell_type": "code",
   "execution_count": 2,
   "metadata": {
    "collapsed": true
   },
   "outputs": [],
   "source": [
    "sqliteDb = \"/storage/kakapo/JG_profiles.db\"\n",
    "tableName = \"profiles\"\n",
    "conn = sqlite3.connect(sqliteDb)"
   ]
  },
  {
   "cell_type": "code",
   "execution_count": 3,
   "metadata": {},
   "outputs": [
    {
     "data": {
      "text/plain": [
       "<sqlite3.Cursor at 0x7fae4e6cdd50>"
      ]
     },
     "execution_count": 3,
     "metadata": {},
     "output_type": "execute_result"
    }
   ],
   "source": [
    "conn.execute('''DROP TABLE IF EXISTS {};'''.format(tableName))"
   ]
  },
  {
   "cell_type": "code",
   "execution_count": 5,
   "metadata": {},
   "outputs": [
    {
     "name": "stdout",
     "output_type": "stream",
     "text": [
      "Execution failed on sql 'SELECT * FROM profiles LIMIT 10;': no such table: profiles\n"
     ]
    }
   ],
   "source": [
    "try:\n",
    "    smdf = pd.read_sql_query('SELECT * FROM {} LIMIT 10;'.format(tableName), conn)\n",
    "except Exception as err:\n",
    "    print(err)\n",
    "    pass"
   ]
  },
  {
   "cell_type": "markdown",
   "metadata": {},
   "source": [
    "# Get reject list of profiles"
   ]
  },
  {
   "cell_type": "code",
   "execution_count": 6,
   "metadata": {},
   "outputs": [
    {
     "name": "stdout",
     "output_type": "stream",
     "text": [
      "/storage/kakapo/reject_cycle_fromvar_temp_01x01_finl\n",
      "/storage/kakapo/ar_whitelist_2019.xml\n"
     ]
    }
   ],
   "source": [
    "rList = glob('/storage/kakapo/*temp*')\n",
    "wl = glob('/storage/kakapo/*.xml')\n",
    "header = ['platform_number', 'cycle', 'lat', 'lon', 'c1', 'c2', 'c3', 'c4', 'c5']\n",
    "\n",
    "def get_lines(filename):\n",
    "    with open(filename, \"r\") as f:\n",
    "        data = f.readlines()\n",
    "        lines = []\n",
    "        for line in data: \n",
    "            line = ' '.join(line.split())\n",
    "            line = line.split(' ')\n",
    "            line[-1] = line[-1].replace('/n', '')\n",
    "            lines.append(line)\n",
    "        print(filename)\n",
    "    return lines\n",
    "\n",
    "def parse_kakapo(filename, header):\n",
    "    '''parses reject and white list in kakapo'''\n",
    "    lines = get_lines(filename)\n",
    "    df = pd.DataFrame(data=lines, columns=header)\n",
    "    df['profile_id'] = df['platform_number'].apply(lambda x: str(x)) + '_'  + df['cycle'].apply(lambda x: str(x))\n",
    "    return df\n",
    "\n",
    "rejectDf = parse_kakapo(rList[0], header)\n",
    "whiteList = parse_kakapo(wl[0], header)"
   ]
  },
  {
   "cell_type": "code",
   "execution_count": 7,
   "metadata": {},
   "outputs": [
    {
     "name": "stdout",
     "output_type": "stream",
     "text": [
      "(2135, 10)\n"
     ]
    },
    {
     "data": {
      "text/html": [
       "<div>\n",
       "<style scoped>\n",
       "    .dataframe tbody tr th:only-of-type {\n",
       "        vertical-align: middle;\n",
       "    }\n",
       "\n",
       "    .dataframe tbody tr th {\n",
       "        vertical-align: top;\n",
       "    }\n",
       "\n",
       "    .dataframe thead th {\n",
       "        text-align: right;\n",
       "    }\n",
       "</style>\n",
       "<table border=\"1\" class=\"dataframe\">\n",
       "  <thead>\n",
       "    <tr style=\"text-align: right;\">\n",
       "      <th></th>\n",
       "      <th>platform_number</th>\n",
       "      <th>cycle</th>\n",
       "      <th>lat</th>\n",
       "      <th>lon</th>\n",
       "      <th>c1</th>\n",
       "      <th>c2</th>\n",
       "      <th>c3</th>\n",
       "      <th>c4</th>\n",
       "      <th>c5</th>\n",
       "      <th>profile_id</th>\n",
       "    </tr>\n",
       "  </thead>\n",
       "  <tbody>\n",
       "    <tr>\n",
       "      <th>0</th>\n",
       "      <td>6903190</td>\n",
       "      <td>18</td>\n",
       "      <td>-60.917</td>\n",
       "      <td>304.997</td>\n",
       "      <td>0</td>\n",
       "      <td>2.154</td>\n",
       "      <td>0.257</td>\n",
       "      <td>6.0xtimes1975.0</td>\n",
       "      <td>None</td>\n",
       "      <td>6903190_18</td>\n",
       "    </tr>\n",
       "    <tr>\n",
       "      <th>1</th>\n",
       "      <td>5903417</td>\n",
       "      <td>88</td>\n",
       "      <td>-37.717</td>\n",
       "      <td>332.474</td>\n",
       "      <td>1</td>\n",
       "      <td>0.343</td>\n",
       "      <td>0.051</td>\n",
       "      <td>6.0xtimes1975.0</td>\n",
       "      <td>None</td>\n",
       "      <td>5903417_88</td>\n",
       "    </tr>\n",
       "    <tr>\n",
       "      <th>2</th>\n",
       "      <td>6901697</td>\n",
       "      <td>81</td>\n",
       "      <td>-37.674</td>\n",
       "      <td>332.432</td>\n",
       "      <td>1</td>\n",
       "      <td>0.551</td>\n",
       "      <td>0.051</td>\n",
       "      <td>6.0xtimes1975.0</td>\n",
       "      <td>None</td>\n",
       "      <td>6901697_81</td>\n",
       "    </tr>\n",
       "    <tr>\n",
       "      <th>3</th>\n",
       "      <td>3900529</td>\n",
       "      <td>66</td>\n",
       "      <td>-37.284</td>\n",
       "      <td>285.835</td>\n",
       "      <td>1</td>\n",
       "      <td>0.230</td>\n",
       "      <td>0.038</td>\n",
       "      <td>6.0xtimes1975.0</td>\n",
       "      <td>None</td>\n",
       "      <td>3900529_66</td>\n",
       "    </tr>\n",
       "    <tr>\n",
       "      <th>4</th>\n",
       "      <td>5904120</td>\n",
       "      <td>53</td>\n",
       "      <td>-36.369</td>\n",
       "      <td>330.982</td>\n",
       "      <td>1</td>\n",
       "      <td>0.640</td>\n",
       "      <td>0.048</td>\n",
       "      <td>6.0xtimes1975.0</td>\n",
       "      <td>None</td>\n",
       "      <td>5904120_53</td>\n",
       "    </tr>\n",
       "  </tbody>\n",
       "</table>\n",
       "</div>"
      ],
      "text/plain": [
       "  platform_number cycle      lat      lon c1     c2     c3               c4  \\\n",
       "0         6903190    18  -60.917  304.997  0  2.154  0.257  6.0xtimes1975.0   \n",
       "1         5903417    88  -37.717  332.474  1  0.343  0.051  6.0xtimes1975.0   \n",
       "2         6901697    81  -37.674  332.432  1  0.551  0.051  6.0xtimes1975.0   \n",
       "3         3900529    66  -37.284  285.835  1  0.230  0.038  6.0xtimes1975.0   \n",
       "4         5904120    53  -36.369  330.982  1  0.640  0.048  6.0xtimes1975.0   \n",
       "\n",
       "     c5  profile_id  \n",
       "0  None  6903190_18  \n",
       "1  None  5903417_88  \n",
       "2  None  6901697_81  \n",
       "3  None  3900529_66  \n",
       "4  None  5904120_53  "
      ]
     },
     "execution_count": 7,
     "metadata": {},
     "output_type": "execute_result"
    }
   ],
   "source": [
    "print(rejectDf.shape)\n",
    "rejectDf.head()"
   ]
  },
  {
   "cell_type": "code",
   "execution_count": 8,
   "metadata": {},
   "outputs": [],
   "source": [
    "ok_ids = whiteList['profile_id'].tolist()"
   ]
  },
  {
   "cell_type": "code",
   "execution_count": 9,
   "metadata": {},
   "outputs": [],
   "source": [
    "rejectDf = rejectDf[~rejectDf['profile_id'].isin(ok_ids)]"
   ]
  },
  {
   "cell_type": "code",
   "execution_count": 10,
   "metadata": {},
   "outputs": [
    {
     "name": "stdout",
     "output_type": "stream",
     "text": [
      "(1113, 10)\n"
     ]
    },
    {
     "data": {
      "text/html": [
       "<div>\n",
       "<style scoped>\n",
       "    .dataframe tbody tr th:only-of-type {\n",
       "        vertical-align: middle;\n",
       "    }\n",
       "\n",
       "    .dataframe tbody tr th {\n",
       "        vertical-align: top;\n",
       "    }\n",
       "\n",
       "    .dataframe thead th {\n",
       "        text-align: right;\n",
       "    }\n",
       "</style>\n",
       "<table border=\"1\" class=\"dataframe\">\n",
       "  <thead>\n",
       "    <tr style=\"text-align: right;\">\n",
       "      <th></th>\n",
       "      <th>platform_number</th>\n",
       "      <th>cycle</th>\n",
       "      <th>lat</th>\n",
       "      <th>lon</th>\n",
       "      <th>c1</th>\n",
       "      <th>c2</th>\n",
       "      <th>c3</th>\n",
       "      <th>c4</th>\n",
       "      <th>c5</th>\n",
       "      <th>profile_id</th>\n",
       "    </tr>\n",
       "  </thead>\n",
       "  <tbody>\n",
       "    <tr>\n",
       "      <th>0</th>\n",
       "      <td>6903190</td>\n",
       "      <td>18</td>\n",
       "      <td>-60.917</td>\n",
       "      <td>304.997</td>\n",
       "      <td>0</td>\n",
       "      <td>2.154</td>\n",
       "      <td>0.257</td>\n",
       "      <td>6.0xtimes1975.0</td>\n",
       "      <td>None</td>\n",
       "      <td>6903190_18</td>\n",
       "    </tr>\n",
       "    <tr>\n",
       "      <th>1</th>\n",
       "      <td>5903417</td>\n",
       "      <td>88</td>\n",
       "      <td>-37.717</td>\n",
       "      <td>332.474</td>\n",
       "      <td>1</td>\n",
       "      <td>0.343</td>\n",
       "      <td>0.051</td>\n",
       "      <td>6.0xtimes1975.0</td>\n",
       "      <td>None</td>\n",
       "      <td>5903417_88</td>\n",
       "    </tr>\n",
       "    <tr>\n",
       "      <th>2</th>\n",
       "      <td>6901697</td>\n",
       "      <td>81</td>\n",
       "      <td>-37.674</td>\n",
       "      <td>332.432</td>\n",
       "      <td>1</td>\n",
       "      <td>0.551</td>\n",
       "      <td>0.051</td>\n",
       "      <td>6.0xtimes1975.0</td>\n",
       "      <td>None</td>\n",
       "      <td>6901697_81</td>\n",
       "    </tr>\n",
       "    <tr>\n",
       "      <th>3</th>\n",
       "      <td>3900529</td>\n",
       "      <td>66</td>\n",
       "      <td>-37.284</td>\n",
       "      <td>285.835</td>\n",
       "      <td>1</td>\n",
       "      <td>0.230</td>\n",
       "      <td>0.038</td>\n",
       "      <td>6.0xtimes1975.0</td>\n",
       "      <td>None</td>\n",
       "      <td>3900529_66</td>\n",
       "    </tr>\n",
       "    <tr>\n",
       "      <th>4</th>\n",
       "      <td>5904120</td>\n",
       "      <td>53</td>\n",
       "      <td>-36.369</td>\n",
       "      <td>330.982</td>\n",
       "      <td>1</td>\n",
       "      <td>0.640</td>\n",
       "      <td>0.048</td>\n",
       "      <td>6.0xtimes1975.0</td>\n",
       "      <td>None</td>\n",
       "      <td>5904120_53</td>\n",
       "    </tr>\n",
       "  </tbody>\n",
       "</table>\n",
       "</div>"
      ],
      "text/plain": [
       "  platform_number cycle      lat      lon c1     c2     c3               c4  \\\n",
       "0         6903190    18  -60.917  304.997  0  2.154  0.257  6.0xtimes1975.0   \n",
       "1         5903417    88  -37.717  332.474  1  0.343  0.051  6.0xtimes1975.0   \n",
       "2         6901697    81  -37.674  332.432  1  0.551  0.051  6.0xtimes1975.0   \n",
       "3         3900529    66  -37.284  285.835  1  0.230  0.038  6.0xtimes1975.0   \n",
       "4         5904120    53  -36.369  330.982  1  0.640  0.048  6.0xtimes1975.0   \n",
       "\n",
       "     c5  profile_id  \n",
       "0  None  6903190_18  \n",
       "1  None  5903417_88  \n",
       "2  None  6901697_81  \n",
       "3  None  3900529_66  \n",
       "4  None  5904120_53  "
      ]
     },
     "execution_count": 10,
     "metadata": {},
     "output_type": "execute_result"
    }
   ],
   "source": [
    "print(rejectDf.shape)\n",
    "rejectDf.head()"
   ]
  },
  {
   "cell_type": "markdown",
   "metadata": {},
   "source": [
    "# Parse data files"
   ]
  },
  {
   "cell_type": "code",
   "execution_count": null,
   "metadata": {},
   "outputs": [
    {
     "name": "stdout",
     "output_type": "stream",
     "text": [
      "/storage/kakapo/200401_padj.dat.gz\n",
      "/storage/kakapo/200402_padj.dat.gz\n",
      "/storage/kakapo/200403_padj.dat.gz\n",
      "/storage/kakapo/200404_padj.dat.gz\n",
      "/storage/kakapo/200405_padj.dat.gz\n",
      "/storage/kakapo/200406_padj.dat.gz\n",
      "/storage/kakapo/200407_padj.dat.gz\n",
      "/storage/kakapo/200408_padj.dat.gz\n",
      "/storage/kakapo/200409_padj.dat.gz\n",
      "/storage/kakapo/200410_padj.dat.gz\n",
      "/storage/kakapo/200411_padj.dat.gz\n",
      "/storage/kakapo/200412_padj.dat.gz\n",
      "/storage/kakapo/200501_padj.dat.gz\n",
      "/storage/kakapo/200502_padj.dat.gz\n",
      "/storage/kakapo/200503_padj.dat.gz\n",
      "/storage/kakapo/200504_padj.dat.gz\n",
      "/storage/kakapo/200505_padj.dat.gz\n",
      "/storage/kakapo/200506_padj.dat.gz\n",
      "/storage/kakapo/200507_padj.dat.gz\n",
      "/storage/kakapo/200508_padj.dat.gz\n",
      "/storage/kakapo/200509_padj.dat.gz\n",
      "/storage/kakapo/200510_padj.dat.gz\n",
      "/storage/kakapo/200511_padj.dat.gz\n",
      "/storage/kakapo/200512_padj.dat.gz\n",
      "/storage/kakapo/200601_padj.dat.gz\n",
      "/storage/kakapo/200602_padj.dat.gz\n",
      "/storage/kakapo/200603_padj.dat.gz\n",
      "/storage/kakapo/200604_padj.dat.gz\n",
      "/storage/kakapo/200605_padj.dat.gz\n",
      "/storage/kakapo/200606_padj.dat.gz\n",
      "/storage/kakapo/200607_padj.dat.gz\n",
      "/storage/kakapo/200608_padj.dat.gz\n",
      "/storage/kakapo/200609_padj.dat.gz\n",
      "/storage/kakapo/200610_padj.dat.gz\n",
      "/storage/kakapo/200611_padj.dat.gz\n",
      "/storage/kakapo/200612_padj.dat.gz\n",
      "/storage/kakapo/200701_padj.dat.gz\n",
      "/storage/kakapo/200702_padj.dat.gz\n",
      "/storage/kakapo/200703_padj.dat.gz\n",
      "/storage/kakapo/200704_padj.dat.gz\n",
      "/storage/kakapo/200705_padj.dat.gz\n",
      "/storage/kakapo/200706_padj.dat.gz\n",
      "/storage/kakapo/200707_padj.dat.gz\n",
      "/storage/kakapo/200708_padj.dat.gz\n",
      "/storage/kakapo/200709_padj.dat.gz\n",
      "/storage/kakapo/200710_padj.dat.gz\n",
      "/storage/kakapo/200711_padj.dat.gz\n",
      "/storage/kakapo/200712_padj.dat.gz\n",
      "/storage/kakapo/200801_padj.dat.gz\n",
      "/storage/kakapo/200802_padj.dat.gz\n",
      "/storage/kakapo/200803_padj.dat.gz\n",
      "/storage/kakapo/200804_padj.dat.gz\n",
      "/storage/kakapo/200805_padj.dat.gz\n",
      "/storage/kakapo/200806_padj.dat.gz\n",
      "/storage/kakapo/200807_padj.dat.gz\n",
      "/storage/kakapo/200808_padj.dat.gz\n",
      "/storage/kakapo/200809_padj.dat.gz\n",
      "/storage/kakapo/200810_padj.dat.gz\n",
      "/storage/kakapo/200811_padj.dat.gz\n",
      "/storage/kakapo/200812_padj.dat.gz\n",
      "/storage/kakapo/200901_padj.dat.gz\n",
      "/storage/kakapo/200902_padj.dat.gz\n",
      "/storage/kakapo/200903_padj.dat.gz\n",
      "/storage/kakapo/200904_padj.dat.gz\n",
      "/storage/kakapo/200905_padj.dat.gz\n",
      "/storage/kakapo/200906_padj.dat.gz\n",
      "/storage/kakapo/200907_padj.dat.gz\n",
      "/storage/kakapo/200908_padj.dat.gz\n",
      "/storage/kakapo/200909_padj.dat.gz\n",
      "/storage/kakapo/200910_padj.dat.gz\n",
      "/storage/kakapo/200911_padj.dat.gz\n",
      "/storage/kakapo/200912_padj.dat.gz\n",
      "/storage/kakapo/201001_padj.dat.gz\n",
      "/storage/kakapo/201002_padj.dat.gz\n",
      "/storage/kakapo/201003_padj.dat.gz\n",
      "/storage/kakapo/201004_padj.dat.gz\n",
      "/storage/kakapo/201005_padj.dat.gz\n",
      "/storage/kakapo/201006_padj.dat.gz\n",
      "/storage/kakapo/201007_padj.dat.gz\n",
      "/storage/kakapo/201008_padj.dat.gz\n",
      "/storage/kakapo/201009_padj.dat.gz\n",
      "/storage/kakapo/201010_padj.dat.gz\n",
      "/storage/kakapo/201011_padj.dat.gz\n",
      "/storage/kakapo/201012_padj.dat.gz\n",
      "/storage/kakapo/201101_padj.dat.gz\n",
      "/storage/kakapo/201102_padj.dat.gz\n",
      "/storage/kakapo/201103_padj.dat.gz\n",
      "/storage/kakapo/201104_padj.dat.gz\n",
      "/storage/kakapo/201105_padj.dat.gz\n",
      "/storage/kakapo/201106_padj.dat.gz\n",
      "/storage/kakapo/201107_padj.dat.gz\n",
      "/storage/kakapo/201108_padj.dat.gz\n",
      "/storage/kakapo/201109_padj.dat.gz\n",
      "/storage/kakapo/201110_padj.dat.gz\n",
      "/storage/kakapo/201111_padj.dat.gz\n",
      "/storage/kakapo/201112_padj.dat.gz\n",
      "/storage/kakapo/201201_padj.dat.gz\n",
      "/storage/kakapo/201202_padj.dat.gz\n",
      "/storage/kakapo/201203_padj.dat.gz\n",
      "/storage/kakapo/201204_padj.dat.gz\n",
      "/storage/kakapo/201205_padj.dat.gz\n",
      "/storage/kakapo/201206_padj.dat.gz\n",
      "/storage/kakapo/201207_padj.dat.gz\n",
      "/storage/kakapo/201208_padj.dat.gz\n",
      "/storage/kakapo/201209_padj.dat.gz\n",
      "/storage/kakapo/201210_padj.dat.gz\n",
      "/storage/kakapo/201211_padj.dat.gz\n",
      "/storage/kakapo/201212_padj.dat.gz\n",
      "/storage/kakapo/201301_padj.dat.gz\n",
      "/storage/kakapo/201302_padj.dat.gz\n",
      "/storage/kakapo/201303_padj.dat.gz\n",
      "/storage/kakapo/201304_padj.dat.gz\n",
      "/storage/kakapo/201305_padj.dat.gz\n",
      "/storage/kakapo/201306_padj.dat.gz\n",
      "/storage/kakapo/201307_padj.dat.gz\n",
      "/storage/kakapo/201308_padj.dat.gz\n",
      "/storage/kakapo/201309_padj.dat.gz\n",
      "/storage/kakapo/201310_padj.dat.gz\n",
      "/storage/kakapo/201311_padj.dat.gz\n",
      "/storage/kakapo/201312_padj.dat.gz\n",
      "/storage/kakapo/201401_padj.dat.gz\n",
      "/storage/kakapo/201402_padj.dat.gz\n",
      "/storage/kakapo/201403_padj.dat.gz\n",
      "/storage/kakapo/201404_padj.dat.gz\n",
      "/storage/kakapo/201405_padj.dat.gz\n",
      "/storage/kakapo/201406_padj.dat.gz\n",
      "/storage/kakapo/201407_padj.dat.gz\n",
      "/storage/kakapo/201408_padj.dat.gz\n",
      "/storage/kakapo/201409_padj.dat.gz\n",
      "/storage/kakapo/201410_padj.dat.gz\n",
      "/storage/kakapo/201411_padj.dat.gz\n",
      "/storage/kakapo/201412_padj.dat.gz\n",
      "/storage/kakapo/201501_padj.dat.gz\n",
      "/storage/kakapo/201502_padj.dat.gz\n",
      "/storage/kakapo/201503_padj.dat.gz\n",
      "/storage/kakapo/201504_padj.dat.gz\n",
      "/storage/kakapo/201505_padj.dat.gz\n",
      "/storage/kakapo/201506_padj.dat.gz\n",
      "/storage/kakapo/201507_padj.dat.gz\n",
      "/storage/kakapo/201508_padj.dat.gz\n",
      "/storage/kakapo/201509_padj.dat.gz\n",
      "/storage/kakapo/201510_padj.dat.gz\n",
      "/storage/kakapo/201511_padj.dat.gz\n",
      "/storage/kakapo/201512_padj.dat.gz\n",
      "/storage/kakapo/201601_padj.dat.gz\n",
      "/storage/kakapo/201602_padj.dat.gz\n",
      "/storage/kakapo/201603_padj.dat.gz\n",
      "/storage/kakapo/201604_padj.dat.gz\n",
      "/storage/kakapo/201605_padj.dat.gz\n",
      "/storage/kakapo/201606_padj.dat.gz\n",
      "/storage/kakapo/201607_padj.dat.gz\n",
      "/storage/kakapo/201608_padj.dat.gz\n",
      "/storage/kakapo/201609_padj.dat.gz\n",
      "/storage/kakapo/201610_padj.dat.gz\n",
      "/storage/kakapo/201611_padj.dat.gz\n",
      "/storage/kakapo/201612_padj.dat.gz\n",
      "/storage/kakapo/201701_padj.dat.gz\n",
      "/storage/kakapo/201702_padj.dat.gz\n",
      "/storage/kakapo/201703_padj.dat.gz\n",
      "/storage/kakapo/201704_padj.dat.gz\n",
      "/storage/kakapo/201705_padj.dat.gz\n",
      "/storage/kakapo/201706_padj.dat.gz\n",
      "/storage/kakapo/201707_padj.dat.gz\n",
      "/storage/kakapo/201708_padj.dat.gz\n",
      "/storage/kakapo/201709_padj.dat.gz\n",
      "/storage/kakapo/201710_padj.dat.gz\n",
      "/storage/kakapo/201711_padj.dat.gz\n",
      "/storage/kakapo/201712_padj.dat.gz\n",
      "/storage/kakapo/201801_padj.dat.gz\n",
      "/storage/kakapo/201802_padj.dat.gz\n",
      "/storage/kakapo/201803_padj.dat.gz\n",
      "/storage/kakapo/201804_padj.dat.gz\n",
      "/storage/kakapo/201805_padj.dat.gz\n",
      "/storage/kakapo/201806_padj.dat.gz\n"
     ]
    }
   ],
   "source": [
    "files = glob('/storage/kakapo/*_padj.dat.gz')\n",
    "header = ['latitude', 'longitude', 'day', 'month', 'year', 'hr', 'min',\n",
    "          'sec', 'pressure', 'temperature', 'potential temperature',\n",
    "          'salinity', 'DMODE status', 'WMO', 'cycle number', 'original netcdf file']\n",
    "\n",
    "def get_gzip_lines(filename):\n",
    "    with gzip.open(file, \"r\") as f:\n",
    "        data = f.readlines()\n",
    "        lines = []\n",
    "        for line in data:\n",
    "            line = line.decode('utf-8')\n",
    "            line = ' '.join(line.split())\n",
    "            line = line.split(' ')\n",
    "            line[-1] = line[-1].replace('/n', '')\n",
    "            lines.append(line)\n",
    "        print(filename)\n",
    "    return lines\n",
    "\n",
    "\n",
    "#conn.execute('''DROP TABLE IF EXISTS {};'''.format(tableName))\n",
    "for file in files:\n",
    "    lines = get_gzip_lines(file)\n",
    "    df = pd.DataFrame(data=lines, columns=header)\n",
    "    df['profile_id'] = df['WMO'].apply(lambda x: str(x)) + '_'  + df['cycle number'].apply(lambda x: str(x))\n",
    "    df.to_sql(tableName, conn, if_exists='append', index=False)"
   ]
  },
  {
   "cell_type": "code",
   "execution_count": 4,
   "metadata": {},
   "outputs": [
    {
     "ename": "DatabaseError",
     "evalue": "Execution failed on sql 'SELECT * FROM profiles LIMIT 10;': no such table: profiles",
     "output_type": "error",
     "traceback": [
      "\u001b[0;31m---------------------------------------------------------------------------\u001b[0m",
      "\u001b[0;31mOperationalError\u001b[0m                          Traceback (most recent call last)",
      "\u001b[0;32m~/anaconda3/envs/argo/lib/python3.6/site-packages/pandas/io/sql.py\u001b[0m in \u001b[0;36mexecute\u001b[0;34m(self, *args, **kwargs)\u001b[0m\n\u001b[1;32m   1377\u001b[0m             \u001b[0;32melse\u001b[0m\u001b[0;34m:\u001b[0m\u001b[0;34m\u001b[0m\u001b[0m\n\u001b[0;32m-> 1378\u001b[0;31m                 \u001b[0mcur\u001b[0m\u001b[0;34m.\u001b[0m\u001b[0mexecute\u001b[0m\u001b[0;34m(\u001b[0m\u001b[0;34m*\u001b[0m\u001b[0margs\u001b[0m\u001b[0;34m)\u001b[0m\u001b[0;34m\u001b[0m\u001b[0m\n\u001b[0m\u001b[1;32m   1379\u001b[0m             \u001b[0;32mreturn\u001b[0m \u001b[0mcur\u001b[0m\u001b[0;34m\u001b[0m\u001b[0m\n",
      "\u001b[0;31mOperationalError\u001b[0m: no such table: profiles",
      "\nDuring handling of the above exception, another exception occurred:\n",
      "\u001b[0;31mDatabaseError\u001b[0m                             Traceback (most recent call last)",
      "\u001b[0;32m<ipython-input-4-b4c5a873d0ce>\u001b[0m in \u001b[0;36m<module>\u001b[0;34m\u001b[0m\n\u001b[0;32m----> 1\u001b[0;31m \u001b[0msmdf\u001b[0m \u001b[0;34m=\u001b[0m \u001b[0mpd\u001b[0m\u001b[0;34m.\u001b[0m\u001b[0mread_sql_query\u001b[0m\u001b[0;34m(\u001b[0m\u001b[0;34m'SELECT * FROM {} LIMIT 10;'\u001b[0m\u001b[0;34m.\u001b[0m\u001b[0mformat\u001b[0m\u001b[0;34m(\u001b[0m\u001b[0mtableName\u001b[0m\u001b[0;34m)\u001b[0m\u001b[0;34m,\u001b[0m \u001b[0mconn\u001b[0m\u001b[0;34m)\u001b[0m\u001b[0;34m\u001b[0m\u001b[0m\n\u001b[0m",
      "\u001b[0;32m~/anaconda3/envs/argo/lib/python3.6/site-packages/pandas/io/sql.py\u001b[0m in \u001b[0;36mread_sql_query\u001b[0;34m(sql, con, index_col, coerce_float, params, parse_dates, chunksize)\u001b[0m\n\u001b[1;32m    312\u001b[0m     return pandas_sql.read_query(\n\u001b[1;32m    313\u001b[0m         \u001b[0msql\u001b[0m\u001b[0;34m,\u001b[0m \u001b[0mindex_col\u001b[0m\u001b[0;34m=\u001b[0m\u001b[0mindex_col\u001b[0m\u001b[0;34m,\u001b[0m \u001b[0mparams\u001b[0m\u001b[0;34m=\u001b[0m\u001b[0mparams\u001b[0m\u001b[0;34m,\u001b[0m \u001b[0mcoerce_float\u001b[0m\u001b[0;34m=\u001b[0m\u001b[0mcoerce_float\u001b[0m\u001b[0;34m,\u001b[0m\u001b[0;34m\u001b[0m\u001b[0m\n\u001b[0;32m--> 314\u001b[0;31m         parse_dates=parse_dates, chunksize=chunksize)\n\u001b[0m\u001b[1;32m    315\u001b[0m \u001b[0;34m\u001b[0m\u001b[0m\n\u001b[1;32m    316\u001b[0m \u001b[0;34m\u001b[0m\u001b[0m\n",
      "\u001b[0;32m~/anaconda3/envs/argo/lib/python3.6/site-packages/pandas/io/sql.py\u001b[0m in \u001b[0;36mread_query\u001b[0;34m(self, sql, index_col, coerce_float, params, parse_dates, chunksize)\u001b[0m\n\u001b[1;32m   1411\u001b[0m \u001b[0;34m\u001b[0m\u001b[0m\n\u001b[1;32m   1412\u001b[0m         \u001b[0margs\u001b[0m \u001b[0;34m=\u001b[0m \u001b[0m_convert_params\u001b[0m\u001b[0;34m(\u001b[0m\u001b[0msql\u001b[0m\u001b[0;34m,\u001b[0m \u001b[0mparams\u001b[0m\u001b[0;34m)\u001b[0m\u001b[0;34m\u001b[0m\u001b[0m\n\u001b[0;32m-> 1413\u001b[0;31m         \u001b[0mcursor\u001b[0m \u001b[0;34m=\u001b[0m \u001b[0mself\u001b[0m\u001b[0;34m.\u001b[0m\u001b[0mexecute\u001b[0m\u001b[0;34m(\u001b[0m\u001b[0;34m*\u001b[0m\u001b[0margs\u001b[0m\u001b[0;34m)\u001b[0m\u001b[0;34m\u001b[0m\u001b[0m\n\u001b[0m\u001b[1;32m   1414\u001b[0m         \u001b[0mcolumns\u001b[0m \u001b[0;34m=\u001b[0m \u001b[0;34m[\u001b[0m\u001b[0mcol_desc\u001b[0m\u001b[0;34m[\u001b[0m\u001b[0;36m0\u001b[0m\u001b[0;34m]\u001b[0m \u001b[0;32mfor\u001b[0m \u001b[0mcol_desc\u001b[0m \u001b[0;32min\u001b[0m \u001b[0mcursor\u001b[0m\u001b[0;34m.\u001b[0m\u001b[0mdescription\u001b[0m\u001b[0;34m]\u001b[0m\u001b[0;34m\u001b[0m\u001b[0m\n\u001b[1;32m   1415\u001b[0m \u001b[0;34m\u001b[0m\u001b[0m\n",
      "\u001b[0;32m~/anaconda3/envs/argo/lib/python3.6/site-packages/pandas/io/sql.py\u001b[0m in \u001b[0;36mexecute\u001b[0;34m(self, *args, **kwargs)\u001b[0m\n\u001b[1;32m   1388\u001b[0m             ex = DatabaseError(\n\u001b[1;32m   1389\u001b[0m                 \"Execution failed on sql '%s': %s\" % (args[0], exc))\n\u001b[0;32m-> 1390\u001b[0;31m             \u001b[0mraise_with_traceback\u001b[0m\u001b[0;34m(\u001b[0m\u001b[0mex\u001b[0m\u001b[0;34m)\u001b[0m\u001b[0;34m\u001b[0m\u001b[0m\n\u001b[0m\u001b[1;32m   1391\u001b[0m \u001b[0;34m\u001b[0m\u001b[0m\n\u001b[1;32m   1392\u001b[0m     \u001b[0;34m@\u001b[0m\u001b[0mstaticmethod\u001b[0m\u001b[0;34m\u001b[0m\u001b[0m\n",
      "\u001b[0;32m~/anaconda3/envs/argo/lib/python3.6/site-packages/pandas/compat/__init__.py\u001b[0m in \u001b[0;36mraise_with_traceback\u001b[0;34m(exc, traceback)\u001b[0m\n\u001b[1;32m    402\u001b[0m         \u001b[0;32mif\u001b[0m \u001b[0mtraceback\u001b[0m \u001b[0;34m==\u001b[0m \u001b[0mEllipsis\u001b[0m\u001b[0;34m:\u001b[0m\u001b[0;34m\u001b[0m\u001b[0m\n\u001b[1;32m    403\u001b[0m             \u001b[0m_\u001b[0m\u001b[0;34m,\u001b[0m \u001b[0m_\u001b[0m\u001b[0;34m,\u001b[0m \u001b[0mtraceback\u001b[0m \u001b[0;34m=\u001b[0m \u001b[0msys\u001b[0m\u001b[0;34m.\u001b[0m\u001b[0mexc_info\u001b[0m\u001b[0;34m(\u001b[0m\u001b[0;34m)\u001b[0m\u001b[0;34m\u001b[0m\u001b[0m\n\u001b[0;32m--> 404\u001b[0;31m         \u001b[0;32mraise\u001b[0m \u001b[0mexc\u001b[0m\u001b[0;34m.\u001b[0m\u001b[0mwith_traceback\u001b[0m\u001b[0;34m(\u001b[0m\u001b[0mtraceback\u001b[0m\u001b[0;34m)\u001b[0m\u001b[0;34m\u001b[0m\u001b[0m\n\u001b[0m\u001b[1;32m    405\u001b[0m \u001b[0;32melse\u001b[0m\u001b[0;34m:\u001b[0m\u001b[0;34m\u001b[0m\u001b[0m\n\u001b[1;32m    406\u001b[0m     \u001b[0;31m# this version of raise is a syntax error in Python 3\u001b[0m\u001b[0;34m\u001b[0m\u001b[0;34m\u001b[0m\u001b[0m\n",
      "\u001b[0;32m~/anaconda3/envs/argo/lib/python3.6/site-packages/pandas/io/sql.py\u001b[0m in \u001b[0;36mexecute\u001b[0;34m(self, *args, **kwargs)\u001b[0m\n\u001b[1;32m   1376\u001b[0m                 \u001b[0mcur\u001b[0m\u001b[0;34m.\u001b[0m\u001b[0mexecute\u001b[0m\u001b[0;34m(\u001b[0m\u001b[0;34m*\u001b[0m\u001b[0margs\u001b[0m\u001b[0;34m,\u001b[0m \u001b[0;34m**\u001b[0m\u001b[0mkwargs\u001b[0m\u001b[0;34m)\u001b[0m\u001b[0;34m\u001b[0m\u001b[0m\n\u001b[1;32m   1377\u001b[0m             \u001b[0;32melse\u001b[0m\u001b[0;34m:\u001b[0m\u001b[0;34m\u001b[0m\u001b[0m\n\u001b[0;32m-> 1378\u001b[0;31m                 \u001b[0mcur\u001b[0m\u001b[0;34m.\u001b[0m\u001b[0mexecute\u001b[0m\u001b[0;34m(\u001b[0m\u001b[0;34m*\u001b[0m\u001b[0margs\u001b[0m\u001b[0;34m)\u001b[0m\u001b[0;34m\u001b[0m\u001b[0m\n\u001b[0m\u001b[1;32m   1379\u001b[0m             \u001b[0;32mreturn\u001b[0m \u001b[0mcur\u001b[0m\u001b[0;34m\u001b[0m\u001b[0m\n\u001b[1;32m   1380\u001b[0m         \u001b[0;32mexcept\u001b[0m \u001b[0mException\u001b[0m \u001b[0;32mas\u001b[0m \u001b[0mexc\u001b[0m\u001b[0;34m:\u001b[0m\u001b[0;34m\u001b[0m\u001b[0m\n",
      "\u001b[0;31mDatabaseError\u001b[0m: Execution failed on sql 'SELECT * FROM profiles LIMIT 10;': no such table: profiles"
     ]
    }
   ],
   "source": [
    "smdf = pd.read_sql_query('SELECT * FROM {} LIMIT 10;'.format(tableName), conn)"
   ]
  },
  {
   "cell_type": "code",
   "execution_count": 61,
   "metadata": {},
   "outputs": [
    {
     "data": {
      "text/plain": [
       "(553930, 17)"
      ]
     },
     "execution_count": 61,
     "metadata": {},
     "output_type": "execute_result"
    }
   ],
   "source": [
    "conn.execute('''SELECT COUNT(*) FROM {};'''.format(tableName))"
   ]
  },
  {
   "cell_type": "code",
   "execution_count": null,
   "metadata": {
    "collapsed": true
   },
   "outputs": [],
   "source": []
  }
 ],
 "metadata": {
  "kernelspec": {
   "display_name": "Python 3",
   "language": "python",
   "name": "python3"
  },
  "language_info": {
   "codemirror_mode": {
    "name": "ipython",
    "version": 3
   },
   "file_extension": ".py",
   "mimetype": "text/x-python",
   "name": "python",
   "nbconvert_exporter": "python",
   "pygments_lexer": "ipython3",
   "version": "3.6.1"
  }
 },
 "nbformat": 4,
 "nbformat_minor": 2
}
