{
 "cells": [
  {
   "cell_type": "code",
   "execution_count": 10,
   "metadata": {
    "collapsed": true
   },
   "outputs": [],
   "source": [
    "library(httr)\n",
    "options(warn=-1)"
   ]
  },
  {
   "cell_type": "code",
   "execution_count": 23,
   "metadata": {
    "collapsed": true
   },
   "outputs": [],
   "source": [
    "get.profile <- function(profileName){\n",
    "  baseURL <- \"https://argovis.colorado.edu/catalog/profiles/\"\n",
    "  url <- paste(baseURL, profileName, sep=\"\")\n",
    "  resp <- GET(url)\n",
    "  if(resp$status_code==200) {\n",
    "    profile = content(resp, \"parsed\")\n",
    "  }\n",
    "  else {\n",
    "    profile = profile = content(resp, \"raw\")\n",
    "  }\n",
    "  return(profile)\n",
    "}\n",
    "\n",
    "parse.into.df <- function(profile) {\n",
    "    paramNames <- names(profile)\n",
    "    meas <- profile$measurements\n",
    "    names = unique(names(unlist(meas)))\n",
    "    df <- data.frame(matrix(unlist(meas), nrow=length(meas), byrow=T))\n",
    "    colnames(df) <- names\n",
    "    df$profile_id <- profile$`_id`\n",
    "    df$date <- profile$date\n",
    "    df$cycle_number <- profile$cycle_number\n",
    "    df$lat <- profile$lat\n",
    "    df$lon <- profile$lon\n",
    "    return (df)\n",
    "}\n",
    "\n",
    "library(httr)\n",
    "get.platform.data <- function(platform, xaxis, yaxis){\n",
    "    baseURL <- \"https://argovis.colorado.edu/catalog/bgc_platform_data/\"\n",
    "    platformQuery <- paste(platform, '/', sep=\"\")\n",
    "    xAxisQuery <- paste('?xaxis=', xaxis, sep=\"\")\n",
    "    yAxisQuery <- paste('&yaxis=', yaxis, sep=\"\")\n",
    "    url <- paste(baseURL, platformQuery, xAxisQuery, yAxisQuery, sep=\"\")\n",
    "    #https://argovis.colorado.edu/catalog/bgc_platform_data/5903586/?xaxis=pres&yaxis=psal\n",
    "    print(url)\n",
    "  resp <- GET(url)\n",
    "  if(resp$status_code==200) {\n",
    "    profiles <- content(resp, \"parsed\")\n",
    "  }\n",
    "  else {\n",
    "    profiles <- content(resp, \"raw\")\n",
    "  }\n",
    "  return(profiles)\n",
    "}"
   ]
  },
  {
   "cell_type": "code",
   "execution_count": 26,
   "metadata": {},
   "outputs": [
    {
     "name": "stdout",
     "output_type": "stream",
     "text": [
      "[1] \"https://argovis.colorado.edu/catalog/bgc_platform_data/5903586/?xaxis=pres&yaxis=doxy\"\n"
     ]
    }
   ],
   "source": [
    "profiles = get.platform.data('5903586', 'pres', 'doxy')"
   ]
  },
  {
   "cell_type": "code",
   "execution_count": 30,
   "metadata": {},
   "outputs": [
    {
     "data": {
      "text/html": [
       "<ol>\n",
       "</ol>\n"
      ],
      "text/latex": [
       "\\begin{enumerate}\n",
       "\\end{enumerate}\n"
      ],
      "text/markdown": [
       "\n",
       "\n"
      ],
      "text/plain": [
       "list()"
      ]
     },
     "metadata": {},
     "output_type": "display_data"
    }
   ],
   "source": [
    "profiles[0]"
   ]
  },
  {
   "cell_type": "code",
   "execution_count": null,
   "metadata": {
    "collapsed": true
   },
   "outputs": [],
   "source": []
  }
 ],
 "metadata": {
  "kernelspec": {
   "display_name": "R",
   "language": "R",
   "name": "ir"
  },
  "language_info": {
   "codemirror_mode": "r",
   "file_extension": ".r",
   "mimetype": "text/x-r-source",
   "name": "R",
   "pygments_lexer": "r",
   "version": "3.4.3"
  }
 },
 "nbformat": 4,
 "nbformat_minor": 2
}
