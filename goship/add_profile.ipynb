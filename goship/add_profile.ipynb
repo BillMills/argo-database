{
 "cells": [
  {
   "cell_type": "code",
   "execution_count": 30,
   "metadata": {},
   "outputs": [],
   "source": [
    "import numpy as np\n",
    "import pandas as pd\n",
    "import pymongo\n",
    "import os\n",
    "from glob import glob\n",
    "import pdb"
   ]
  },
  {
   "cell_type": "code",
   "execution_count": 31,
   "metadata": {},
   "outputs": [
    {
     "name": "stdout",
     "output_type": "stream",
     "text": [
      "/storage/goship/same_expocode_json/\n",
      "350\n"
     ]
    }
   ],
   "source": [
    "import json\n",
    "jsonPath = os.path.join('/storage/goship/same_expocode_json/')\n",
    "files = glob(os.path.join(jsonPath, '**/*.json'))\n",
    "print(jsonPath)\n",
    "print(len(files))"
   ]
  },
  {
   "cell_type": "code",
   "execution_count": 29,
   "metadata": {},
   "outputs": [],
   "source": [
    "def make_doc(filename):\n",
    "    with open(filename) as f:\n",
    "        doc = json.load(f)\n",
    "    return doc\n",
    "\n",
    "def create_collection(dbName, collectionName):\n",
    "    dbUrl = 'mongodb://localhost:27017/'\n",
    "    client = pymongo.MongoClient(dbUrl)\n",
    "    db = client[dbName]\n",
    "    coll = db[collectionName]\n",
    "    coll = init_profiles_collection(coll)\n",
    "    return coll\n",
    "\n",
    "def init_profiles_collection(coll):\n",
    "    coll.create_index([('date', pymongo.DESCENDING)])\n",
    "    coll.create_index([('lat', pymongo.DESCENDING)])\n",
    "    coll.create_index([('lon', pymongo.DESCENDING)])\n",
    "    coll.create_index([('geoLocation', pymongo.DESCENDING)])\n",
    "    return coll\n",
    "\n",
    "dbName = 'goship'\n",
    "collName = 'profiles'\n",
    "coll = create_collection(dbName, collName)\n",
    "coll.drop()\n",
    "\n",
    "\n",
    "for file in files:\n",
    "    doc = make_doc(file)\n",
    "    coll.insert_one(doc)"
   ]
  },
  {
   "cell_type": "code",
   "execution_count": 75,
   "metadata": {},
   "outputs": [
    {
     "data": {
      "text/plain": [
       "{'_id': ObjectId('5f7bbba5afc6ec18cbc70aff'),\n",
       " 'whp_name': 'CTDSAL',\n",
       " 'whp_unit': 'PSS-78',\n",
       " 'standard_name': 'sea_water_practical_salinity',\n",
       " 'units': '1',\n",
       " 'reference_scale': 'PSS-78',\n",
       " 'ancillary_variables': 'ctd_salinity_qc',\n",
       " 'name': 'ctd_salinity',\n",
       " 'latitude': 7.005,\n",
       " 'longitude': 165.075,\n",
       " 'time': '2002-07-06T12:06:00',\n",
       " 'expocode': '33KMGP402_1',\n",
       " 'station': '2',\n",
       " 'cast': 1,\n",
       " 'sample': ['13', '12', '11', '10', '9', '8', '7', '6', '5', '4', '3', '1'],\n",
       " 'measurements': [{'data': 33.90599822998047, 'pres': 3.2},\n",
       "  {'data': 33.90700149536133, 'pres': 9.9},\n",
       "  {'data': 33.92660140991211, 'pres': 24.5},\n",
       "  {'data': 33.93960189819336, 'pres': 39.6},\n",
       "  {'data': 34.27519989013672, 'pres': 60.0},\n",
       "  {'data': 34.880699157714844, 'pres': 100.3},\n",
       "  {'data': 34.55080032348633, 'pres': 150.5},\n",
       "  {'data': 34.605098724365234, 'pres': 200.0},\n",
       "  {'data': 34.625099182128906, 'pres': 400.8},\n",
       "  {'data': 34.56570053100586, 'pres': 600.2},\n",
       "  {'data': 34.546600341796875, 'pres': 799.0},\n",
       "  {'data': 34.561100006103516, 'pres': 1001.0}],\n",
       " 'geoLocation': {'type': 'Point', 'coordinates': [165.075, 7.005]}}"
      ]
     },
     "execution_count": 75,
     "metadata": {},
     "output_type": "execute_result"
    }
   ],
   "source": [
    "coll.find_one( {'expocode': '33KMGP402_1'} )"
   ]
  },
  {
   "cell_type": "code",
   "execution_count": null,
   "metadata": {},
   "outputs": [],
   "source": []
  }
 ],
 "metadata": {
  "kernelspec": {
   "display_name": "Python argo",
   "language": "python",
   "name": "argo"
  },
  "language_info": {
   "codemirror_mode": {
    "name": "ipython",
    "version": 3
   },
   "file_extension": ".py",
   "mimetype": "text/x-python",
   "name": "python",
   "nbconvert_exporter": "python",
   "pygments_lexer": "ipython3",
   "version": "3.6.10"
  }
 },
 "nbformat": 4,
 "nbformat_minor": 4
}
