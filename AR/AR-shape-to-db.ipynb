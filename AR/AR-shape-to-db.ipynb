{
 "cells": [
  {
   "cell_type": "code",
   "execution_count": 44,
   "metadata": {},
   "outputs": [],
   "source": [
    "import pandas as pd\n",
    "import numpy as np\n",
    "import xarray as xr\n",
    "import requests\n",
    "%matplotlib inline\n",
    "import matplotlib.pylab as plt\n",
    "from scipy.interpolate import griddata\n",
    "from cartopy import config\n",
    "import cartopy.crs as ccrs\n",
    "from shapely.geometry import Polygon\n",
    "import shapely.geometry as geometry\n",
    "from geojson import Polygon\n",
    "import pymongo\n",
    "import multiprocessing as mp\n",
    "from numpy import array_split\n",
    "from datetime import datetime\n",
    "from datetime import timedelta\n",
    "\n",
    "import pdb\n",
    "from shapely.ops import cascaded_union, polygonize\n",
    "from scipy.spatial import Delaunay\n",
    "from descartes import PolygonPatch\n",
    "import numpy as np\n",
    "import math"
   ]
  },
  {
   "cell_type": "code",
   "execution_count": 27,
   "metadata": {},
   "outputs": [],
   "source": [
    "arFileName = '/storage/MERRA2.ar_tag.Guan_Waliser_v2.3hourly.1980to2017.nc4'\n",
    "ds = xr.open_dataset(arFileName, decode_cf=False)"
   ]
  },
  {
   "cell_type": "code",
   "execution_count": 28,
   "metadata": {},
   "outputs": [
    {
     "name": "stdout",
     "output_type": "stream",
     "text": [
      "[(4.5, 4.5), (4.5, 5.5), (5.5, 4.5), (5.5, 5.5)]\n"
     ]
    }
   ],
   "source": [
    "def make_square(point, dx, dy):\n",
    "    isNeg = [ ( x > 0, y > 0) for x in range(0,2) for y in range(0, 2) ]\n",
    "    sign = lambda x: 1 * x + -1 * (not x)\n",
    "    square = [ (point[0] + dx/2. * sign(sx), point[1] + dy/2. * sign(sy)) for (sx, sy) in isNeg]\n",
    "    return square\n",
    "lat, lon = 5, 5\n",
    "dlat, dlon = 1, 1\n",
    "print(make_square((lon, lat), dlon, dlat))"
   ]
  },
  {
   "cell_type": "code",
   "execution_count": 45,
   "metadata": {},
   "outputs": [],
   "source": [
    "points = make_square((lon, lat), dlon, dlat) + make_square((lon + dlon, lat), dlon, dlat) + make_square((lon, lat+dlat), dlon, dlat)\n",
    "pc = geometry.MultiPoint(list(points))\n",
    "#alpha_shape(pc, .5, 0)"
   ]
  },
  {
   "cell_type": "code",
   "execution_count": 43,
   "metadata": {},
   "outputs": [
    {
     "name": "stderr",
     "output_type": "stream",
     "text": [
      "/home/tyler/anaconda3/envs/argo/lib/python3.6/site-packages/ipykernel_launcher.py:21: MatplotlibDeprecationWarning: Adding an axes using the same arguments as a previous axes currently reuses the earlier instance.  In a future version, a new instance will always be created and returned.  Meanwhile, this warning can be suppressed, and the future behavior ensured, by passing a unique label to each axes instance.\n"
     ]
    },
    {
     "data": {
      "text/plain": [
       "<matplotlib.collections.PathCollection at 0x7f7a5e2f2e80>"
      ]
     },
     "execution_count": 43,
     "metadata": {},
     "output_type": "execute_result"
    },
    {
     "data": {
      "text/plain": [
       "<Figure size 648x432 with 0 Axes>"
      ]
     },
     "metadata": {},
     "output_type": "display_data"
    },
    {
     "data": {
      "image/png": "[encoded data removed]",
      "text/plain": [
       "<Figure size 720x720 with 1 Axes>"
      ]
     },
     "metadata": {
      "needs_background": "light"
     },
     "output_type": "display_data"
    }
   ],
   "source": [
    "def plot_polygon(polygon):\n",
    "    fig = plt.figure(figsize=(10,10))\n",
    "    ax = fig.add_subplot(111)\n",
    "    margin = .3\n",
    "    x_min, y_min, x_max, y_max = polygon.bounds\n",
    "    ax.set_xlim([x_min-margin, x_max+margin])\n",
    "    ax.set_ylim([y_min-margin, y_max+margin])\n",
    "    patch = PolygonPatch(polygon, fc='#999999',\n",
    "                         ec='#000000', fill=True,\n",
    "                         zorder=-1)\n",
    "    ax.add_patch(patch)\n",
    "    return fig\n",
    "\n",
    "x = [p.coords.xy[0] for p in pc]\n",
    "y = [p.coords.xy[1] for p in pc]\n",
    "\n",
    "fig = plt.figure(figsize=(9,6))\n",
    "convex_hull_polygon = pc.convex_hull\n",
    "plot_polygon(convex_hull_polygon)\n",
    "ax = plt.axes()\n",
    "ax.scatter(x, y)"
   ]
  },
  {
   "cell_type": "code",
   "execution_count": 42,
   "metadata": {},
   "outputs": [
    {
     "data": {
      "image/svg+xml": [
       "<svg xmlns=\"http://www.w3.org/2000/svg\" xmlns:xlink=\"http://www.w3.org/1999/xlink\" width=\"100.0\" height=\"100.0\" viewBox=\"4.42 4.42 2.16 2.16\" preserveAspectRatio=\"xMinYMin meet\"><g transform=\"matrix(1,0,0,-1,0,11.0)\"><path fill-rule=\"evenodd\" fill=\"#66cc99\" stroke=\"#555555\" stroke-width=\"0.0432\" opacity=\"0.6\" d=\"M 4.5,4.5 L 4.5,6.5 L 5.5,6.5 L 6.5,5.5 L 6.5,4.5 L 4.5,4.5 z\" /></g></svg>"
      ],
      "text/plain": [
       "<shapely.geometry.polygon.Polygon at 0x7f7a5ea105f8>"
      ]
     },
     "execution_count": 42,
     "metadata": {},
     "output_type": "execute_result"
    }
   ],
   "source": [
    "pc.convex_hull"
   ]
  },
  {
   "cell_type": "code",
   "execution_count": 46,
   "metadata": {},
   "outputs": [],
   "source": [
    "def alpha_shape(points, alpha):\n",
    "    \"\"\"\n",
    "    http://blog.thehumangeo.com/2014/05/12/drawing-boundaries-in-python/\n",
    "    Compute the alpha shape (concave hull) of a set\n",
    "    of points.\n",
    "    @param points: Iterable container of points.\n",
    "    @param alpha: alpha value to influence the\n",
    "        gooeyness of the border. Smaller numbers\n",
    "        don't fall inward as much as larger numbers.\n",
    "        Too large, and you lose everything!\n",
    "    \"\"\"\n",
    "    if len(points) < 4:\n",
    "        # When you have a triangle, there is no sense\n",
    "        # in computing an alpha shape.\n",
    "        return geometry.MultiPoint(list(points)).convex_hull\n",
    "    def add_edge(edges, edge_points, coords, i, j):\n",
    "        \"\"\"\n",
    "        Add a line between the i-th and j-th points,\n",
    "        if not in the list already\n",
    "        \"\"\"\n",
    "        if (i, j) in edges or (j, i) in edges:\n",
    "            # already added\n",
    "            return\n",
    "        edges.add( (i, j) )\n",
    "        edge_points.append(coords[ [i, j] ])\n",
    "\n",
    "    coords = np.array([point.coords[0] for point in points])\n",
    "    tri = Delaunay(coords)\n",
    "    edges = set()\n",
    "    edge_points = []\n",
    "    # loop over triangles:\n",
    "    # ia, ib, ic = indices of corner points of the\n",
    "    # triangle\n",
    "    for ia, ib, ic in tri.vertices:\n",
    "        pa = coords[ia]\n",
    "        pb = coords[ib]\n",
    "        pc = coords[ic]\n",
    "        # Lengths of sides of triangle\n",
    "        aa = math.sqrt((pa[0]-pb[0])**2 + (pa[1]-pb[1])**2)\n",
    "        bb = math.sqrt((pb[0]-pc[0])**2 + (pb[1]-pc[1])**2)\n",
    "        cc = math.sqrt((pc[0]-pa[0])**2 + (pc[1]-pa[1])**2)\n",
    "        # Semiperimeter of triangle\n",
    "        ss = (aa + bb + cc)/2.0\n",
    "        # Area of triangle by Heron's formula\n",
    "        areaSquared = ss*(ss-aa)*(ss-bb)*(ss-cc)\n",
    "        if areaSquared < 0: # handles roundoff\n",
    "            continue\n",
    "        area = math.sqrt(areaSquared)\n",
    "        try:\n",
    "            area = math.sqrt(ss*(ss-aa)*(ss-bb)*(ss-cc))\n",
    "        except ValueError:\n",
    "            pdb.set_trace()\n",
    "            continue\n",
    "        if area == 0:\n",
    "            continue\n",
    "        circum_r = aa*bb*cc/(4.0*area)\n",
    "        # Here's the radius filter.\n",
    "        #print circum_r\n",
    "        if circum_r < 1.0/alpha:\n",
    "            add_edge(edges, edge_points, coords, ia, ib)\n",
    "            add_edge(edges, edge_points, coords, ib, ic)\n",
    "            add_edge(edges, edge_points, coords, ic, ia)\n",
    "    m = geometry.MultiLineString(edge_points)\n",
    "    triangles = list(polygonize(m))\n",
    "    concave_hull = cascaded_union(triangles)\n",
    "    return concave_hull, edge_points\n",
    "\n",
    "def get_df_outline_points(lats, lons, dlat=.5, dlon=.625):\n",
    "    '''Returns outer hull of set of grid points.'''\n",
    "    points = list(zip(lons, lats))\n",
    "    outPoints = []\n",
    "    for point in points:\n",
    "        square = make_square(point, dlon, dlat)\n",
    "        outPoints += square\n",
    "    outPoints = list(set(outPoints))\n",
    "    outLons, outLats = [[ i for i, j in outPoints ], [ j for i, j in outPoints ]] \n",
    "    return outLats, outLons\n",
    "        \n",
    "\n",
    "def get_perim_df(df, dlat=.5, dlon=.625, idx=1, alpha=.5, buffer=None):\n",
    "    AR = df[ df['shape'] == idx ]\n",
    "    \n",
    "    ARRange = AR['lon'].max() - AR['lon'].min()\n",
    "    if ARRange > 180:\n",
    "        AR['lon'] = transform_long(AR['lon'].values)\n",
    "        \n",
    "    \n",
    "    points = [geometry.Point(xy) for xy in list(zip(AR.lon, AR.lat))]\n",
    "    concave_hull, edge_points = alpha_shape(points, alpha=alpha)\n",
    "    if isinstance(concave_hull, geometry.multipolygon.MultiPolygon):\n",
    "        lat, lon = [], []\n",
    "        for poly in concave_hull:\n",
    "            if buffer:\n",
    "                plon, plat = poly.buffer(buffer).exterior.coords.xy\n",
    "            else:\n",
    "                plon, plat = poly.exterior.coords.xy\n",
    "            lat.extend(plat)\n",
    "            lon.extend(plon)\n",
    "    else:\n",
    "        if buffer:\n",
    "            lon, lat = concave_hull.buffer(buffer).exterior.coords.xy\n",
    "        else:\n",
    "            lon, lat = concave_hull.exterior.coords.xy\n",
    "            \n",
    "    pdf = pd.DataFrame({'lon': lon, 'lat': lat, 'shape': idx})\n",
    "    return pdf\n",
    "\n",
    "def transform_long(plon):\n",
    "    '''lon > 60 are transformed to negative coords'''\n",
    "    tlon = []\n",
    "    for long in plon:\n",
    "        if long > 60:\n",
    "            tlon.append( long -  360 )\n",
    "        else:\n",
    "            tlon.append(long)\n",
    "    return tlon\n",
    "\n",
    "def plot_scatter(df, date):\n",
    "    fig = plt.figure(figsize=(9,6))\n",
    "    x = df['lon'].values\n",
    "    y = df['lat'].values\n",
    "    z = df['shape'].values\n",
    "    ax = plt.axes(projection=ccrs.PlateCarree())\n",
    "    ax.coastlines(zorder=1)\n",
    "    ax.scatter(x, y, z)\n",
    "    return fig\n",
    "\n",
    "def make_doc(df, date):\n",
    "    doc = {}\n",
    "    doc['shapeId'] = shapeId\n",
    "    outline = tuple(map(tuple, df[['lon', 'lat']].values))\n",
    "    doc['geoLocation'] = Polygon(outline)\n",
    "    doc['date'] = date\n",
    "    docs.append(doc)\n",
    "    return doc\n",
    "\n",
    "def make_df(ds, time=0):\n",
    "    shape = ds.shape.sel(time=time)\n",
    "    df = shape.to_dataframe()\n",
    "    df = df.reset_index()\n",
    "    df.drop(['ens', 'lev', 'time'], axis=1, inplace=True)\n",
    "    df = df[df['shape'] != -9999]\n",
    "    \n",
    "    df['lon'] = df['lon'].round(3)\n",
    "    return df\n",
    "\n",
    "def create_collection(dbName='argo', collectionName='arShapes'):\n",
    "    dbUrl = 'mongodb://localhost:27017/'\n",
    "    client = pymongo.MongoClient(dbUrl)\n",
    "    db = client[dbName]\n",
    "    coll = db[collectionName]\n",
    "    coll = init_profiles_collection(coll)\n",
    "    return coll    \n",
    "\n",
    "def init_profiles_collection(coll):\n",
    "    try:\n",
    "        coll.create_index([('date', pymongo.DESCENDING)])\n",
    "        coll.create_index([('shapeId', pymongo.DESCENDING)])\n",
    "    except:\n",
    "        logging.warning('not able to get collections or set indexes')\n",
    "    return coll"
   ]
  },
  {
   "cell_type": "code",
   "execution_count": null,
   "metadata": {},
   "outputs": [],
   "source": []
  },
  {
   "cell_type": "code",
   "execution_count": 6,
   "metadata": {},
   "outputs": [],
   "source": [
    "da = ds.shape"
   ]
  },
  {
   "cell_type": "code",
   "execution_count": 7,
   "metadata": {},
   "outputs": [
    {
     "name": "stdout",
     "output_type": "stream",
     "text": [
      "delta lon: 0.625, delta lat: 0.5\n"
     ]
    }
   ],
   "source": [
    "dlon = np.unique(np.diff(np.array(da.lon.to_dataframe().lon.tolist())))[1]\n",
    "dlat = np.unique(np.diff(np.array(da.lat.to_dataframe().lat.tolist())))[1]\n",
    "print(f'delta lon: {dlon}, delta lat: {dlat}')"
   ]
  },
  {
   "cell_type": "code",
   "execution_count": 13,
   "metadata": {},
   "outputs": [],
   "source": []
  },
  {
   "cell_type": "code",
   "execution_count": 6,
   "metadata": {},
   "outputs": [
    {
     "name": "stdout",
     "output_type": "stream",
     "text": [
      "xarray.Dataset {\n",
      "dimensions:\n",
      "\tens = 1 ;\n",
      "\tlat = 361 ;\n",
      "\tlev = 1 ;\n",
      "\tlimitID = 5 ;\n",
      "\tlon = 576 ;\n",
      "\tstageID = 9 ;\n",
      "\ttime = 109568 ;\n",
      "\n",
      "variables:\n",
      "\tint16 shape(ens, time, lev, lat, lon) ;\n",
      "\t\tshape:_FillValue = -9999 ;\n",
      "\t\tshape:long_name = Shape ;\n",
      "\t\tshape:units = none ;\n",
      "\tfloat64 axis(ens, time, lev, lat, lon) ;\n",
      "\t\taxis:_FillValue = -9999.0 ;\n",
      "\t\taxis:long_name = Axis ;\n",
      "\t\taxis:units = none ;\n",
      "\tfloat64 tnsct(ens, time, lev, lat, lon) ;\n",
      "\t\ttnsct:_FillValue = -9999.0 ;\n",
      "\t\ttnsct:long_name = Transect ;\n",
      "\t\ttnsct:units = none ;\n",
      "\tint16 lfloc(ens, time, lev, lat, lon) ;\n",
      "\t\tlfloc:_FillValue = -9999 ;\n",
      "\t\tlfloc:long_name = Landfall Location ;\n",
      "\t\tlfloc:units = none ;\n",
      "\tint8 ar_binary_tag(time, lat, lon) ;\n",
      "\t\tar_binary_tag:long_name = Binary Indicator of Atmospheric River ;\n",
      "\t\tar_binary_tag:units = none ;\n",
      "\t\tar_binary_tag:description = binary indicator of atmospheric river ;\n",
      "\t\tar_binary_tag:scheme = Guan&Waliser ;\n",
      "\t\tar_binary_tag:version = 2 ;\n",
      "\tint16 islnd(lat, lon) ;\n",
      "\t\tislnd:_FillValue = -9999 ;\n",
      "\t\tislnd:long_name = Is Land (Major Landmasses Only) ;\n",
      "\tint16 iscst(lat, lon) ;\n",
      "\t\tiscst:_FillValue = -9999 ;\n",
      "\t\tiscst:long_name = Is Coast (Major Landmasses Only; Inland Water Bodies Not Considered) ;\n",
      "\tfloat64 lon(lon) ;\n",
      "\t\tlon:units = degrees_east ;\n",
      "\tfloat64 lat(lat) ;\n",
      "\t\tlat:units = degrees_north ;\n",
      "\tfloat64 lev(lev) ;\n",
      "\t\tlev:units = m ;\n",
      "\tfloat64 time(time) ;\n",
      "\t\ttime:units = hours since 1980-01-01 00 ;\n",
      "\t\ttime:ntime_written = 109568.0 ;\n",
      "\tfloat64 ens(ens) ;\n",
      "\t\tens:axis = e ;\n",
      "\tfloat32 year(ens, time, lev, lat) ;\n",
      "\t\tyear:_FillValue = nan ;\n",
      "\t\tyear:long_name = Year ;\n",
      "\t\tyear:units = none ;\n",
      "\tfloat32 month(ens, time, lev, lat) ;\n",
      "\t\tmonth:_FillValue = nan ;\n",
      "\t\tmonth:long_name = Month ;\n",
      "\t\tmonth:units = none ;\n",
      "\tfloat32 day(ens, time, lev, lat) ;\n",
      "\t\tday:_FillValue = nan ;\n",
      "\t\tday:long_name = Day ;\n",
      "\t\tday:units = none ;\n",
      "\tfloat32 hour(ens, time, lev, lat) ;\n",
      "\t\thour:_FillValue = nan ;\n",
      "\t\thour:long_name = Hour ;\n",
      "\t\thour:units = none ;\n",
      "\tfloat32 length(ens, time, lev, lat) ;\n",
      "\t\tlength:_FillValue = nan ;\n",
      "\t\tlength:long_name = Length ;\n",
      "\t\tlength:units = km ;\n",
      "\tfloat32 width(ens, time, lev, lat) ;\n",
      "\t\twidth:_FillValue = nan ;\n",
      "\t\twidth:long_name = Width ;\n",
      "\t\twidth:units = km ;\n",
      "\tfloat32 clon(ens, time, lev, lat) ;\n",
      "\t\tclon:_FillValue = nan ;\n",
      "\t\tclon:long_name = Centroid Longitude ;\n",
      "\t\tclon:units = degree ;\n",
      "\tfloat32 clat(ens, time, lev, lat) ;\n",
      "\t\tclat:_FillValue = nan ;\n",
      "\t\tclat:long_name = Centroid Latitude ;\n",
      "\t\tclat:units = degree ;\n",
      "\tfloat32 tlon(ens, time, lev, lat) ;\n",
      "\t\ttlon:_FillValue = nan ;\n",
      "\t\ttlon:long_name = Tail Longitude ;\n",
      "\t\ttlon:units = degree ;\n",
      "\tfloat32 tlat(ens, time, lev, lat) ;\n",
      "\t\ttlat:_FillValue = nan ;\n",
      "\t\ttlat:long_name = Tail Latitude ;\n",
      "\t\ttlat:units = degree ;\n",
      "\tfloat32 hlon(ens, time, lev, lat) ;\n",
      "\t\thlon:_FillValue = nan ;\n",
      "\t\thlon:long_name = Head Longitude ;\n",
      "\t\thlon:units = degree ;\n",
      "\tfloat32 hlat(ens, time, lev, lat) ;\n",
      "\t\thlat:_FillValue = nan ;\n",
      "\t\thlat:long_name = Head Latitude ;\n",
      "\t\thlat:units = degree ;\n",
      "\tfloat32 ivtx(ens, time, lev, lat) ;\n",
      "\t\tivtx:_FillValue = nan ;\n",
      "\t\tivtx:long_name = Mean Zonal IVT ;\n",
      "\t\tivtx:units = kg m^-1 s^-1 ;\n",
      "\tfloat32 ivty(ens, time, lev, lat) ;\n",
      "\t\tivty:_FillValue = nan ;\n",
      "\t\tivty:long_name = Mean Meridional IVT ;\n",
      "\t\tivty:units = kg m^-1 s^-1 ;\n",
      "\tfloat32 ivtdir(ens, time, lev, lat) ;\n",
      "\t\tivtdir:_FillValue = nan ;\n",
      "\t\tivtdir:long_name = Direction of Mean IVT ;\n",
      "\t\tivtdir:units = degree from north going clockwise ;\n",
      "\tfloat32 ivtdircoh(ens, time, lev, lat) ;\n",
      "\t\tivtdircoh:_FillValue = nan ;\n",
      "\t\tivtdircoh:long_name = IVT Direction Coherence ;\n",
      "\t\tivtdircoh:units = none ;\n",
      "\tfloat32 width2(ens, time, lev, lat) ;\n",
      "\t\twidth2:_FillValue = nan ;\n",
      "\t\twidth2:long_name = Transect Width ;\n",
      "\t\twidth2:units = km ;\n",
      "\tfloat32 tivt(ens, time, lev, lat) ;\n",
      "\t\ttivt:_FillValue = nan ;\n",
      "\t\ttivt:long_name = Total IVT Across Transect ;\n",
      "\t\ttivt:units = 10^6 kg s^-1 ;\n",
      "\tfloat32 xtnsctidx(ens, time, lev, lat, lon) ;\n",
      "\t\txtnsctidx:_FillValue = nan ;\n",
      "\t\txtnsctidx:long_name = Pixel Indices of Transect Extending Outside Object by One Transect Width at Each End ;\n",
      "\t\txtnsctidx:units = none ;\n",
      "\tfloat32 lflon(ens, time, lev, lat) ;\n",
      "\t\tlflon:_FillValue = nan ;\n",
      "\t\tlflon:long_name = Landfall Longitude ;\n",
      "\t\tlflon:units = degree ;\n",
      "\tfloat32 lflat(ens, time, lev, lat) ;\n",
      "\t\tlflat:_FillValue = nan ;\n",
      "\t\tlflat:long_name = Landfall Latitude ;\n",
      "\t\tlflat:units = degree ;\n",
      "\tfloat32 lfivtx(ens, time, lev, lat) ;\n",
      "\t\tlfivtx:_FillValue = nan ;\n",
      "\t\tlfivtx:long_name = Zonal IVT at Landfall Location ;\n",
      "\t\tlfivtx:units = kg m^-1 s^-1 ;\n",
      "\tfloat32 lfivty(ens, time, lev, lat) ;\n",
      "\t\tlfivty:_FillValue = nan ;\n",
      "\t\tlfivty:long_name = Meridional IVT at Landfall Location ;\n",
      "\t\tlfivty:units = kg m^-1 s^-1 ;\n",
      "\tfloat32 lfivtdir(ens, time, lev, lat) ;\n",
      "\t\tlfivtdir:_FillValue = nan ;\n",
      "\t\tlfivtdir:long_name = IVT Direction at Landfall Location ;\n",
      "\t\tlfivtdir:units = degree from north going clockwise ;\n",
      "\tint16 numobj(ens, time, lev, limitID, stageID) ;\n",
      "\t\tnumobj:_FillValue = -9999 ;\n",
      "\t\tnumobj:long_name = Number of Objects Retained at Each Detection Stage for Each IVT Limit (Ancillary Data for Interested Users) ;\n",
      "\tfloat64 stageID(stageID) ;\n",
      "\t\tstageID:long_name = Sequential ID of Detection Stage ;\n",
      "\tfloat64 limitID(limitID) ;\n",
      "\t\tlimitID:long_name = Sequential ID of IVT Limit ;\n",
      "\n",
      "// global attributes:\n",
      "\t:title = Global Atmospheric River Database ;\n",
      "\t:version = 2017.11.05 ;\n",
      "\t:creation_date = 05-Nov-2017 18:50:33 ;\n",
      "\t:tARget_version = 1.229_ARTMIP ;\n",
      "\t:reference = Guan, B., and D. E. Waliser (2015), Detection of atmospheric rivers: Evaluation and application of an algorithm for global studies, J. Geophys. Res. Atmos., 120, 12514-12535, doi:10.1002/2015JD024257. ;\n",
      "}"
     ]
    }
   ],
   "source": [
    "ds.info()"
   ]
  },
  {
   "cell_type": "code",
   "execution_count": 15,
   "metadata": {},
   "outputs": [
    {
     "data": {
      "text/plain": [
       "datetime.datetime(2017, 6, 30, 21, 0)"
      ]
     },
     "execution_count": 15,
     "metadata": {},
     "output_type": "execute_result"
    }
   ],
   "source": [
    "refDate = datetime.strptime('1980-01-01 00', '%Y-%m-%d %H')\n",
    "endDate = refDate + timedelta(hours=int(ds.time[-1].data))\n",
    "endDate"
   ]
  },
  {
   "cell_type": "code",
   "execution_count": 16,
   "metadata": {},
   "outputs": [
    {
     "name": "stdout",
     "output_type": "stream",
     "text": [
      "DatetimeIndex(['2009-01-12 00:00:00', '2009-01-12 03:00:00',\n",
      "               '2009-01-12 06:00:00', '2009-01-12 09:00:00',\n",
      "               '2009-01-12 12:00:00', '2009-01-12 15:00:00',\n",
      "               '2009-01-12 18:00:00', '2009-01-12 21:00:00',\n",
      "               '2009-01-13 00:00:00', '2009-01-13 03:00:00',\n",
      "               ...\n",
      "               '2011-01-10 21:00:00', '2011-01-11 00:00:00',\n",
      "               '2011-01-11 03:00:00', '2011-01-11 06:00:00',\n",
      "               '2011-01-11 09:00:00', '2011-01-11 12:00:00',\n",
      "               '2011-01-11 15:00:00', '2011-01-11 18:00:00',\n",
      "               '2011-01-11 21:00:00', '2011-01-12 00:00:00'],\n",
      "              dtype='datetime64[ns]', length=5841, freq='3H')\n",
      "DatetimeIndex(['2004-01-01 00:00:00', '2004-01-01 03:00:00',\n",
      "               '2004-01-01 06:00:00', '2004-01-01 09:00:00',\n",
      "               '2004-01-01 12:00:00', '2004-01-01 15:00:00',\n",
      "               '2004-01-01 18:00:00', '2004-01-01 21:00:00',\n",
      "               '2004-01-02 00:00:00', '2004-01-02 03:00:00',\n",
      "               ...\n",
      "               '2017-06-29 18:00:00', '2017-06-29 21:00:00',\n",
      "               '2017-06-30 00:00:00', '2017-06-30 03:00:00',\n",
      "               '2017-06-30 06:00:00', '2017-06-30 09:00:00',\n",
      "               '2017-06-30 12:00:00', '2017-06-30 15:00:00',\n",
      "               '2017-06-30 18:00:00', '2017-06-30 21:00:00'],\n",
      "              dtype='datetime64[ns]', length=39440, freq='3H')\n"
     ]
    }
   ],
   "source": [
    "#test set\n",
    "periods = 1025\n",
    "testDates = pd.date_range(start='1/1/2010', periods=periods, freq='3H')\n",
    "\n",
    "#two years\n",
    "yearDates =  pd.date_range(start='1/12/2009', end='1/12/2011', freq='3H')\n",
    "print(yearDates)\n",
    "#all\n",
    "refDate = datetime.strptime('1980-01-01 00', '%Y-%m-%d %H')\n",
    "endDate = refDate + timedelta(hours=int(ds.time[-1].data))\n",
    "dates = pd.date_range(start='1/1/2004', end=endDate, freq='3H')\n",
    "\n",
    "print(dates)"
   ]
  },
  {
   "cell_type": "code",
   "execution_count": 18,
   "metadata": {},
   "outputs": [],
   "source": [
    "def make_docs(date, docs):\n",
    "    timeDelta = date - refDate\n",
    "    hourDelta = timeDelta.total_seconds() / 60 ** 2\n",
    "    df = make_df(ds, time=hourDelta)\n",
    "\n",
    "    #generate docs\n",
    "    groups = df.groupby(['shape'])\n",
    "    for shapeId, sdf in groups:\n",
    "        doc = {}\n",
    "        doc['_id'] = str(shapeId) + '_' + str(hourDelta)\n",
    "        doc['shapeId'] = shapeId\n",
    "        pdf = get_perim_df(sdf, dlat, dlon, idx=shapeId)\n",
    "        outline = tuple(map(tuple, pdf[['lon', 'lat']].values))\n",
    "        doc['geoLocation'] = Polygon(outline)\n",
    "        doc['date'] = date\n",
    "        docs.append(doc)\n",
    "    return docs"
   ]
  },
  {
   "cell_type": "code",
   "execution_count": 12,
   "metadata": {},
   "outputs": [
    {
     "data": {
      "text/plain": [
       "<pymongo.results.InsertManyResult at 0x7f3797ca4f48>"
      ]
     },
     "execution_count": 12,
     "metadata": {},
     "output_type": "execute_result"
    }
   ],
   "source": [
    "refDate = datetime.strptime('1980-01-01 00', '%Y-%m-%d %H')\n",
    "testDocs = make_docs(dates[0], [])\n",
    "testColl = create_collection(dbName='argo-express-test', collectionName='arShapes')\n",
    "testColl.drop()\n",
    "testColl.insert_many(testDocs)"
   ]
  },
  {
   "cell_type": "code",
   "execution_count": 8,
   "metadata": {},
   "outputs": [
    {
     "ename": "NameError",
     "evalue": "name 'testDocs' is not defined",
     "output_type": "error",
     "traceback": [
      "\u001b[0;31m---------------------------------------------------------------------------\u001b[0m",
      "\u001b[0;31mNameError\u001b[0m                                 Traceback (most recent call last)",
      "\u001b[0;32m<ipython-input-8-e65b312e464e>\u001b[0m in \u001b[0;36m<module>\u001b[0;34m\u001b[0m\n\u001b[0;32m----> 1\u001b[0;31m \u001b[0mtestDocs\u001b[0m\u001b[0;34m[\u001b[0m\u001b[0;36m0\u001b[0m\u001b[0;34m]\u001b[0m\u001b[0;34m.\u001b[0m\u001b[0mkeys\u001b[0m\u001b[0;34m(\u001b[0m\u001b[0;34m)\u001b[0m\u001b[0;34m\u001b[0m\u001b[0m\n\u001b[0m",
      "\u001b[0;31mNameError\u001b[0m: name 'testDocs' is not defined"
     ]
    }
   ],
   "source": [
    "testDocs[0].keys()"
   ]
  },
  {
   "cell_type": "code",
   "execution_count": 9,
   "metadata": {
    "collapsed": true,
    "jupyter": {
     "outputs_hidden": true
    }
   },
   "outputs": [],
   "source": [
    "def insert_ar_docs(docs, coll, lastDoc=False):\n",
    "    lDocs = len(docs)\n",
    "    if lDocs >= 1000:\n",
    "        #print('inserting docs')\n",
    "        coll.insert_many(docs)\n",
    "        docs = []\n",
    "        \n",
    "    elif lastDoc and (lDocs != 1):\n",
    "        print('inserting last docs')\n",
    "        coll.insert_many(docs)\n",
    "    elif lastDoc and len(docs)==1:\n",
    "        coll.insert_one(docs[0])\n",
    "    else:\n",
    "        pass\n",
    "    return docs\n",
    "\n",
    "def make_ar_doc(shapeId, sdf, hourDelta, date):\n",
    "    doc = {}\n",
    "    doc['_id'] = str(shapeId) + '_' + str(hourDelta)\n",
    "    doc['shapeId'] = shapeId\n",
    "    pdf = get_perim_df(sdf, idx=shapeId)\n",
    "    outline = tuple(map(tuple, pdf[['lon', 'lat']].values))\n",
    "    doc['geoLocation'] = Polygon(outline)\n",
    "    doc['date'] = date\n",
    "    return doc\n",
    "\n",
    "def add_dates_to_ar_collection(dates, coll, thread=None, th=1000):\n",
    "    docs = []\n",
    "    refDate = datetime.strptime('1980-01-01 00', '%Y-%m-%d %H')\n",
    "    nDates = len(dates)\n",
    "    if thread:\n",
    "        print('thread: {}'.format(thread))\n",
    "    print('nDates: {}'.format(nDates))\n",
    "    for tdx, date in enumerate(dates):\n",
    "        timeDelta = date - refDate\n",
    "        hourDelta = int(timeDelta.total_seconds() / 60 ** 2)\n",
    "        try:\n",
    "            df = make_df(ds, time=hourDelta)\n",
    "        except ZeroDivisionError:\n",
    "            print('an ar shape area is calculated as zero...not going to add.')\n",
    "        except ValueError:\n",
    "            print('somthing went wrong calculating shapes')\n",
    "        if tdx % 500 == 0:\n",
    "            print('on date: {0} tdx: {1}'.format(date, tdx))\n",
    "\n",
    "        #generate docs\n",
    "        groups = df.groupby(['shape'])\n",
    "        for shapeId, sdf in groups:\n",
    "            doc = make_ar_doc(shapeId, sdf, hourDelta, date)\n",
    "            docs.append(doc)\n",
    "            docs = insert_ar_docs(docs, coll, lastDoc=False)\n",
    "    docs = insert_ar_docs(docs,coll, lastDoc=True)"
   ]
  },
  {
   "cell_type": "code",
   "execution_count": 1,
   "metadata": {
    "collapsed": true,
    "jupyter": {
     "outputs_hidden": true
    }
   },
   "outputs": [],
   "source": [
    "def make_year_dates(year):\n",
    "    dates =  pd.date_range(start='1/1/'+str(year), end='1/1/'+str(year+1), freq='3H') \n",
    "    return dates[:-1]\n",
    "\n",
    "def run_parallel_process(dates, myfun, npes=1, dropColl=True):\n",
    "    if dropColl:\n",
    "        coll = create_collection()\n",
    "        coll.drop()\n",
    "    if npes == 1:\n",
    "        myfun(dates)\n",
    "    else:\n",
    "        dateArrays = array_split(dates, npes)\n",
    "        processes = [mp.Process( target=myfun, args=(dateArray, threadN) ) for threadN, dateArray in enumerate(dateArrays)]\n",
    "        for p in processes:\n",
    "            p.start()\n",
    "        for p in processes:\n",
    "            p.join() \n",
    "            \n",
    "def parallel_thread_for_ar_collection(dates, thread=None):\n",
    "    coll = create_collection()\n",
    "    add_dates_to_ar_collection(dates, coll, thread, th=1000)"
   ]
  },
  {
   "cell_type": "markdown",
   "metadata": {},
   "source": [
    "# Add AR by year\n",
    "\n",
    "uncomment for loop below"
   ]
  },
  {
   "cell_type": "code",
   "execution_count": 11,
   "metadata": {
    "collapsed": true,
    "jupyter": {
     "outputs_hidden": true
    }
   },
   "outputs": [],
   "source": [
    "years = [year for year in range(2018, 2020)]"
   ]
  },
  {
   "cell_type": "code",
   "execution_count": 2,
   "metadata": {
    "collapsed": true,
    "jupyter": {
     "outputs_hidden": true
    }
   },
   "outputs": [],
   "source": [
    "#for year in years:\n",
    "#    yearDates = make_year_dates(year)\n",
    "#    run_parallel_process(yearDates, parallel_thread_for_ar_collection, npes=4, dropColl=False)"
   ]
  },
  {
   "cell_type": "markdown",
   "metadata": {},
   "source": [
    "# remove year by running command in mongo terminal\n",
    "\n",
    "`\n",
    "db.arShapes.deleteMany({date: {$gte: new Date('2012')}})\n",
    "`"
   ]
  },
  {
   "cell_type": "markdown",
   "metadata": {},
   "source": [
    "# Check for any dropped dates. Fill in missing ones."
   ]
  },
  {
   "cell_type": "code",
   "execution_count": 84,
   "metadata": {},
   "outputs": [
    {
     "data": {
      "text/plain": [
       "0"
      ]
     },
     "execution_count": 84,
     "metadata": {},
     "output_type": "execute_result"
    }
   ],
   "source": [
    "#Check for any dropped date\n",
    "coll = create_collection()\n",
    "cursor = coll.find({}, {'_id': 1, 'date':1 })\n",
    "dbDates = []\n",
    "for doc in cursor:\n",
    "    dbDates.append(doc['date'])\n",
    "uDates = np.unique(dbDates)\n",
    "gapStartIdx = np.where(np.diff(uDates) != timedelta(0, 10800))[0]\n",
    "missingDates = []\n",
    "for idx in gapStartIdx:\n",
    "    gap = uDates[idx+1] - uDates[idx]\n",
    "    ldates = pd.date_range(start=uDates[idx], end=uDates[idx+1], freq='3H')[1:-1]\n",
    "    print('missing dates in between: {} and {}. \\n a gap of {} dates'.format(uDates[idx], uDates[idx+1], len(ldates)))\n",
    "    missingDates += ldates\n",
    "len(missingDates)"
   ]
  },
  {
   "cell_type": "code",
   "execution_count": 85,
   "metadata": {
    "collapsed": true,
    "jupyter": {
     "outputs_hidden": true
    }
   },
   "outputs": [],
   "source": [
    "if len(missingDates) > 0:\n",
    "    add_dates_to_ar_collection(missingDates, coll, 0, th=200)"
   ]
  },
  {
   "cell_type": "markdown",
   "metadata": {},
   "source": [
    "# Inspect specific shapes"
   ]
  },
  {
   "cell_type": "code",
   "execution_count": null,
   "metadata": {
    "collapsed": true,
    "jupyter": {
     "outputs_hidden": true
    }
   },
   "outputs": [],
   "source": []
  },
  {
   "cell_type": "markdown",
   "metadata": {},
   "source": [
    "# Find shapes with pinch points."
   ]
  },
  {
   "cell_type": "markdown",
   "metadata": {},
   "source": [
    "# Scratch"
   ]
  },
  {
   "cell_type": "code",
   "execution_count": null,
   "metadata": {
    "collapsed": true,
    "jupyter": {
     "outputs_hidden": true
    }
   },
   "outputs": [],
   "source": [
    "coll = create_collection(dbName='arTest', collectionName='arShapes')\n",
    "coll.drop()\n",
    "create_ar_collection(testDates, coll, th=1000)"
   ]
  },
  {
   "cell_type": "code",
   "execution_count": 26,
   "metadata": {},
   "outputs": [
    {
     "name": "stdout",
     "output_type": "stream",
     "text": [
      "transforming lon points > 60 to negative plane\n",
      "transforming lon points > 60 to negative plane\n",
      "transforming lon points > 60 to negative plane\n"
     ]
    }
   ],
   "source": [
    "groups = df.groupby(['shape'])\n",
    "docs = []\n",
    "for shapeId, sdf in groups:\n",
    "    doc = {}\n",
    "    doc['_id'] = str(shapeId) + '_' + str(hourDelta)\n",
    "    doc['shapeId'] = shapeId\n",
    "    pdf = get_perim_df(sdf, idx=shapeId)\n",
    "    outline = tuple(map(tuple, pdf[['lon', 'lat']].values))\n",
    "    doc['geoLocation'] = Polygon(outline)\n",
    "    doc['date'] = date\n",
    "    docs.append(doc)\n",
    "    "
   ]
  },
  {
   "cell_type": "code",
   "execution_count": 27,
   "metadata": {},
   "outputs": [
    {
     "data": {
      "text/plain": [
       "<pymongo.results.InsertManyResult at 0x7faf8f904f08>"
      ]
     },
     "execution_count": 27,
     "metadata": {},
     "output_type": "execute_result"
    }
   ],
   "source": [
    "coll.drop()\n",
    "coll.insert_many(docs)"
   ]
  },
  {
   "cell_type": "code",
   "execution_count": 29,
   "metadata": {},
   "outputs": [
    {
     "data": {
      "image/png": "[encoded data removed]",
      "text/plain": [
       "<Figure size 648x432 with 1 Axes>"
      ]
     },
     "metadata": {
      "needs_background": "light"
     },
     "output_type": "display_data"
    }
   ],
   "source": [
    "plot1 = plot_scatter(sdf, date)"
   ]
  },
  {
   "cell_type": "code",
   "execution_count": 30,
   "metadata": {},
   "outputs": [
    {
     "data": {
      "image/png": "[encoded data removed]",
      "text/plain": [
       "<Figure size 648x432 with 1 Axes>"
      ]
     },
     "metadata": {
      "needs_background": "light"
     },
     "output_type": "display_data"
    }
   ],
   "source": [
    "convexShapeScatter = plot_scatter(pdf, date)"
   ]
  },
  {
   "cell_type": "code",
   "execution_count": 32,
   "metadata": {},
   "outputs": [
    {
     "name": "stdout",
     "output_type": "stream",
     "text": [
      "transforming lon points > 60 to negative plane\n"
     ]
    },
    {
     "name": "stderr",
     "output_type": "stream",
     "text": [
      "/home/tyler/anaconda3/envs/argo/lib/python3.6/site-packages/ipykernel_launcher.py:66: SettingWithCopyWarning: \n",
      "A value is trying to be set on a copy of a slice from a DataFrame.\n",
      "Try using .loc[row_indexer,col_indexer] = value instead\n",
      "\n",
      "See the caveats in the documentation: http://pandas.pydata.org/pandas-docs/stable/indexing.html#indexing-view-versus-copy\n"
     ]
    },
    {
     "data": {
      "text/plain": [
       "<matplotlib.collections.PathCollection at 0x7faf8c124b70>"
      ]
     },
     "execution_count": 32,
     "metadata": {},
     "output_type": "execute_result"
    },
    {
     "data": {
      "image/png": "[encoded data removed]",
      "text/plain": [
       "<Figure size 648x432 with 1 Axes>"
      ]
     },
     "metadata": {
      "needs_background": "light"
     },
     "output_type": "display_data"
    }
   ],
   "source": [
    "purp = get_perim_df(df, idx=19, buffer=0)\n",
    "\n",
    "fig = plt.figure(figsize=(9,6))\n",
    "x = purp['lon'].values\n",
    "y = purp['lat'].values\n",
    "z = purp['shape'].values\n",
    "ax = plt.axes()\n",
    "ax.scatter(x, y, z)\n",
    "\n",
    "#purpScat = plot_scatter(purp, '')"
   ]
  }
 ],
 "metadata": {
  "kernelspec": {
   "display_name": "Python argo",
   "language": "python",
   "name": "argo"
  },
  "language_info": {
   "codemirror_mode": {
    "name": "ipython",
    "version": 3
   },
   "file_extension": ".py",
   "mimetype": "text/x-python",
   "name": "python",
   "nbconvert_exporter": "python",
   "pygments_lexer": "ipython3",
   "version": "3.6.10"
  }
 },
 "nbformat": 4,
 "nbformat_minor": 4
}
