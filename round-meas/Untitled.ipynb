{
 "cells": [
  {
   "cell_type": "code",
   "execution_count": 128,
   "metadata": {
    "collapsed": true
   },
   "outputs": [],
   "source": [
    "import xarray as xr\n",
    "import glob\n",
    "import numpy as np\n",
    "import os\n",
    "from scipy.interpolate import griddata"
   ]
  },
  {
   "cell_type": "code",
   "execution_count": 62,
   "metadata": {},
   "outputs": [
    {
     "name": "stdout",
     "output_type": "stream",
     "text": [
      "15267\n"
     ]
    }
   ],
   "source": [
    "platFilenames = glob.glob('/storage/ifremer-platform-meta/*/*/*_meta.nc')\n",
    "print(len(platFilenames))"
   ]
  },
  {
   "cell_type": "code",
   "execution_count": 61,
   "metadata": {
    "collapsed": true
   },
   "outputs": [],
   "source": [
    "for filename in platFilenames[0:10]:\n",
    "    plat = xr.open_dataset('2900201_meta.nc')\n",
    "    [x.strip(' ') for x in plat.variables['PARAMETER_SENSOR'].data.astype(str)]\n",
    "    plat.variables['PARAMETER_RESOLUTION'].data.astype(float).tolist()\n",
    "    pn = int(plat.variables['PLATFORM_NUMBER'].data)"
   ]
  },
  {
   "cell_type": "code",
   "execution_count": 37,
   "metadata": {},
   "outputs": [
    {
     "name": "stdout",
     "output_type": "stream",
     "text": [
      "xarray.Dataset {\n",
      "dimensions:\n",
      "\tN_CONFIG_PARAM = 7 ;\n",
      "\tN_LAUNCH_CONFIG_PARAM = 7 ;\n",
      "\tN_MISSIONS = 1 ;\n",
      "\tN_PARAM = 3 ;\n",
      "\tN_POSITIONING_SYSTEM = 1 ;\n",
      "\tN_SENSOR = 3 ;\n",
      "\tN_TRANS_SYSTEM = 1 ;\n",
      "\n",
      "variables:\n",
      "\tobject DATA_TYPE() ;\n",
      "\t\tDATA_TYPE:long_name = Data type ;\n",
      "\t\tDATA_TYPE:conventions = Argo reference table 1 ;\n",
      "\tobject FORMAT_VERSION() ;\n",
      "\t\tFORMAT_VERSION:long_name = File format version ;\n",
      "\tobject HANDBOOK_VERSION() ;\n",
      "\t\tHANDBOOK_VERSION:long_name = Data handbook version ;\n",
      "\tobject DATE_CREATION() ;\n",
      "\t\tDATE_CREATION:long_name = Date of file creation ;\n",
      "\t\tDATE_CREATION:conventions = YYYYMMDDHHMISS ;\n",
      "\tobject DATE_UPDATE() ;\n",
      "\t\tDATE_UPDATE:long_name = Date of update of this file ;\n",
      "\t\tDATE_UPDATE:conventions = YYYYMMDDHHMISS ;\n",
      "\tobject PLATFORM_NUMBER() ;\n",
      "\t\tPLATFORM_NUMBER:long_name = Float unique identifier ;\n",
      "\t\tPLATFORM_NUMBER:conventions = WMO float identifier : A9IIIII ;\n",
      "\tobject PTT() ;\n",
      "\t\tPTT:long_name = Transmission identifier (ARGOS, ORBCOMM, etc.) ;\n",
      "\tobject TRANS_SYSTEM(N_TRANS_SYSTEM) ;\n",
      "\t\tTRANS_SYSTEM:long_name = Telecommunications system used ;\n",
      "\tobject TRANS_SYSTEM_ID(N_TRANS_SYSTEM) ;\n",
      "\t\tTRANS_SYSTEM_ID:long_name = Program identifier used by the transmission system ;\n",
      "\tobject TRANS_FREQUENCY(N_TRANS_SYSTEM) ;\n",
      "\t\tTRANS_FREQUENCY:long_name = Frequency of transmission from the float ;\n",
      "\t\tTRANS_FREQUENCY:units = hertz ;\n",
      "\tobject POSITIONING_SYSTEM(N_POSITIONING_SYSTEM) ;\n",
      "\t\tPOSITIONING_SYSTEM:long_name = Positioning system ;\n",
      "\tobject PLATFORM_FAMILY() ;\n",
      "\t\tPLATFORM_FAMILY:long_name = Category of instrument ;\n",
      "\t\tPLATFORM_FAMILY:conventions = Argo reference table 22 ;\n",
      "\tobject PLATFORM_TYPE() ;\n",
      "\t\tPLATFORM_TYPE:long_name = Type of float ;\n",
      "\t\tPLATFORM_TYPE:conventions = Argo reference table 23 ;\n",
      "\tobject PLATFORM_MAKER() ;\n",
      "\t\tPLATFORM_MAKER:long_name = Name of the manufacturer ;\n",
      "\t\tPLATFORM_MAKER:conventions = Argo reference table 24 ;\n",
      "\tobject FIRMWARE_VERSION() ;\n",
      "\t\tFIRMWARE_VERSION:long_name = Firmware version for the float ;\n",
      "\tobject MANUAL_VERSION() ;\n",
      "\t\tMANUAL_VERSION:long_name = Manual version for the float ;\n",
      "\tobject FLOAT_SERIAL_NO() ;\n",
      "\t\tFLOAT_SERIAL_NO:long_name = Serial number of the float ;\n",
      "\tobject STANDARD_FORMAT_ID() ;\n",
      "\t\tSTANDARD_FORMAT_ID:long_name = Standard format number to describe the data format type for each float ;\n",
      "\tobject DAC_FORMAT_ID() ;\n",
      "\t\tDAC_FORMAT_ID:long_name = Format number used by the DAC to describe the data format type for each float ;\n",
      "\tobject WMO_INST_TYPE() ;\n",
      "\t\tWMO_INST_TYPE:long_name = Coded instrument type ;\n",
      "\t\tWMO_INST_TYPE:conventions = Argo reference table 8 ;\n",
      "\tobject PROJECT_NAME() ;\n",
      "\t\tPROJECT_NAME:long_name = Program under which the float was deployed ;\n",
      "\tobject DATA_CENTRE() ;\n",
      "\t\tDATA_CENTRE:long_name = Data centre in charge of float real-time processing ;\n",
      "\t\tDATA_CENTRE:conventions = Argo reference table 4 ;\n",
      "\tobject PI_NAME() ;\n",
      "\t\tPI_NAME:long_name = Name of the principal investigator ;\n",
      "\tobject ANOMALY() ;\n",
      "\t\tANOMALY:long_name = Describe any anomalies or problems the float may have had ;\n",
      "\tobject BATTERY_TYPE() ;\n",
      "\t\tBATTERY_TYPE:long_name = Type of battery packs in the float ;\n",
      "\tobject BATTERY_PACKS() ;\n",
      "\t\tBATTERY_PACKS:long_name = Configuration of battery packs in the float ;\n",
      "\tobject CONTROLLER_BOARD_TYPE_PRIMARY() ;\n",
      "\t\tCONTROLLER_BOARD_TYPE_PRIMARY:long_name = Type of primary controller board ;\n",
      "\tobject CONTROLLER_BOARD_TYPE_SECONDARY() ;\n",
      "\t\tCONTROLLER_BOARD_TYPE_SECONDARY:long_name = Type of secondary controller board ;\n",
      "\tobject CONTROLLER_BOARD_SERIAL_NO_PRIMARY() ;\n",
      "\t\tCONTROLLER_BOARD_SERIAL_NO_PRIMARY:long_name = Serial number of the primary controller board ;\n",
      "\tobject CONTROLLER_BOARD_SERIAL_NO_SECONDARY() ;\n",
      "\t\tCONTROLLER_BOARD_SERIAL_NO_SECONDARY:long_name = Serial number of the secondary controller board ;\n",
      "\tobject SPECIAL_FEATURES() ;\n",
      "\t\tSPECIAL_FEATURES:long_name = Extra features of the float (algorithms, compressee etc.) ;\n",
      "\tobject FLOAT_OWNER() ;\n",
      "\t\tFLOAT_OWNER:long_name = Float owner ;\n",
      "\tobject OPERATING_INSTITUTION() ;\n",
      "\t\tOPERATING_INSTITUTION:long_name = Operating institution of the float ;\n",
      "\tobject CUSTOMISATION() ;\n",
      "\t\tCUSTOMISATION:long_name = Float customisation, i.e. (institution and modifications) ;\n",
      "\tobject LAUNCH_DATE() ;\n",
      "\t\tLAUNCH_DATE:long_name = Date (UTC) of the deployment ;\n",
      "\t\tLAUNCH_DATE:conventions = YYYYMMDDHHMISS ;\n",
      "\tfloat64 LAUNCH_LATITUDE() ;\n",
      "\t\tLAUNCH_LATITUDE:long_name = Latitude of the float when deployed ;\n",
      "\t\tLAUNCH_LATITUDE:units = degree_north ;\n",
      "\t\tLAUNCH_LATITUDE:valid_min = -90.0 ;\n",
      "\t\tLAUNCH_LATITUDE:valid_max = 90.0 ;\n",
      "\tfloat64 LAUNCH_LONGITUDE() ;\n",
      "\t\tLAUNCH_LONGITUDE:long_name = Longitude of the float when deployed ;\n",
      "\t\tLAUNCH_LONGITUDE:units = degree_east ;\n",
      "\t\tLAUNCH_LONGITUDE:valid_min = -180.0 ;\n",
      "\t\tLAUNCH_LONGITUDE:valid_max = 180.0 ;\n",
      "\tobject LAUNCH_QC() ;\n",
      "\t\tLAUNCH_QC:long_name = Quality on launch date, time and location ;\n",
      "\t\tLAUNCH_QC:conventions = Argo reference table 2 ;\n",
      "\tobject START_DATE() ;\n",
      "\t\tSTART_DATE:long_name = Date (UTC) of the first descent of the float ;\n",
      "\t\tSTART_DATE:conventions = YYYYMMDDHHMISS ;\n",
      "\tobject START_DATE_QC() ;\n",
      "\t\tSTART_DATE_QC:long_name = Quality on start date ;\n",
      "\t\tSTART_DATE_QC:conventions = Argo reference table 2 ;\n",
      "\tobject STARTUP_DATE() ;\n",
      "\t\tSTARTUP_DATE:long_name = Date (UTC) of the activation of the float ;\n",
      "\t\tSTARTUP_DATE:conventions = YYYYMMDDHHMISS ;\n",
      "\tobject STARTUP_DATE_QC() ;\n",
      "\t\tSTARTUP_DATE_QC:long_name = Quality on startup date ;\n",
      "\t\tSTARTUP_DATE_QC:conventions = Argo reference table 2 ;\n",
      "\tobject DEPLOYMENT_PLATFORM() ;\n",
      "\t\tDEPLOYMENT_PLATFORM:long_name = Identifier of the deployment platform ;\n",
      "\tobject DEPLOYMENT_CRUISE_ID() ;\n",
      "\t\tDEPLOYMENT_CRUISE_ID:long_name = Identification number or reference number of the cruise used to deploy the float ;\n",
      "\tobject DEPLOYMENT_REFERENCE_STATION_ID() ;\n",
      "\t\tDEPLOYMENT_REFERENCE_STATION_ID:long_name = Identifier or reference number of co-located stations used to verify the first profile ;\n",
      "\tobject END_MISSION_DATE() ;\n",
      "\t\tEND_MISSION_DATE:long_name = Date (UTC) of the end of mission of the float ;\n",
      "\t\tEND_MISSION_DATE:conventions = YYYYMMDDHHMISS ;\n",
      "\tobject END_MISSION_STATUS() ;\n",
      "\t\tEND_MISSION_STATUS:long_name = Status of the end of mission of the float ;\n",
      "\t\tEND_MISSION_STATUS:conventions = T:No more transmission received, R:Retrieved ;\n",
      "\tobject LAUNCH_CONFIG_PARAMETER_NAME(N_LAUNCH_CONFIG_PARAM) ;\n",
      "\t\tLAUNCH_CONFIG_PARAMETER_NAME:long_name = Name of configuration parameter at launch ;\n",
      "\tfloat64 LAUNCH_CONFIG_PARAMETER_VALUE(N_LAUNCH_CONFIG_PARAM) ;\n",
      "\t\tLAUNCH_CONFIG_PARAMETER_VALUE:long_name = Value of configuration parameter at launch ;\n",
      "\tobject CONFIG_PARAMETER_NAME(N_CONFIG_PARAM) ;\n",
      "\t\tCONFIG_PARAMETER_NAME:long_name = Name of configuration parameter ;\n",
      "\tfloat64 CONFIG_PARAMETER_VALUE(N_MISSIONS, N_CONFIG_PARAM) ;\n",
      "\t\tCONFIG_PARAMETER_VALUE:long_name = Value of configuration parameter ;\n",
      "\tfloat64 CONFIG_MISSION_NUMBER(N_MISSIONS) ;\n",
      "\t\tCONFIG_MISSION_NUMBER:long_name = Unique number denoting the missions performed by the float ;\n",
      "\t\tCONFIG_MISSION_NUMBER:conventions = 1...N, 1 : first complete mission ;\n",
      "\tobject CONFIG_MISSION_COMMENT(N_MISSIONS) ;\n",
      "\t\tCONFIG_MISSION_COMMENT:long_name = Comment on configuration ;\n",
      "\tobject SENSOR(N_SENSOR) ;\n",
      "\t\tSENSOR:long_name = Name of the sensor mounted on the float ;\n",
      "\t\tSENSOR:conventions = Argo reference table 25 ;\n",
      "\tobject SENSOR_MAKER(N_SENSOR) ;\n",
      "\t\tSENSOR_MAKER:long_name = Name of the sensor manufacturer ;\n",
      "\t\tSENSOR_MAKER:conventions = Argo reference table 26 ;\n",
      "\tobject SENSOR_MODEL(N_SENSOR) ;\n",
      "\t\tSENSOR_MODEL:long_name = Type of sensor ;\n",
      "\t\tSENSOR_MODEL:conventions = Argo reference table 27 ;\n",
      "\tobject SENSOR_SERIAL_NO(N_SENSOR) ;\n",
      "\t\tSENSOR_SERIAL_NO:long_name = Serial number of the sensor ;\n",
      "\tobject PARAMETER(N_PARAM) ;\n",
      "\t\tPARAMETER:long_name = Name of parameter computed from float measurements ;\n",
      "\t\tPARAMETER:conventions = Argo reference table 3 ;\n",
      "\tobject PARAMETER_SENSOR(N_PARAM) ;\n",
      "\t\tPARAMETER_SENSOR:long_name = Name of the sensor that measures this parameter ;\n",
      "\t\tPARAMETER_SENSOR:conventions = Argo reference table 25 ;\n",
      "\tobject PARAMETER_UNITS(N_PARAM) ;\n",
      "\t\tPARAMETER_UNITS:long_name = Units of accuracy and resolution of the parameter ;\n",
      "\tobject PARAMETER_ACCURACY(N_PARAM) ;\n",
      "\t\tPARAMETER_ACCURACY:long_name = Accuracy of the parameter ;\n",
      "\tobject PARAMETER_RESOLUTION(N_PARAM) ;\n",
      "\t\tPARAMETER_RESOLUTION:long_name = Resolution of the parameter ;\n",
      "\tobject PREDEPLOYMENT_CALIB_EQUATION(N_PARAM) ;\n",
      "\t\tPREDEPLOYMENT_CALIB_EQUATION:long_name = Calibration equation for this parameter ;\n",
      "\tobject PREDEPLOYMENT_CALIB_COEFFICIENT(N_PARAM) ;\n",
      "\t\tPREDEPLOYMENT_CALIB_COEFFICIENT:long_name = Calibration coefficients for this equation ;\n",
      "\tobject PREDEPLOYMENT_CALIB_COMMENT(N_PARAM) ;\n",
      "\t\tPREDEPLOYMENT_CALIB_COMMENT:long_name = Comment applying to this parameter calibration ;\n",
      "\n",
      "// global attributes:\n",
      "\t:title = Argo float meta data file: ;\n",
      "\t:institution = KIOST (former KORDI) ;\n",
      "\t:source = Argo float ;\n",
      "\t:history = 2018-12-20 recreation.; 2019-04-08 updated. ;\n",
      "\t:references = http://www.argodatamgt.org/Documentation ;\n",
      "\t:comment =   ;\n",
      "\t:user_manual_version = 3.2 ;\n",
      "\t:Conventions = Argo-3.1 CF-1.6 ;\n",
      "}"
     ]
    }
   ],
   "source": [
    "plat.info()"
   ]
  },
  {
   "cell_type": "code",
   "execution_count": 19,
   "metadata": {},
   "outputs": [
    {
     "data": {
      "text/plain": [
       "['CTD_PRES', 'CTD_TEMP', 'CTD_CNDC']"
      ]
     },
     "execution_count": 19,
     "metadata": {},
     "output_type": "execute_result"
    }
   ],
   "source": [
    "[x.strip(' ') for x in plat.variables['PARAMETER_SENSOR'].data.astype(str)]"
   ]
  },
  {
   "cell_type": "code",
   "execution_count": 20,
   "metadata": {},
   "outputs": [
    {
     "data": {
      "text/plain": [
       "[0.1, 0.001, 0.001]"
      ]
     },
     "execution_count": 20,
     "metadata": {},
     "output_type": "execute_result"
    }
   ],
   "source": [
    "plat.variables['PARAMETER_RESOLUTION'].data.astype(float).tolist()"
   ]
  },
  {
   "cell_type": "code",
   "execution_count": 59,
   "metadata": {},
   "outputs": [],
   "source": [
    "pn = int(plat.variables['PLATFORM_NUMBER'].data)"
   ]
  },
  {
   "cell_type": "code",
   "execution_count": 60,
   "metadata": {},
   "outputs": [
    {
     "data": {
      "text/plain": [
       "2900201"
      ]
     },
     "execution_count": 60,
     "metadata": {},
     "output_type": "execute_result"
    }
   ],
   "source": [
    "pn"
   ]
  },
  {
   "cell_type": "code",
   "execution_count": null,
   "metadata": {
    "collapsed": true
   },
   "outputs": [],
   "source": [
    "def init_basin_bak(self, basinFilename):\n",
    "    nc = Dataset(basinFilename, 'r')\n",
    "\n",
    "    assert nc.variables['LONGITUDE'].mask == True\n",
    "    assert nc.variables['LATITUDE'].mask == True\n",
    "\n",
    "    idx = np.nonzero(~nc.variables['BASIN_TAG'][:].mask)\n",
    "    self.basin = nc.variables['BASIN_TAG'][:][idx].astype('i')\n",
    "    self.coords = np.stack([nc.variables['LATITUDE'][idx[0]],\n",
    "                       nc.variables['LONGITUDE'][idx[1]]]).T\n",
    "\n",
    "def init_basin(self, basinFilename):\n",
    "    nc = xr.open_dataset(basinFilename, 'r')\n",
    "    idx = nc.variables['BASIN_TAG'][:]\n",
    "    self.basin = nc.variables['BASIN_TAG'][:][idx].astype('i')\n",
    "    self.coords = np.stack([nc.variables['LATITUDE'][idx[0]],\n",
    "                       nc.variables['LONGITUDE'][idx[1]]]).T"
   ]
  },
  {
   "cell_type": "code",
   "execution_count": 141,
   "metadata": {},
   "outputs": [],
   "source": [
    "basinFilename = './../basinmask_01.nc'\n",
    "nc = xr.open_dataset(basinFilename)"
   ]
  },
  {
   "cell_type": "code",
   "execution_count": 165,
   "metadata": {},
   "outputs": [
    {
     "data": {
      "text/plain": [
       "xarray.core.dataset.Dataset"
      ]
     },
     "execution_count": 165,
     "metadata": {},
     "output_type": "execute_result"
    }
   ],
   "source": [
    "type(nc)"
   ]
  },
  {
   "cell_type": "code",
   "execution_count": 164,
   "metadata": {},
   "outputs": [
    {
     "data": {
      "text/plain": [
       "(168, 360)"
      ]
     },
     "execution_count": 164,
     "metadata": {},
     "output_type": "execute_result"
    }
   ],
   "source": [
    "nc['BASIN_TAG'].shape"
   ]
  },
  {
   "cell_type": "code",
   "execution_count": 152,
   "metadata": {},
   "outputs": [
    {
     "name": "stdout",
     "output_type": "stream",
     "text": [
      "1.24 ms ± 65.8 µs per loop (mean ± std. dev. of 7 runs, 1000 loops each)\n"
     ]
    }
   ],
   "source": [
    "%%timeit\n",
    "nc.sel({\"LONGITUDE\": 0, \"LATITUDE\": 0}, method='nearest')"
   ]
  },
  {
   "cell_type": "code",
   "execution_count": 161,
   "metadata": {},
   "outputs": [
    {
     "data": {
      "text/plain": [
       "1"
      ]
     },
     "execution_count": 161,
     "metadata": {},
     "output_type": "execute_result"
    }
   ],
   "source": [
    "int(nc.sel({\"LONGITUDE\": 0, \"LATITUDE\": 0}, method='nearest')['BASIN_TAG'])"
   ]
  },
  {
   "cell_type": "code",
   "execution_count": 143,
   "metadata": {},
   "outputs": [
    {
     "data": {
      "text/plain": [
       "array([10.,  2.,  1.,  3.,  0., 56.,  7.,  8.,  4., 12., 53.,  6.,  9.,\n",
       "        5., 11.])"
      ]
     },
     "execution_count": 143,
     "metadata": {},
     "output_type": "execute_result"
    }
   ],
   "source": [
    "df['BASIN_TAG'].unique()"
   ]
  },
  {
   "cell_type": "code",
   "execution_count": 144,
   "metadata": {},
   "outputs": [
    {
     "ename": "ValueError",
     "evalue": "all input arrays must have the same shape",
     "output_type": "error",
     "traceback": [
      "\u001b[0;31m---------------------------------------------------------------------------\u001b[0m",
      "\u001b[0;31mValueError\u001b[0m                                Traceback (most recent call last)",
      "\u001b[0;32m<ipython-input-144-a2dbfb9d3ab0>\u001b[0m in \u001b[0;36m<module>\u001b[0;34m\u001b[0m\n\u001b[1;32m      1\u001b[0m \u001b[0midx\u001b[0m \u001b[0;34m=\u001b[0m \u001b[0mnc\u001b[0m\u001b[0;34m.\u001b[0m\u001b[0mvariables\u001b[0m\u001b[0;34m[\u001b[0m\u001b[0;34m'BASIN_TAG'\u001b[0m\u001b[0;34m]\u001b[0m\u001b[0;34m.\u001b[0m\u001b[0mdata\u001b[0m\u001b[0;34m[\u001b[0m\u001b[0;34m:\u001b[0m\u001b[0;34m]\u001b[0m\u001b[0;34m.\u001b[0m\u001b[0mflatten\u001b[0m\u001b[0;34m(\u001b[0m\u001b[0;34m)\u001b[0m\u001b[0;34m\u001b[0m\u001b[0m\n\u001b[1;32m      2\u001b[0m \u001b[0mbasin\u001b[0m \u001b[0;34m=\u001b[0m \u001b[0mnc\u001b[0m\u001b[0;34m.\u001b[0m\u001b[0mvariables\u001b[0m\u001b[0;34m[\u001b[0m\u001b[0;34m'BASIN_TAG'\u001b[0m\u001b[0;34m]\u001b[0m\u001b[0;34m.\u001b[0m\u001b[0mdata\u001b[0m\u001b[0;34m[\u001b[0m\u001b[0;34m:\u001b[0m\u001b[0;34m]\u001b[0m\u001b[0;34m\u001b[0m\u001b[0m\n\u001b[0;32m----> 3\u001b[0;31m \u001b[0mcoords\u001b[0m \u001b[0;34m=\u001b[0m \u001b[0mnp\u001b[0m\u001b[0;34m.\u001b[0m\u001b[0mstack\u001b[0m\u001b[0;34m(\u001b[0m\u001b[0;34m[\u001b[0m\u001b[0mnc\u001b[0m\u001b[0;34m.\u001b[0m\u001b[0mvariables\u001b[0m\u001b[0;34m[\u001b[0m\u001b[0;34m'LATITUDE'\u001b[0m\u001b[0;34m]\u001b[0m\u001b[0;34m.\u001b[0m\u001b[0mdata\u001b[0m\u001b[0;34m[\u001b[0m\u001b[0;34m:\u001b[0m\u001b[0;34m]\u001b[0m\u001b[0;34m.\u001b[0m\u001b[0mflatten\u001b[0m\u001b[0;34m(\u001b[0m\u001b[0;34m)\u001b[0m\u001b[0;34m,\u001b[0m \u001b[0mnc\u001b[0m\u001b[0;34m.\u001b[0m\u001b[0mvariables\u001b[0m\u001b[0;34m[\u001b[0m\u001b[0;34m'LONGITUDE'\u001b[0m\u001b[0;34m]\u001b[0m\u001b[0;34m.\u001b[0m\u001b[0mdata\u001b[0m\u001b[0;34m[\u001b[0m\u001b[0;34m:\u001b[0m\u001b[0;34m]\u001b[0m\u001b[0;34m.\u001b[0m\u001b[0mflatten\u001b[0m\u001b[0;34m(\u001b[0m\u001b[0;34m)\u001b[0m\u001b[0;34m]\u001b[0m\u001b[0;34m)\u001b[0m\u001b[0;34m\u001b[0m\u001b[0m\n\u001b[0m\u001b[1;32m      4\u001b[0m \u001b[0mprint\u001b[0m\u001b[0;34m(\u001b[0m\u001b[0mlen\u001b[0m\u001b[0;34m(\u001b[0m\u001b[0midx\u001b[0m\u001b[0;34m)\u001b[0m\u001b[0;34m)\u001b[0m\u001b[0;34m\u001b[0m\u001b[0m\n",
      "\u001b[0;32m~/anaconda3/envs/argo/lib/python3.6/site-packages/numpy/core/shape_base.py\u001b[0m in \u001b[0;36mstack\u001b[0;34m(arrays, axis, out)\u001b[0m\n\u001b[1;32m    351\u001b[0m     \u001b[0mshapes\u001b[0m \u001b[0;34m=\u001b[0m \u001b[0mset\u001b[0m\u001b[0;34m(\u001b[0m\u001b[0marr\u001b[0m\u001b[0;34m.\u001b[0m\u001b[0mshape\u001b[0m \u001b[0;32mfor\u001b[0m \u001b[0marr\u001b[0m \u001b[0;32min\u001b[0m \u001b[0marrays\u001b[0m\u001b[0;34m)\u001b[0m\u001b[0;34m\u001b[0m\u001b[0m\n\u001b[1;32m    352\u001b[0m     \u001b[0;32mif\u001b[0m \u001b[0mlen\u001b[0m\u001b[0;34m(\u001b[0m\u001b[0mshapes\u001b[0m\u001b[0;34m)\u001b[0m \u001b[0;34m!=\u001b[0m \u001b[0;36m1\u001b[0m\u001b[0;34m:\u001b[0m\u001b[0;34m\u001b[0m\u001b[0m\n\u001b[0;32m--> 353\u001b[0;31m         \u001b[0;32mraise\u001b[0m \u001b[0mValueError\u001b[0m\u001b[0;34m(\u001b[0m\u001b[0;34m'all input arrays must have the same shape'\u001b[0m\u001b[0;34m)\u001b[0m\u001b[0;34m\u001b[0m\u001b[0m\n\u001b[0m\u001b[1;32m    354\u001b[0m \u001b[0;34m\u001b[0m\u001b[0m\n\u001b[1;32m    355\u001b[0m     \u001b[0mresult_ndim\u001b[0m \u001b[0;34m=\u001b[0m \u001b[0marrays\u001b[0m\u001b[0;34m[\u001b[0m\u001b[0;36m0\u001b[0m\u001b[0;34m]\u001b[0m\u001b[0;34m.\u001b[0m\u001b[0mndim\u001b[0m \u001b[0;34m+\u001b[0m \u001b[0;36m1\u001b[0m\u001b[0;34m\u001b[0m\u001b[0m\n",
      "\u001b[0;31mValueError\u001b[0m: all input arrays must have the same shape"
     ]
    }
   ],
   "source": [
    "idx = nc.variables['BASIN_TAG'].data[:].flatten()\n",
    "basin = nc.variables['BASIN_TAG'].data[:]\n",
    "coords = np.stack([nc.variables['LATITUDE'].data[:].flatten(), nc.variables['LONGITUDE'].data[:].flatten()])\n",
    "print(len(idx))\n"
   ]
  },
  {
   "cell_type": "code",
   "execution_count": 147,
   "metadata": {},
   "outputs": [
    {
     "name": "stdout",
     "output_type": "stream",
     "text": [
      "(41088, 3)\n",
      "(41088,)\n",
      "(2, 41088)\n"
     ]
    }
   ],
   "source": [
    "basinFilename = './../basinmask_01.nc'\n",
    "nc = xr.open_dataset(basinFilename)\n",
    "df = nc.to_dataframe().dropna().reset_index()\n",
    "basin = df['BASIN_TAG'].values\n",
    "coords = np.stack([df['LATITUDE'].values, df['LONGITUDE'].values]).T\n",
    "#df = df[df['BASIN_TAG'] != 0]\n",
    "print(df.shape)\n",
    "print(basin.shape)\n",
    "print(coords.T.shape)"
   ]
  },
  {
   "cell_type": "code",
   "execution_count": 153,
   "metadata": {},
   "outputs": [
    {
     "name": "stdout",
     "output_type": "stream",
     "text": [
      "24.7 ms ± 1.2 ms per loop (mean ± std. dev. of 7 runs, 10 loops each)\n"
     ]
    }
   ],
   "source": [
    "%%timeit\n",
    "\n",
    "int(griddata(coords, basin, (lat, lon), method='nearest'))"
   ]
  },
  {
   "cell_type": "code",
   "execution_count": 247,
   "metadata": {
    "collapsed": true
   },
   "outputs": [],
   "source": [
    "fileName = '/home/tyler/Desktop/argo-database/test/test-files/aoml/1900722/profiles/SD1900722_004.nc'\n",
    "profXR = xr.open_dataset(fileName)"
   ]
  },
  {
   "cell_type": "code",
   "execution_count": 272,
   "metadata": {},
   "outputs": [
    {
     "name": "stdout",
     "output_type": "stream",
     "text": [
      "dict_keys(['coords', 'attrs', 'dims', 'data_vars'])\n"
     ]
    }
   ],
   "source": [
    "myDict = profXR.to_dict()\n",
    "print(myDict.keys())"
   ]
  },
  {
   "cell_type": "code",
   "execution_count": 248,
   "metadata": {},
   "outputs": [
    {
     "name": "stdout",
     "output_type": "stream",
     "text": [
      "DATA_TYPE\n",
      "b'Argo synthetic profile          '\n",
      "FORMAT_VERSION\n",
      "b'1.0 '\n",
      "HANDBOOK_VERSION\n",
      "b'1.2 '\n",
      "REFERENCE_DATE_TIME\n",
      "b'19500101000000'\n",
      "DATE_CREATION\n",
      "b'20190425093314'\n",
      "DATE_UPDATE\n",
      "b'20190425093314'\n",
      "PLATFORM_NUMBER\n",
      "[b'1900722 ']\n",
      "PROJECT_NAME\n",
      "[b'US ARGO PROJECT                                                 ']\n",
      "PI_NAME\n",
      "[b'STEPHEN RISER                                                   ']\n",
      "STATION_PARAMETERS\n",
      "[[b'PRES                                                            ', b'TEMP                                                            ', b'PSAL                                                            ', b'DOXY                                                            ']]\n",
      "CYCLE_NUMBER\n",
      "[4.0]\n",
      "DIRECTION\n",
      "[b'A']\n",
      "DATA_CENTRE\n",
      "[b'AO']\n",
      "PARAMETER_DATA_MODE\n",
      "[[b'D', b'D', b'D', b'R']]\n",
      "PLATFORM_TYPE\n",
      "[b'APEX                            ']\n",
      "FLOAT_SERIAL_NO\n",
      "[b'2596                            ']\n",
      "FIRMWARE_VERSION\n",
      "[b'012606                          ']\n",
      "WMO_INST_TYPE\n",
      "[b'846 ']\n",
      "JULD\n",
      "[datetime.datetime(2006, 11, 21, 7, 50, 21, 1905)]\n",
      "JULD_QC\n",
      "[b'1']\n",
      "JULD_LOCATION\n",
      "[datetime.datetime(2006, 11, 21, 14, 28, 38, 999864)]\n",
      "LATITUDE\n",
      "[-40.134]\n",
      "LONGITUDE\n",
      "[73.08]\n",
      "POSITION_QC\n",
      "[b'1']\n",
      "POSITIONING_SYSTEM\n",
      "[b'ARGOS   ']\n",
      "CONFIG_MISSION_NUMBER\n",
      "[1.0]\n",
      "PARAMETER\n",
      "[[[b'PRES                                                            ', b'TEMP                                                            ', b'PSAL                                                            ', b'DOXY                                                            ']]]\n",
      "SCIENTIFIC_CALIB_EQUATION\n",
      "[[[b'PRES_ADJUSTED = PRES - dP                                                                                                                                                                                                                                       ', b'none                                                                                                                                                                                                                                                            ', b'PSAL_ADJUSTED = sw_salt( sw_cndr(PSAL,TEMP,PRES), TEMP, PRES_ADJUSTED ) + CTM                                                                                                                                                                                   ', b'none                                                                                                                                                                                                                                                            ']]]\n",
      "SCIENTIFIC_CALIB_COEFFICIENT\n",
      "[[[b'dP =-0.2 dbar.                                                                                                                                                                                                                                                  ', b'none                                                                                                                                                                                                                                                            ', b'CTM: alpha=0.0267, tau=18.6s, mean_ascent_rate = 0.09 dbar/s                                                                                                                                                                                                    ', b'none                                                                                                                                                                                                                                                            ']]]\n",
      "SCIENTIFIC_CALIB_COMMENT\n",
      "[[[b'Pressures adjusted by using pressure offset at the sea surface. The quoted error is manufacturer specified accuracy in dbar.                                                                                                                                    ', b'The quoted error is manufacturer specified accuracy with respect to ITS-90 at time of laboratory calibration.                                                                                                                                                   ', b'No significant salinity drift detected. Salinity adjusted for effects of pressure adjustment. Conductivity cell thermal mass correction (CTM) applied. The quoted error is max[0.01, sqrt(OWerr^2+CTMerr^2)] in PSS-78.                                         ', b'none                                                                                                                                                                                                                                                            ']]]\n",
      "SCIENTIFIC_CALIB_DATE\n",
      "[[[b'20120705140756', b'20120705140756', b'20120705140756', b'              ']]]\n",
      "PROFILE_PRES_QC\n",
      "[b'A']\n",
      "PROFILE_TEMP_QC\n",
      "[b'A']\n",
      "PROFILE_PSAL_QC\n",
      "[b'A']\n",
      "PROFILE_DOXY_QC\n",
      "[nan]\n",
      "PRES\n",
      "[[6.5, 10.5, 20.5, 30.299999237060547, 40.099998474121094, 50.20000076293945, 60.20000076293945, 70.0, 80.30000305175781, 90.0999984741211, 100.19999694824219, 110.0999984741211, 120.0, 130.1999969482422, 139.8000030517578, 149.89999389648438, 160.39999389648438, 169.8000030517578, 180.1999969482422, 190.3000030517578, 200.3000030517578, 209.60000610351562, 220.3000030517578, 230.1999969482422, 240.1999969482422, 250.5, 260.1000061035156, 270.3999938964844, 280.29998779296875, 289.8999938964844, 300.1000061035156, 310.3999938964844, 320.5, 330.3999938964844, 340.0, 350.0, 360.20001220703125, 379.29998779296875, 399.5, 449.3999938964844, 499.6000061035156, 550.0999755859375, 600.2000122070312, 650.0999755859375, 699.5999755859375, 749.5, 800.0, 849.7000122070312, 899.7000122070312, 950.4000244140625, 999.7999877929688, 1050.300048828125, 1099.699951171875, 1150.199951171875, 1199.699951171875, 1249.699951171875, 1300.4000244140625, 1350.199951171875, 1400.300048828125, 1449.9000244140625, 1499.4000244140625, 1550.4000244140625, 1599.9000244140625, 1650.0999755859375, 1699.9000244140625, 1749.800048828125, 1800.0999755859375, 1850.4000244140625, 1899.5, 1950.4000244140625, 1998.199951171875]]\n",
      "PRES_QC\n",
      "[[b'1', b'1', b'1', b'1', b'1', b'1', b'1', b'1', b'1', b'1', b'1', b'1', b'1', b'1', b'1', b'1', b'1', b'1', b'1', b'1', b'1', b'1', b'1', b'1', b'1', b'1', b'1', b'1', b'1', b'1', b'1', b'1', b'1', b'1', b'1', b'1', b'1', b'1', b'1', b'1', b'1', b'1', b'1', b'1', b'1', b'1', b'1', b'1', b'1', b'1', b'1', b'1', b'1', b'1', b'1', b'1', b'1', b'1', b'1', b'1', b'1', b'1', b'1', b'1', b'1', b'1', b'1', b'1', b'1', b'1', b'1']]\n",
      "PRES_ADJUSTED\n",
      "[[6.699999809265137, 10.699999809265137, 20.700000762939453, 30.5, 40.29999923706055, 50.400001525878906, 60.400001525878906, 70.19999694824219, 80.5, 90.30000305175781, 100.4000015258789, 110.30000305175781, 120.19999694824219, 130.39999389648438, 140.0, 150.10000610351562, 160.60000610351562, 170.0, 180.39999389648438, 190.5, 200.5, 209.8000030517578, 220.5, 230.39999389648438, 240.39999389648438, 250.6999969482422, 260.29998779296875, 270.6000061035156, 280.5, 290.1000061035156, 300.29998779296875, 310.6000061035156, 320.70001220703125, 330.6000061035156, 340.20001220703125, 350.20001220703125, 360.3999938964844, 379.5, 399.70001220703125, 449.6000061035156, 499.79998779296875, 550.2999877929688, 600.4000244140625, 650.2999877929688, 699.7999877929688, 749.7000122070312, 800.2000122070312, 849.9000244140625, 899.9000244140625, 950.5999755859375, 1000.0, 1050.5, 1099.9000244140625, 1150.4000244140625, 1199.9000244140625, 1249.9000244140625, 1300.5999755859375, 1350.4000244140625, 1400.5, 1450.0999755859375, 1499.5999755859375, 1550.5999755859375, 1600.0999755859375, 1650.300048828125, 1700.0999755859375, 1750.0, 1800.300048828125, 1850.5999755859375, 1899.699951171875, 1950.5999755859375, 1998.4000244140625]]\n",
      "PRES_ADJUSTED_QC\n",
      "[[b'1', b'1', b'1', b'1', b'1', b'1', b'1', b'1', b'1', b'1', b'1', b'1', b'1', b'1', b'1', b'1', b'1', b'1', b'1', b'1', b'1', b'1', b'1', b'1', b'1', b'1', b'1', b'1', b'1', b'1', b'1', b'1', b'1', b'1', b'1', b'1', b'1', b'1', b'1', b'1', b'1', b'1', b'1', b'1', b'1', b'1', b'1', b'1', b'1', b'1', b'1', b'1', b'1', b'1', b'1', b'1', b'1', b'1', b'1', b'1', b'1', b'1', b'1', b'1', b'1', b'1', b'1', b'1', b'1', b'1', b'1']]\n",
      "PRES_ADJUSTED_ERROR\n",
      "[[2.4000000953674316, 2.4000000953674316, 2.4000000953674316, 2.4000000953674316, 2.4000000953674316, 2.4000000953674316, 2.4000000953674316, 2.4000000953674316, 2.4000000953674316, 2.4000000953674316, 2.4000000953674316, 2.4000000953674316, 2.4000000953674316, 2.4000000953674316, 2.4000000953674316, 2.4000000953674316, 2.4000000953674316, 2.4000000953674316, 2.4000000953674316, 2.4000000953674316, 2.4000000953674316, 2.4000000953674316, 2.4000000953674316, 2.4000000953674316, 2.4000000953674316, 2.4000000953674316, 2.4000000953674316, 2.4000000953674316, 2.4000000953674316, 2.4000000953674316, 2.4000000953674316, 2.4000000953674316, 2.4000000953674316, 2.4000000953674316, 2.4000000953674316, 2.4000000953674316, 2.4000000953674316, 2.4000000953674316, 2.4000000953674316, 2.4000000953674316, 2.4000000953674316, 2.4000000953674316, 2.4000000953674316, 2.4000000953674316, 2.4000000953674316, 2.4000000953674316, 2.4000000953674316, 2.4000000953674316, 2.4000000953674316, 2.4000000953674316, 2.4000000953674316, 2.4000000953674316, 2.4000000953674316, 2.4000000953674316, 2.4000000953674316, 2.4000000953674316, 2.4000000953674316, 2.4000000953674316, 2.4000000953674316, 2.4000000953674316, 2.4000000953674316, 2.4000000953674316, 2.4000000953674316, 2.4000000953674316, 2.4000000953674316, 2.4000000953674316, 2.4000000953674316, 2.4000000953674316, 2.4000000953674316, 2.4000000953674316, 2.4000000953674316]]\n",
      "TEMP\n",
      "[[13.461000442504883, 13.458999633789062, 13.460000038146973, 13.451000213623047, 13.446999549865723, 13.348999977111816, 13.156000137329102, 12.9350004196167, 12.831000328063965, 12.710000038146973, 12.649999618530273, 12.583999633789062, 12.505000114440918, 12.428000450134277, 12.361000061035156, 12.23799991607666, 12.14799976348877, 12.104000091552734, 12.069999694824219, 12.031999588012695, 11.97700023651123, 11.939000129699707, 11.920000076293945, 11.883999824523926, 11.859000205993652, 11.812000274658203, 11.753000259399414, 11.73900032043457, 11.715999603271484, 11.717000007629395, 11.668000221252441, 11.692000389099121, 11.687000274658203, 11.633000373840332, 11.607000350952148, 11.543999671936035, 11.480999946594238, 11.38599967956543, 11.312000274658203, 10.991000175476074, 10.527000427246094, 10.07699966430664, 9.5, 8.843000411987305, 8.302000045776367, 7.519999980926514, 6.815000057220459, 6.322999954223633, 5.708000183105469, 5.258999824523926, 4.802000045776367, 4.383999824523926, 4.156000137329102, 3.927000045776367, 3.681999921798706, 3.5480000972747803, 3.421999931335449, 3.309999942779541, 3.190999984741211, 3.1019999980926514, 3.0160000324249268, 2.931999921798706, 2.8529999256134033, 2.7929999828338623, 2.744999885559082, 2.694000005722046, 2.6559998989105225, 2.624000072479248, 2.5850000381469727, 2.546999931335449, 2.5169999599456787]]\n",
      "TEMP_QC\n",
      "[[b'1', b'1', b'1', b'1', b'1', b'1', b'1', b'1', b'1', b'1', b'1', b'1', b'1', b'1', b'1', b'1', b'1', b'1', b'1', b'1', b'1', b'1', b'1', b'1', b'1', b'1', b'1', b'1', b'1', b'1', b'1', b'1', b'1', b'1', b'1', b'1', b'1', b'1', b'1', b'1', b'1', b'1', b'1', b'1', b'1', b'1', b'1', b'1', b'1', b'1', b'1', b'1', b'1', b'1', b'1', b'1', b'1', b'1', b'1', b'1', b'1', b'1', b'1', b'1', b'1', b'1', b'1', b'1', b'1', b'1', b'1']]\n",
      "TEMP_dPRES\n",
      "[[0.0, 0.0, 0.0, 0.0, 0.0, 0.0, 0.0, 0.0, 0.0, 0.0, 0.0, 0.0, 0.0, 0.0, 0.0, 0.0, 0.0, 0.0, 0.0, 0.0, 0.0, 0.0, 0.0, 0.0, 0.0, 0.0, 0.0, 0.0, 0.0, 0.0, 0.0, 0.0, 0.0, 0.0, 0.0, 0.0, 0.0, 0.0, 0.0, 0.0, 0.0, 0.0, 0.0, 0.0, 0.0, 0.0, 0.0, 0.0, 0.0, 0.0, 0.0, 0.0, 0.0, 0.0, 0.0, 0.0, 0.0, 0.0, 0.0, 0.0, 0.0, 0.0, 0.0, 0.0, 0.0, 0.0, 0.0, 0.0, 0.0, 0.0, 0.0]]\n",
      "TEMP_ADJUSTED\n",
      "[[13.461000442504883, 13.458999633789062, 13.460000038146973, 13.451000213623047, 13.446999549865723, 13.348999977111816, 13.156000137329102, 12.9350004196167, 12.831000328063965, 12.710000038146973, 12.649999618530273, 12.583999633789062, 12.505000114440918, 12.428000450134277, 12.361000061035156, 12.23799991607666, 12.14799976348877, 12.104000091552734, 12.069999694824219, 12.031999588012695, 11.97700023651123, 11.939000129699707, 11.920000076293945, 11.883999824523926, 11.859000205993652, 11.812000274658203, 11.753000259399414, 11.73900032043457, 11.715999603271484, 11.717000007629395, 11.668000221252441, 11.692000389099121, 11.687000274658203, 11.633000373840332, 11.607000350952148, 11.543999671936035, 11.480999946594238, 11.38599967956543, 11.312000274658203, 10.991000175476074, 10.527000427246094, 10.07699966430664, 9.5, 8.843000411987305, 8.302000045776367, 7.519999980926514, 6.815000057220459, 6.322999954223633, 5.708000183105469, 5.258999824523926, 4.802000045776367, 4.383999824523926, 4.156000137329102, 3.927000045776367, 3.681999921798706, 3.5480000972747803, 3.421999931335449, 3.309999942779541, 3.190999984741211, 3.1019999980926514, 3.0160000324249268, 2.931999921798706, 2.8529999256134033, 2.7929999828338623, 2.744999885559082, 2.694000005722046, 2.6559998989105225, 2.624000072479248, 2.5850000381469727, 2.546999931335449, 2.5169999599456787]]\n",
      "TEMP_ADJUSTED_QC\n",
      "[[b'1', b'1', b'1', b'1', b'1', b'1', b'1', b'1', b'1', b'1', b'1', b'1', b'1', b'1', b'1', b'1', b'1', b'1', b'1', b'1', b'1', b'1', b'1', b'1', b'1', b'1', b'1', b'1', b'1', b'1', b'1', b'1', b'1', b'1', b'1', b'1', b'1', b'1', b'1', b'1', b'1', b'1', b'1', b'1', b'1', b'1', b'1', b'1', b'1', b'1', b'1', b'1', b'1', b'1', b'1', b'1', b'1', b'1', b'1', b'1', b'1', b'1', b'1', b'1', b'1', b'1', b'1', b'1', b'1', b'1', b'1']]\n",
      "TEMP_ADJUSTED_ERROR\n",
      "[[0.0020000000949949026, 0.0020000000949949026, 0.0020000000949949026, 0.0020000000949949026, 0.0020000000949949026, 0.0020000000949949026, 0.0020000000949949026, 0.0020000000949949026, 0.0020000000949949026, 0.0020000000949949026, 0.0020000000949949026, 0.0020000000949949026, 0.0020000000949949026, 0.0020000000949949026, 0.0020000000949949026, 0.0020000000949949026, 0.0020000000949949026, 0.0020000000949949026, 0.0020000000949949026, 0.0020000000949949026, 0.0020000000949949026, 0.0020000000949949026, 0.0020000000949949026, 0.0020000000949949026, 0.0020000000949949026, 0.0020000000949949026, 0.0020000000949949026, 0.0020000000949949026, 0.0020000000949949026, 0.0020000000949949026, 0.0020000000949949026, 0.0020000000949949026, 0.0020000000949949026, 0.0020000000949949026, 0.0020000000949949026, 0.0020000000949949026, 0.0020000000949949026, 0.0020000000949949026, 0.0020000000949949026, 0.0020000000949949026, 0.0020000000949949026, 0.0020000000949949026, 0.0020000000949949026, 0.0020000000949949026, 0.0020000000949949026, 0.0020000000949949026, 0.0020000000949949026, 0.0020000000949949026, 0.0020000000949949026, 0.0020000000949949026, 0.0020000000949949026, 0.0020000000949949026, 0.0020000000949949026, 0.0020000000949949026, 0.0020000000949949026, 0.0020000000949949026, 0.0020000000949949026, 0.0020000000949949026, 0.0020000000949949026, 0.0020000000949949026, 0.0020000000949949026, 0.0020000000949949026, 0.0020000000949949026, 0.0020000000949949026, 0.0020000000949949026, 0.0020000000949949026, 0.0020000000949949026, 0.0020000000949949026, 0.0020000000949949026, 0.0020000000949949026, 0.0020000000949949026]]\n",
      "PSAL\n",
      "[[35.112998962402344, 35.112998962402344, 35.112998962402344, 35.111000061035156, 35.11199951171875, 35.10499954223633, 35.09299850463867, 35.09600067138672, 35.106998443603516, 35.112998962402344, 35.11899948120117, 35.12099838256836, 35.12099838256836, 35.11399841308594, 35.10100173950195, 35.08599853515625, 35.08100128173828, 35.08300018310547, 35.08300018310547, 35.07600021362305, 35.066001892089844, 35.058998107910156, 35.05699920654297, 35.051998138427734, 35.04800033569336, 35.0369987487793, 35.027000427246094, 35.02399826049805, 35.020999908447266, 35.020999908447266, 35.01100158691406, 35.01900100708008, 35.01900100708008, 35.00899887084961, 35.00299835205078, 34.99100112915039, 34.979000091552734, 34.96200180053711, 34.95100021362305, 34.904998779296875, 34.847999572753906, 34.79499816894531, 34.7239990234375, 34.650001525878906, 34.59700012207031, 34.525001525878906, 34.4630012512207, 34.428001403808594, 34.38600158691406, 34.35599899291992, 34.34400177001953, 34.3489990234375, 34.356998443603516, 34.369998931884766, 34.37799835205078, 34.4010009765625, 34.42399978637695, 34.446998596191406, 34.47200012207031, 34.49300003051758, 34.51499938964844, 34.53900146484375, 34.56399917602539, 34.584999084472656, 34.60499954223633, 34.625, 34.64099884033203, 34.654998779296875, 34.67100143432617, 34.68600082397461, 34.698001861572266]]\n",
      "PSAL_QC\n",
      "[[b'1', b'1', b'1', b'1', b'1', b'1', b'1', b'1', b'1', b'1', b'1', b'1', b'1', b'1', b'1', b'1', b'1', b'1', b'1', b'1', b'1', b'1', b'1', b'1', b'1', b'1', b'1', b'1', b'1', b'1', b'1', b'1', b'1', b'1', b'1', b'1', b'1', b'1', b'1', b'1', b'1', b'1', b'1', b'1', b'1', b'1', b'1', b'1', b'1', b'1', b'1', b'1', b'1', b'1', b'1', b'1', b'1', b'1', b'1', b'1', b'1', b'1', b'1', b'1', b'1', b'1', b'1', b'1', b'1', b'1', b'1']]\n",
      "PSAL_dPRES\n",
      "[[0.0, 0.0, 0.0, 0.0, 0.0, 0.0, 0.0, 0.0, 0.0, 0.0, 0.0, 0.0, 0.0, 0.0, 0.0, 0.0, 0.0, 0.0, 0.0, 0.0, 0.0, 0.0, 0.0, 0.0, 0.0, 0.0, 0.0, 0.0, 0.0, 0.0, 0.0, 0.0, 0.0, 0.0, 0.0, 0.0, 0.0, 0.0, 0.0, 0.0, 0.0, 0.0, 0.0, 0.0, 0.0, 0.0, 0.0, 0.0, 0.0, 0.0, 0.0, 0.0, 0.0, 0.0, 0.0, 0.0, 0.0, 0.0, 0.0, 0.0, 0.0, 0.0, 0.0, 0.0, 0.0, 0.0, 0.0, 0.0, 0.0, 0.0, 0.0]]\n",
      "PSAL_ADJUSTED\n",
      "[[35.112998962402344, 35.112998962402344, 35.112998962402344, 35.111000061035156, 35.11199951171875, 35.10599899291992, 35.09400177001953, 35.09600067138672, 35.106998443603516, 35.112998962402344, 35.11899948120117, 35.12099838256836, 35.12099838256836, 35.11399841308594, 35.10100173950195, 35.08599853515625, 35.08100128173828, 35.08300018310547, 35.08300018310547, 35.07600021362305, 35.066001892089844, 35.058998107910156, 35.05699920654297, 35.051998138427734, 35.04800033569336, 35.0369987487793, 35.027000427246094, 35.02399826049805, 35.020999908447266, 35.020999908447266, 35.01100158691406, 35.01900100708008, 35.01900100708008, 35.00899887084961, 35.00299835205078, 34.99100112915039, 34.979000091552734, 34.96200180053711, 34.95100021362305, 34.904998779296875, 34.847999572753906, 34.79499816894531, 34.7239990234375, 34.650001525878906, 34.597999572753906, 34.5260009765625, 34.4630012512207, 34.42900085449219, 34.38600158691406, 34.35599899291992, 34.34400177001953, 34.3489990234375, 34.356998443603516, 34.369998931884766, 34.37799835205078, 34.4010009765625, 34.42399978637695, 34.446998596191406, 34.47200012207031, 34.49300003051758, 34.51499938964844, 34.53900146484375, 34.56399917602539, 34.584999084472656, 34.60499954223633, 34.625, 34.64099884033203, 34.654998779296875, 34.67100143432617, 34.68600082397461, 34.698001861572266]]\n",
      "PSAL_ADJUSTED_QC\n",
      "[[b'1', b'1', b'1', b'1', b'1', b'1', b'1', b'1', b'1', b'1', b'1', b'1', b'1', b'1', b'1', b'1', b'1', b'1', b'1', b'1', b'1', b'1', b'1', b'1', b'1', b'1', b'1', b'1', b'1', b'1', b'1', b'1', b'1', b'1', b'1', b'1', b'1', b'1', b'1', b'1', b'1', b'1', b'1', b'1', b'1', b'1', b'1', b'1', b'1', b'1', b'1', b'1', b'1', b'1', b'1', b'1', b'1', b'1', b'1', b'1', b'1', b'1', b'1', b'1', b'1', b'1', b'1', b'1', b'1', b'1', b'1']]\n",
      "PSAL_ADJUSTED_ERROR\n",
      "[[0.009999999776482582, 0.009999999776482582, 0.009999999776482582, 0.009999999776482582, 0.009999999776482582, 0.009999999776482582, 0.009999999776482582, 0.009999999776482582, 0.009999999776482582, 0.009999999776482582, 0.009999999776482582, 0.009999999776482582, 0.009999999776482582, 0.009999999776482582, 0.009999999776482582, 0.009999999776482582, 0.009999999776482582, 0.009999999776482582, 0.009999999776482582, 0.009999999776482582, 0.009999999776482582, 0.009999999776482582, 0.009999999776482582, 0.009999999776482582, 0.009999999776482582, 0.009999999776482582, 0.009999999776482582, 0.009999999776482582, 0.009999999776482582, 0.009999999776482582, 0.009999999776482582, 0.009999999776482582, 0.009999999776482582, 0.009999999776482582, 0.009999999776482582, 0.009999999776482582, 0.009999999776482582, 0.009999999776482582, 0.009999999776482582, 0.009999999776482582, 0.009999999776482582, 0.009999999776482582, 0.009999999776482582, 0.009999999776482582, 0.009999999776482582, 0.009999999776482582, 0.009999999776482582, 0.009999999776482582, 0.009999999776482582, 0.009999999776482582, 0.009999999776482582, 0.009999999776482582, 0.009999999776482582, 0.009999999776482582, 0.009999999776482582, 0.009999999776482582, 0.009999999776482582, 0.009999999776482582, 0.009999999776482582, 0.009999999776482582, 0.009999999776482582, 0.009999999776482582, 0.009999999776482582, 0.009999999776482582, 0.009999999776482582, 0.009999999776482582, 0.009999999776482582, 0.009999999776482582, 0.009999999776482582, 0.009999999776482582, 0.009999999776482582]]\n",
      "DOXY\n",
      "[[230.0019989013672, 230.031005859375, 229.92300415039062, 229.9010009765625, 230.322998046875, 230.79400634765625, 232.00999450683594, 231.60000610351562, 229.81100463867188, 228.37399291992188, 226.9810028076172, 226.04200744628906, 225.28700256347656, 225.0709991455078, 224.68600463867188, 223.4340057373047, 221.9239959716797, 220.59300231933594, 219.79600524902344, 217.31199645996094, 214.6929931640625, 214.26100158691406, 214.16600036621094, 216.07000732421875, 219.0989990234375, 221.74600219726562, 221.64500427246094, 221.63299560546875, 221.52999877929688, 221.33700561523438, 220.1280059814453, 216.96600341796875, 215.68800354003906, 217.27099609375, 218.43699645996094, 218.5989990234375, 218.16799926757812, 216.29100036621094, 210.16700744628906, 198.82000732421875, 192.94500732421875, 189.822998046875, 185.28900146484375, 180.97300720214844, 177.2239990234375, 176.2050018310547, 178.01499938964844, 178.66799926757812, 180.86500549316406, 182.552001953125, 180.00399780273438, 175.5279998779297, 172.24400329589844, 168.99099731445312, 166.14599609375, 161.70899963378906, 157.80299377441406, 154.7729949951172, 151.91799926757812, 150.03199768066406, 148.8280029296875, 147.91700744628906, 147.6009979248047, 147.66200256347656, 148.1649932861328, 149.0019989013672, 149.9010009765625, 150.9709930419922, 152.3280029296875, 153.59300231933594, 154.67799377441406]]\n",
      "DOXY_QC\n",
      "[[b'0', b'0', b'0', b'0', b'0', b'0', b'0', b'0', b'0', b'0', b'0', b'0', b'0', b'0', b'0', b'0', b'0', b'0', b'0', b'0', b'0', b'0', b'0', b'0', b'0', b'0', b'0', b'0', b'0', b'0', b'0', b'0', b'0', b'0', b'0', b'0', b'0', b'0', b'0', b'0', b'0', b'0', b'0', b'0', b'0', b'0', b'0', b'0', b'0', b'0', b'0', b'0', b'0', b'0', b'0', b'0', b'0', b'0', b'0', b'0', b'0', b'0', b'0', b'0', b'0', b'0', b'0', b'0', b'0', b'0', b'0']]\n",
      "DOXY_dPRES\n",
      "[[0.0, 0.0, 0.0, 0.0, 0.0, 0.0, 0.0, 0.0, 0.0, 0.0, 0.0, 0.0, 0.0, 0.0, 0.0, 0.0, 0.0, 0.0, 0.0, 0.0, 0.0, 0.0, 0.0, 0.0, 0.0, 0.0, 0.0, 0.0, 0.0, 0.0, 0.0, 0.0, 0.0, 0.0, 0.0, 0.0, 0.0, 0.0, 0.0, 0.0, 0.0, 0.0, 0.0, 0.0, 0.0, 0.0, 0.0, 0.0, 0.0, 0.0, 0.0, 0.0, 0.0, 0.0, 0.0, 0.0, 0.0, 0.0, 0.0, 0.0, 0.0, 0.0, 0.0, 0.0, 0.0, 0.0, 0.0, 0.0, 0.0, 0.0, 0.0]]\n",
      "DOXY_ADJUSTED\n",
      "[[nan, nan, nan, nan, nan, nan, nan, nan, nan, nan, nan, nan, nan, nan, nan, nan, nan, nan, nan, nan, nan, nan, nan, nan, nan, nan, nan, nan, nan, nan, nan, nan, nan, nan, nan, nan, nan, nan, nan, nan, nan, nan, nan, nan, nan, nan, nan, nan, nan, nan, nan, nan, nan, nan, nan, nan, nan, nan, nan, nan, nan, nan, nan, nan, nan, nan, nan, nan, nan, nan, nan]]\n",
      "DOXY_ADJUSTED_QC\n",
      "[[nan, nan, nan, nan, nan, nan, nan, nan, nan, nan, nan, nan, nan, nan, nan, nan, nan, nan, nan, nan, nan, nan, nan, nan, nan, nan, nan, nan, nan, nan, nan, nan, nan, nan, nan, nan, nan, nan, nan, nan, nan, nan, nan, nan, nan, nan, nan, nan, nan, nan, nan, nan, nan, nan, nan, nan, nan, nan, nan, nan, nan, nan, nan, nan, nan, nan, nan, nan, nan, nan, nan]]\n",
      "DOXY_ADJUSTED_ERROR\n",
      "[[nan, nan, nan, nan, nan, nan, nan, nan, nan, nan, nan, nan, nan, nan, nan, nan, nan, nan, nan, nan, nan, nan, nan, nan, nan, nan, nan, nan, nan, nan, nan, nan, nan, nan, nan, nan, nan, nan, nan, nan, nan, nan, nan, nan, nan, nan, nan, nan, nan, nan, nan, nan, nan, nan, nan, nan, nan, nan, nan, nan, nan, nan, nan, nan, nan, nan, nan, nan, nan, nan, nan]]\n"
     ]
    }
   ],
   "source": [
    "variables = myDict['data_vars']\n",
    "keys = variables.keys()\n",
    "\n",
    "for key in keys:\n",
    "    print(key)\n",
    "    print(variables[key]['data'])"
   ]
  },
  {
   "cell_type": "code",
   "execution_count": 262,
   "metadata": {},
   "outputs": [
    {
     "data": {
      "text/plain": [
       "['D', 'D', 'D', 'R']"
      ]
     },
     "execution_count": 262,
     "metadata": {},
     "output_type": "execute_result"
    }
   ],
   "source": [
    "[x.decode('utf-8') for x in variables['PARAMETER_DATA_MODE']['data'][0]]"
   ]
  },
  {
   "cell_type": "code",
   "execution_count": 277,
   "metadata": {},
   "outputs": [
    {
     "data": {
      "text/plain": [
       "1"
      ]
     },
     "execution_count": 277,
     "metadata": {},
     "output_type": "execute_result"
    }
   ],
   "source": [
    "myDict['dims']['N_PROF']"
   ]
  },
  {
   "cell_type": "code",
   "execution_count": 259,
   "metadata": {},
   "outputs": [
    {
     "data": {
      "text/plain": [
       "b'Argo synthetic profile          '"
      ]
     },
     "execution_count": 259,
     "metadata": {},
     "output_type": "execute_result"
    }
   ],
   "source": [
    "variables['DATA_TYPE']['data']"
   ]
  },
  {
   "cell_type": "code",
   "execution_count": 221,
   "metadata": {},
   "outputs": [
    {
     "data": {
      "text/plain": [
       "b'Argo synthetic profile          '"
      ]
     },
     "execution_count": 221,
     "metadata": {},
     "output_type": "execute_result"
    }
   ],
   "source": [
    "variables['DATA_TYPE']['data']"
   ]
  },
  {
   "cell_type": "code",
   "execution_count": 222,
   "metadata": {},
   "outputs": [
    {
     "ename": "KeyError",
     "evalue": "'FORMAT_VERSION'",
     "output_type": "error",
     "traceback": [
      "\u001b[0;31m---------------------------------------------------------------------------\u001b[0m",
      "\u001b[0;31mKeyError\u001b[0m                                  Traceback (most recent call last)",
      "\u001b[0;32m<ipython-input-222-5ea54081521f>\u001b[0m in \u001b[0;36m<module>\u001b[0;34m\u001b[0m\n\u001b[0;32m----> 1\u001b[0;31m \u001b[0mvariables\u001b[0m\u001b[0;34m[\u001b[0m\u001b[0;34m'DATA_TYPE'\u001b[0m\u001b[0;34m]\u001b[0m\u001b[0;34m[\u001b[0m\u001b[0;34m'FORMAT_VERSION'\u001b[0m\u001b[0;34m]\u001b[0m\u001b[0;34m\u001b[0m\u001b[0m\n\u001b[0m",
      "\u001b[0;31mKeyError\u001b[0m: 'FORMAT_VERSION'"
     ]
    }
   ],
   "source": [
    "variables['DATA_TYPE']['FORMAT_VERSION']"
   ]
  },
  {
   "cell_type": "code",
   "execution_count": 255,
   "metadata": {},
   "outputs": [
    {
     "data": {
      "text/plain": [
       "N_CALIB  N_LEVELS  N_PARAM  N_PROF\n",
       "0        0         0        0         b'D'\n",
       "                   1        0         b'D'\n",
       "                   2        0         b'D'\n",
       "                   3        0         b'R'\n",
       "         1         0        0         b'D'\n",
       "                   1        0         b'D'\n",
       "                   2        0         b'D'\n",
       "                   3        0         b'R'\n",
       "         2         0        0         b'D'\n",
       "                   1        0         b'D'\n",
       "                   2        0         b'D'\n",
       "                   3        0         b'R'\n",
       "         3         0        0         b'D'\n",
       "                   1        0         b'D'\n",
       "                   2        0         b'D'\n",
       "                   3        0         b'R'\n",
       "         4         0        0         b'D'\n",
       "                   1        0         b'D'\n",
       "                   2        0         b'D'\n",
       "                   3        0         b'R'\n",
       "         5         0        0         b'D'\n",
       "                   1        0         b'D'\n",
       "                   2        0         b'D'\n",
       "                   3        0         b'R'\n",
       "         6         0        0         b'D'\n",
       "                   1        0         b'D'\n",
       "                   2        0         b'D'\n",
       "                   3        0         b'R'\n",
       "         7         0        0         b'D'\n",
       "                   1        0         b'D'\n",
       "                                      ... \n",
       "         63        2        0         b'D'\n",
       "                   3        0         b'R'\n",
       "         64        0        0         b'D'\n",
       "                   1        0         b'D'\n",
       "                   2        0         b'D'\n",
       "                   3        0         b'R'\n",
       "         65        0        0         b'D'\n",
       "                   1        0         b'D'\n",
       "                   2        0         b'D'\n",
       "                   3        0         b'R'\n",
       "         66        0        0         b'D'\n",
       "                   1        0         b'D'\n",
       "                   2        0         b'D'\n",
       "                   3        0         b'R'\n",
       "         67        0        0         b'D'\n",
       "                   1        0         b'D'\n",
       "                   2        0         b'D'\n",
       "                   3        0         b'R'\n",
       "         68        0        0         b'D'\n",
       "                   1        0         b'D'\n",
       "                   2        0         b'D'\n",
       "                   3        0         b'R'\n",
       "         69        0        0         b'D'\n",
       "                   1        0         b'D'\n",
       "                   2        0         b'D'\n",
       "                   3        0         b'R'\n",
       "         70        0        0         b'D'\n",
       "                   1        0         b'D'\n",
       "                   2        0         b'D'\n",
       "                   3        0         b'R'\n",
       "Name: PARAMETER_DATA_MODE, Length: 284, dtype: object"
      ]
     },
     "execution_count": 255,
     "metadata": {},
     "output_type": "execute_result"
    }
   ],
   "source": [
    "df['PARAMETER_DATA_MODE']"
   ]
  },
  {
   "cell_type": "code",
   "execution_count": null,
   "metadata": {
    "collapsed": true
   },
   "outputs": [],
   "source": []
  },
  {
   "cell_type": "code",
   "execution_count": 229,
   "metadata": {},
   "outputs": [
    {
     "name": "stdout",
     "output_type": "stream",
     "text": [
      "(284, 58)\n",
      "Index(['DATA_TYPE', 'FORMAT_VERSION', 'HANDBOOK_VERSION',\n",
      "       'REFERENCE_DATE_TIME', 'DATE_CREATION', 'DATE_UPDATE',\n",
      "       'PLATFORM_NUMBER', 'PROJECT_NAME', 'PI_NAME', 'STATION_PARAMETERS',\n",
      "       'CYCLE_NUMBER', 'DIRECTION', 'DATA_CENTRE', 'PARAMETER_DATA_MODE',\n",
      "       'PLATFORM_TYPE', 'FLOAT_SERIAL_NO', 'FIRMWARE_VERSION', 'WMO_INST_TYPE',\n",
      "       'JULD', 'JULD_QC', 'JULD_LOCATION', 'LATITUDE', 'LONGITUDE',\n",
      "       'POSITION_QC', 'POSITIONING_SYSTEM', 'CONFIG_MISSION_NUMBER',\n",
      "       'PARAMETER', 'SCIENTIFIC_CALIB_EQUATION',\n",
      "       'SCIENTIFIC_CALIB_COEFFICIENT', 'SCIENTIFIC_CALIB_COMMENT',\n",
      "       'SCIENTIFIC_CALIB_DATE', 'PROFILE_PRES_QC', 'PROFILE_TEMP_QC',\n",
      "       'PROFILE_PSAL_QC', 'PROFILE_DOXY_QC', 'PRES', 'PRES_QC',\n",
      "       'PRES_ADJUSTED', 'PRES_ADJUSTED_QC', 'PRES_ADJUSTED_ERROR', 'TEMP',\n",
      "       'TEMP_QC', 'TEMP_dPRES', 'TEMP_ADJUSTED', 'TEMP_ADJUSTED_QC',\n",
      "       'TEMP_ADJUSTED_ERROR', 'PSAL', 'PSAL_QC', 'PSAL_dPRES', 'PSAL_ADJUSTED',\n",
      "       'PSAL_ADJUSTED_QC', 'PSAL_ADJUSTED_ERROR', 'DOXY', 'DOXY_QC',\n",
      "       'DOXY_dPRES', 'DOXY_ADJUSTED', 'DOXY_ADJUSTED_QC',\n",
      "       'DOXY_ADJUSTED_ERROR'],\n",
      "      dtype='object')\n"
     ]
    }
   ],
   "source": [
    "df = profXR.to_dataframe()\n",
    "print(df.shape)\n",
    "print(df.columns)"
   ]
  },
  {
   "cell_type": "code",
   "execution_count": 230,
   "metadata": {},
   "outputs": [
    {
     "data": {
      "text/html": [
       "<div>\n",
       "<style scoped>\n",
       "    .dataframe tbody tr th:only-of-type {\n",
       "        vertical-align: middle;\n",
       "    }\n",
       "\n",
       "    .dataframe tbody tr th {\n",
       "        vertical-align: top;\n",
       "    }\n",
       "\n",
       "    .dataframe thead th {\n",
       "        text-align: right;\n",
       "    }\n",
       "</style>\n",
       "<table border=\"1\" class=\"dataframe\">\n",
       "  <thead>\n",
       "    <tr style=\"text-align: right;\">\n",
       "      <th></th>\n",
       "      <th></th>\n",
       "      <th></th>\n",
       "      <th></th>\n",
       "      <th>PRES</th>\n",
       "      <th>TEMP</th>\n",
       "      <th>PSAL</th>\n",
       "    </tr>\n",
       "    <tr>\n",
       "      <th>N_CALIB</th>\n",
       "      <th>N_LEVELS</th>\n",
       "      <th>N_PARAM</th>\n",
       "      <th>N_PROF</th>\n",
       "      <th></th>\n",
       "      <th></th>\n",
       "      <th></th>\n",
       "    </tr>\n",
       "  </thead>\n",
       "  <tbody>\n",
       "    <tr>\n",
       "      <th rowspan=\"61\" valign=\"top\">0</th>\n",
       "      <th rowspan=\"4\" valign=\"top\">0</th>\n",
       "      <th>0</th>\n",
       "      <th>0</th>\n",
       "      <td>6.500000</td>\n",
       "      <td>13.461</td>\n",
       "      <td>35.112999</td>\n",
       "    </tr>\n",
       "    <tr>\n",
       "      <th>1</th>\n",
       "      <th>0</th>\n",
       "      <td>6.500000</td>\n",
       "      <td>13.461</td>\n",
       "      <td>35.112999</td>\n",
       "    </tr>\n",
       "    <tr>\n",
       "      <th>2</th>\n",
       "      <th>0</th>\n",
       "      <td>6.500000</td>\n",
       "      <td>13.461</td>\n",
       "      <td>35.112999</td>\n",
       "    </tr>\n",
       "    <tr>\n",
       "      <th>3</th>\n",
       "      <th>0</th>\n",
       "      <td>6.500000</td>\n",
       "      <td>13.461</td>\n",
       "      <td>35.112999</td>\n",
       "    </tr>\n",
       "    <tr>\n",
       "      <th rowspan=\"4\" valign=\"top\">1</th>\n",
       "      <th>0</th>\n",
       "      <th>0</th>\n",
       "      <td>10.500000</td>\n",
       "      <td>13.459</td>\n",
       "      <td>35.112999</td>\n",
       "    </tr>\n",
       "    <tr>\n",
       "      <th>1</th>\n",
       "      <th>0</th>\n",
       "      <td>10.500000</td>\n",
       "      <td>13.459</td>\n",
       "      <td>35.112999</td>\n",
       "    </tr>\n",
       "    <tr>\n",
       "      <th>2</th>\n",
       "      <th>0</th>\n",
       "      <td>10.500000</td>\n",
       "      <td>13.459</td>\n",
       "      <td>35.112999</td>\n",
       "    </tr>\n",
       "    <tr>\n",
       "      <th>3</th>\n",
       "      <th>0</th>\n",
       "      <td>10.500000</td>\n",
       "      <td>13.459</td>\n",
       "      <td>35.112999</td>\n",
       "    </tr>\n",
       "    <tr>\n",
       "      <th rowspan=\"4\" valign=\"top\">2</th>\n",
       "      <th>0</th>\n",
       "      <th>0</th>\n",
       "      <td>20.500000</td>\n",
       "      <td>13.460</td>\n",
       "      <td>35.112999</td>\n",
       "    </tr>\n",
       "    <tr>\n",
       "      <th>1</th>\n",
       "      <th>0</th>\n",
       "      <td>20.500000</td>\n",
       "      <td>13.460</td>\n",
       "      <td>35.112999</td>\n",
       "    </tr>\n",
       "    <tr>\n",
       "      <th>2</th>\n",
       "      <th>0</th>\n",
       "      <td>20.500000</td>\n",
       "      <td>13.460</td>\n",
       "      <td>35.112999</td>\n",
       "    </tr>\n",
       "    <tr>\n",
       "      <th>3</th>\n",
       "      <th>0</th>\n",
       "      <td>20.500000</td>\n",
       "      <td>13.460</td>\n",
       "      <td>35.112999</td>\n",
       "    </tr>\n",
       "    <tr>\n",
       "      <th rowspan=\"4\" valign=\"top\">3</th>\n",
       "      <th>0</th>\n",
       "      <th>0</th>\n",
       "      <td>30.299999</td>\n",
       "      <td>13.451</td>\n",
       "      <td>35.111000</td>\n",
       "    </tr>\n",
       "    <tr>\n",
       "      <th>1</th>\n",
       "      <th>0</th>\n",
       "      <td>30.299999</td>\n",
       "      <td>13.451</td>\n",
       "      <td>35.111000</td>\n",
       "    </tr>\n",
       "    <tr>\n",
       "      <th>2</th>\n",
       "      <th>0</th>\n",
       "      <td>30.299999</td>\n",
       "      <td>13.451</td>\n",
       "      <td>35.111000</td>\n",
       "    </tr>\n",
       "    <tr>\n",
       "      <th>3</th>\n",
       "      <th>0</th>\n",
       "      <td>30.299999</td>\n",
       "      <td>13.451</td>\n",
       "      <td>35.111000</td>\n",
       "    </tr>\n",
       "    <tr>\n",
       "      <th rowspan=\"4\" valign=\"top\">4</th>\n",
       "      <th>0</th>\n",
       "      <th>0</th>\n",
       "      <td>40.099998</td>\n",
       "      <td>13.447</td>\n",
       "      <td>35.112000</td>\n",
       "    </tr>\n",
       "    <tr>\n",
       "      <th>1</th>\n",
       "      <th>0</th>\n",
       "      <td>40.099998</td>\n",
       "      <td>13.447</td>\n",
       "      <td>35.112000</td>\n",
       "    </tr>\n",
       "    <tr>\n",
       "      <th>2</th>\n",
       "      <th>0</th>\n",
       "      <td>40.099998</td>\n",
       "      <td>13.447</td>\n",
       "      <td>35.112000</td>\n",
       "    </tr>\n",
       "    <tr>\n",
       "      <th>3</th>\n",
       "      <th>0</th>\n",
       "      <td>40.099998</td>\n",
       "      <td>13.447</td>\n",
       "      <td>35.112000</td>\n",
       "    </tr>\n",
       "    <tr>\n",
       "      <th rowspan=\"4\" valign=\"top\">5</th>\n",
       "      <th>0</th>\n",
       "      <th>0</th>\n",
       "      <td>50.200001</td>\n",
       "      <td>13.349</td>\n",
       "      <td>35.105000</td>\n",
       "    </tr>\n",
       "    <tr>\n",
       "      <th>1</th>\n",
       "      <th>0</th>\n",
       "      <td>50.200001</td>\n",
       "      <td>13.349</td>\n",
       "      <td>35.105000</td>\n",
       "    </tr>\n",
       "    <tr>\n",
       "      <th>2</th>\n",
       "      <th>0</th>\n",
       "      <td>50.200001</td>\n",
       "      <td>13.349</td>\n",
       "      <td>35.105000</td>\n",
       "    </tr>\n",
       "    <tr>\n",
       "      <th>3</th>\n",
       "      <th>0</th>\n",
       "      <td>50.200001</td>\n",
       "      <td>13.349</td>\n",
       "      <td>35.105000</td>\n",
       "    </tr>\n",
       "    <tr>\n",
       "      <th rowspan=\"4\" valign=\"top\">6</th>\n",
       "      <th>0</th>\n",
       "      <th>0</th>\n",
       "      <td>60.200001</td>\n",
       "      <td>13.156</td>\n",
       "      <td>35.092999</td>\n",
       "    </tr>\n",
       "    <tr>\n",
       "      <th>1</th>\n",
       "      <th>0</th>\n",
       "      <td>60.200001</td>\n",
       "      <td>13.156</td>\n",
       "      <td>35.092999</td>\n",
       "    </tr>\n",
       "    <tr>\n",
       "      <th>2</th>\n",
       "      <th>0</th>\n",
       "      <td>60.200001</td>\n",
       "      <td>13.156</td>\n",
       "      <td>35.092999</td>\n",
       "    </tr>\n",
       "    <tr>\n",
       "      <th>3</th>\n",
       "      <th>0</th>\n",
       "      <td>60.200001</td>\n",
       "      <td>13.156</td>\n",
       "      <td>35.092999</td>\n",
       "    </tr>\n",
       "    <tr>\n",
       "      <th rowspan=\"2\" valign=\"top\">7</th>\n",
       "      <th>0</th>\n",
       "      <th>0</th>\n",
       "      <td>70.000000</td>\n",
       "      <td>12.935</td>\n",
       "      <td>35.096001</td>\n",
       "    </tr>\n",
       "    <tr>\n",
       "      <th>1</th>\n",
       "      <th>0</th>\n",
       "      <td>70.000000</td>\n",
       "      <td>12.935</td>\n",
       "      <td>35.096001</td>\n",
       "    </tr>\n",
       "    <tr>\n",
       "      <th>...</th>\n",
       "      <th>...</th>\n",
       "      <th>...</th>\n",
       "      <td>...</td>\n",
       "      <td>...</td>\n",
       "      <td>...</td>\n",
       "    </tr>\n",
       "    <tr>\n",
       "      <th rowspan=\"2\" valign=\"top\">63</th>\n",
       "      <th>2</th>\n",
       "      <th>0</th>\n",
       "      <td>1650.099976</td>\n",
       "      <td>2.793</td>\n",
       "      <td>34.584999</td>\n",
       "    </tr>\n",
       "    <tr>\n",
       "      <th>3</th>\n",
       "      <th>0</th>\n",
       "      <td>1650.099976</td>\n",
       "      <td>2.793</td>\n",
       "      <td>34.584999</td>\n",
       "    </tr>\n",
       "    <tr>\n",
       "      <th rowspan=\"4\" valign=\"top\">64</th>\n",
       "      <th>0</th>\n",
       "      <th>0</th>\n",
       "      <td>1699.900024</td>\n",
       "      <td>2.745</td>\n",
       "      <td>34.605000</td>\n",
       "    </tr>\n",
       "    <tr>\n",
       "      <th>1</th>\n",
       "      <th>0</th>\n",
       "      <td>1699.900024</td>\n",
       "      <td>2.745</td>\n",
       "      <td>34.605000</td>\n",
       "    </tr>\n",
       "    <tr>\n",
       "      <th>2</th>\n",
       "      <th>0</th>\n",
       "      <td>1699.900024</td>\n",
       "      <td>2.745</td>\n",
       "      <td>34.605000</td>\n",
       "    </tr>\n",
       "    <tr>\n",
       "      <th>3</th>\n",
       "      <th>0</th>\n",
       "      <td>1699.900024</td>\n",
       "      <td>2.745</td>\n",
       "      <td>34.605000</td>\n",
       "    </tr>\n",
       "    <tr>\n",
       "      <th rowspan=\"4\" valign=\"top\">65</th>\n",
       "      <th>0</th>\n",
       "      <th>0</th>\n",
       "      <td>1749.800049</td>\n",
       "      <td>2.694</td>\n",
       "      <td>34.625000</td>\n",
       "    </tr>\n",
       "    <tr>\n",
       "      <th>1</th>\n",
       "      <th>0</th>\n",
       "      <td>1749.800049</td>\n",
       "      <td>2.694</td>\n",
       "      <td>34.625000</td>\n",
       "    </tr>\n",
       "    <tr>\n",
       "      <th>2</th>\n",
       "      <th>0</th>\n",
       "      <td>1749.800049</td>\n",
       "      <td>2.694</td>\n",
       "      <td>34.625000</td>\n",
       "    </tr>\n",
       "    <tr>\n",
       "      <th>3</th>\n",
       "      <th>0</th>\n",
       "      <td>1749.800049</td>\n",
       "      <td>2.694</td>\n",
       "      <td>34.625000</td>\n",
       "    </tr>\n",
       "    <tr>\n",
       "      <th rowspan=\"4\" valign=\"top\">66</th>\n",
       "      <th>0</th>\n",
       "      <th>0</th>\n",
       "      <td>1800.099976</td>\n",
       "      <td>2.656</td>\n",
       "      <td>34.640999</td>\n",
       "    </tr>\n",
       "    <tr>\n",
       "      <th>1</th>\n",
       "      <th>0</th>\n",
       "      <td>1800.099976</td>\n",
       "      <td>2.656</td>\n",
       "      <td>34.640999</td>\n",
       "    </tr>\n",
       "    <tr>\n",
       "      <th>2</th>\n",
       "      <th>0</th>\n",
       "      <td>1800.099976</td>\n",
       "      <td>2.656</td>\n",
       "      <td>34.640999</td>\n",
       "    </tr>\n",
       "    <tr>\n",
       "      <th>3</th>\n",
       "      <th>0</th>\n",
       "      <td>1800.099976</td>\n",
       "      <td>2.656</td>\n",
       "      <td>34.640999</td>\n",
       "    </tr>\n",
       "    <tr>\n",
       "      <th rowspan=\"4\" valign=\"top\">67</th>\n",
       "      <th>0</th>\n",
       "      <th>0</th>\n",
       "      <td>1850.400024</td>\n",
       "      <td>2.624</td>\n",
       "      <td>34.654999</td>\n",
       "    </tr>\n",
       "    <tr>\n",
       "      <th>1</th>\n",
       "      <th>0</th>\n",
       "      <td>1850.400024</td>\n",
       "      <td>2.624</td>\n",
       "      <td>34.654999</td>\n",
       "    </tr>\n",
       "    <tr>\n",
       "      <th>2</th>\n",
       "      <th>0</th>\n",
       "      <td>1850.400024</td>\n",
       "      <td>2.624</td>\n",
       "      <td>34.654999</td>\n",
       "    </tr>\n",
       "    <tr>\n",
       "      <th>3</th>\n",
       "      <th>0</th>\n",
       "      <td>1850.400024</td>\n",
       "      <td>2.624</td>\n",
       "      <td>34.654999</td>\n",
       "    </tr>\n",
       "    <tr>\n",
       "      <th rowspan=\"4\" valign=\"top\">68</th>\n",
       "      <th>0</th>\n",
       "      <th>0</th>\n",
       "      <td>1899.500000</td>\n",
       "      <td>2.585</td>\n",
       "      <td>34.671001</td>\n",
       "    </tr>\n",
       "    <tr>\n",
       "      <th>1</th>\n",
       "      <th>0</th>\n",
       "      <td>1899.500000</td>\n",
       "      <td>2.585</td>\n",
       "      <td>34.671001</td>\n",
       "    </tr>\n",
       "    <tr>\n",
       "      <th>2</th>\n",
       "      <th>0</th>\n",
       "      <td>1899.500000</td>\n",
       "      <td>2.585</td>\n",
       "      <td>34.671001</td>\n",
       "    </tr>\n",
       "    <tr>\n",
       "      <th>3</th>\n",
       "      <th>0</th>\n",
       "      <td>1899.500000</td>\n",
       "      <td>2.585</td>\n",
       "      <td>34.671001</td>\n",
       "    </tr>\n",
       "    <tr>\n",
       "      <th rowspan=\"4\" valign=\"top\">69</th>\n",
       "      <th>0</th>\n",
       "      <th>0</th>\n",
       "      <td>1950.400024</td>\n",
       "      <td>2.547</td>\n",
       "      <td>34.686001</td>\n",
       "    </tr>\n",
       "    <tr>\n",
       "      <th>1</th>\n",
       "      <th>0</th>\n",
       "      <td>1950.400024</td>\n",
       "      <td>2.547</td>\n",
       "      <td>34.686001</td>\n",
       "    </tr>\n",
       "    <tr>\n",
       "      <th>2</th>\n",
       "      <th>0</th>\n",
       "      <td>1950.400024</td>\n",
       "      <td>2.547</td>\n",
       "      <td>34.686001</td>\n",
       "    </tr>\n",
       "    <tr>\n",
       "      <th>3</th>\n",
       "      <th>0</th>\n",
       "      <td>1950.400024</td>\n",
       "      <td>2.547</td>\n",
       "      <td>34.686001</td>\n",
       "    </tr>\n",
       "    <tr>\n",
       "      <th rowspan=\"4\" valign=\"top\">70</th>\n",
       "      <th>0</th>\n",
       "      <th>0</th>\n",
       "      <td>1998.199951</td>\n",
       "      <td>2.517</td>\n",
       "      <td>34.698002</td>\n",
       "    </tr>\n",
       "    <tr>\n",
       "      <th>1</th>\n",
       "      <th>0</th>\n",
       "      <td>1998.199951</td>\n",
       "      <td>2.517</td>\n",
       "      <td>34.698002</td>\n",
       "    </tr>\n",
       "    <tr>\n",
       "      <th>2</th>\n",
       "      <th>0</th>\n",
       "      <td>1998.199951</td>\n",
       "      <td>2.517</td>\n",
       "      <td>34.698002</td>\n",
       "    </tr>\n",
       "    <tr>\n",
       "      <th>3</th>\n",
       "      <th>0</th>\n",
       "      <td>1998.199951</td>\n",
       "      <td>2.517</td>\n",
       "      <td>34.698002</td>\n",
       "    </tr>\n",
       "  </tbody>\n",
       "</table>\n",
       "<p>284 rows × 3 columns</p>\n",
       "</div>"
      ],
      "text/plain": [
       "                                        PRES    TEMP       PSAL\n",
       "N_CALIB N_LEVELS N_PARAM N_PROF                                \n",
       "0       0        0       0          6.500000  13.461  35.112999\n",
       "                 1       0          6.500000  13.461  35.112999\n",
       "                 2       0          6.500000  13.461  35.112999\n",
       "                 3       0          6.500000  13.461  35.112999\n",
       "        1        0       0         10.500000  13.459  35.112999\n",
       "                 1       0         10.500000  13.459  35.112999\n",
       "                 2       0         10.500000  13.459  35.112999\n",
       "                 3       0         10.500000  13.459  35.112999\n",
       "        2        0       0         20.500000  13.460  35.112999\n",
       "                 1       0         20.500000  13.460  35.112999\n",
       "                 2       0         20.500000  13.460  35.112999\n",
       "                 3       0         20.500000  13.460  35.112999\n",
       "        3        0       0         30.299999  13.451  35.111000\n",
       "                 1       0         30.299999  13.451  35.111000\n",
       "                 2       0         30.299999  13.451  35.111000\n",
       "                 3       0         30.299999  13.451  35.111000\n",
       "        4        0       0         40.099998  13.447  35.112000\n",
       "                 1       0         40.099998  13.447  35.112000\n",
       "                 2       0         40.099998  13.447  35.112000\n",
       "                 3       0         40.099998  13.447  35.112000\n",
       "        5        0       0         50.200001  13.349  35.105000\n",
       "                 1       0         50.200001  13.349  35.105000\n",
       "                 2       0         50.200001  13.349  35.105000\n",
       "                 3       0         50.200001  13.349  35.105000\n",
       "        6        0       0         60.200001  13.156  35.092999\n",
       "                 1       0         60.200001  13.156  35.092999\n",
       "                 2       0         60.200001  13.156  35.092999\n",
       "                 3       0         60.200001  13.156  35.092999\n",
       "        7        0       0         70.000000  12.935  35.096001\n",
       "                 1       0         70.000000  12.935  35.096001\n",
       "...                                      ...     ...        ...\n",
       "        63       2       0       1650.099976   2.793  34.584999\n",
       "                 3       0       1650.099976   2.793  34.584999\n",
       "        64       0       0       1699.900024   2.745  34.605000\n",
       "                 1       0       1699.900024   2.745  34.605000\n",
       "                 2       0       1699.900024   2.745  34.605000\n",
       "                 3       0       1699.900024   2.745  34.605000\n",
       "        65       0       0       1749.800049   2.694  34.625000\n",
       "                 1       0       1749.800049   2.694  34.625000\n",
       "                 2       0       1749.800049   2.694  34.625000\n",
       "                 3       0       1749.800049   2.694  34.625000\n",
       "        66       0       0       1800.099976   2.656  34.640999\n",
       "                 1       0       1800.099976   2.656  34.640999\n",
       "                 2       0       1800.099976   2.656  34.640999\n",
       "                 3       0       1800.099976   2.656  34.640999\n",
       "        67       0       0       1850.400024   2.624  34.654999\n",
       "                 1       0       1850.400024   2.624  34.654999\n",
       "                 2       0       1850.400024   2.624  34.654999\n",
       "                 3       0       1850.400024   2.624  34.654999\n",
       "        68       0       0       1899.500000   2.585  34.671001\n",
       "                 1       0       1899.500000   2.585  34.671001\n",
       "                 2       0       1899.500000   2.585  34.671001\n",
       "                 3       0       1899.500000   2.585  34.671001\n",
       "        69       0       0       1950.400024   2.547  34.686001\n",
       "                 1       0       1950.400024   2.547  34.686001\n",
       "                 2       0       1950.400024   2.547  34.686001\n",
       "                 3       0       1950.400024   2.547  34.686001\n",
       "        70       0       0       1998.199951   2.517  34.698002\n",
       "                 1       0       1998.199951   2.517  34.698002\n",
       "                 2       0       1998.199951   2.517  34.698002\n",
       "                 3       0       1998.199951   2.517  34.698002\n",
       "\n",
       "[284 rows x 3 columns]"
      ]
     },
     "execution_count": 230,
     "metadata": {},
     "output_type": "execute_result"
    }
   ],
   "source": [
    "df[['PRES', 'TEMP', 'PSAL']]"
   ]
  },
  {
   "cell_type": "code",
   "execution_count": null,
   "metadata": {
    "collapsed": true
   },
   "outputs": [],
   "source": []
  }
 ],
 "metadata": {
  "kernelspec": {
   "display_name": "Python argo",
   "language": "python",
   "name": "argo"
  },
  "language_info": {
   "codemirror_mode": {
    "name": "ipython",
    "version": 3
   },
   "file_extension": ".py",
   "mimetype": "text/x-python",
   "name": "python",
   "nbconvert_exporter": "python",
   "pygments_lexer": "ipython3",
   "version": "3.6.1"
  }
 },
 "nbformat": 4,
 "nbformat_minor": 2
}
