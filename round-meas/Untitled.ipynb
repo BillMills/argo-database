{
 "cells": [
  {
   "cell_type": "code",
   "execution_count": 22,
   "metadata": {
    "collapsed": true
   },
   "outputs": [],
   "source": [
    "import xarray as xr\n",
    "import glob\n",
    "import os"
   ]
  },
  {
   "cell_type": "code",
   "execution_count": 62,
   "metadata": {},
   "outputs": [
    {
     "name": "stdout",
     "output_type": "stream",
     "text": [
      "15267\n"
     ]
    }
   ],
   "source": [
    "platFilenames = glob.glob('/storage/ifremer-platform-meta/*/*/*_meta.nc')\n",
    "print(len(platFilenames))"
   ]
  },
  {
   "cell_type": "code",
   "execution_count": 61,
   "metadata": {
    "collapsed": true
   },
   "outputs": [],
   "source": [
    "for filename in platFilenames[0:10]:\n",
    "    plat = xr.open_dataset('2900201_meta.nc')\n",
    "    [x.strip(' ') for x in plat.variables['PARAMETER_SENSOR'].data.astype(str)]\n",
    "    plat.variables['PARAMETER_RESOLUTION'].data.astype(float).tolist()\n",
    "    pn = int(plat.variables['PLATFORM_NUMBER'].data)"
   ]
  },
  {
   "cell_type": "code",
   "execution_count": 37,
   "metadata": {},
   "outputs": [
    {
     "name": "stdout",
     "output_type": "stream",
     "text": [
      "xarray.Dataset {\n",
      "dimensions:\n",
      "\tN_CONFIG_PARAM = 7 ;\n",
      "\tN_LAUNCH_CONFIG_PARAM = 7 ;\n",
      "\tN_MISSIONS = 1 ;\n",
      "\tN_PARAM = 3 ;\n",
      "\tN_POSITIONING_SYSTEM = 1 ;\n",
      "\tN_SENSOR = 3 ;\n",
      "\tN_TRANS_SYSTEM = 1 ;\n",
      "\n",
      "variables:\n",
      "\tobject DATA_TYPE() ;\n",
      "\t\tDATA_TYPE:long_name = Data type ;\n",
      "\t\tDATA_TYPE:conventions = Argo reference table 1 ;\n",
      "\tobject FORMAT_VERSION() ;\n",
      "\t\tFORMAT_VERSION:long_name = File format version ;\n",
      "\tobject HANDBOOK_VERSION() ;\n",
      "\t\tHANDBOOK_VERSION:long_name = Data handbook version ;\n",
      "\tobject DATE_CREATION() ;\n",
      "\t\tDATE_CREATION:long_name = Date of file creation ;\n",
      "\t\tDATE_CREATION:conventions = YYYYMMDDHHMISS ;\n",
      "\tobject DATE_UPDATE() ;\n",
      "\t\tDATE_UPDATE:long_name = Date of update of this file ;\n",
      "\t\tDATE_UPDATE:conventions = YYYYMMDDHHMISS ;\n",
      "\tobject PLATFORM_NUMBER() ;\n",
      "\t\tPLATFORM_NUMBER:long_name = Float unique identifier ;\n",
      "\t\tPLATFORM_NUMBER:conventions = WMO float identifier : A9IIIII ;\n",
      "\tobject PTT() ;\n",
      "\t\tPTT:long_name = Transmission identifier (ARGOS, ORBCOMM, etc.) ;\n",
      "\tobject TRANS_SYSTEM(N_TRANS_SYSTEM) ;\n",
      "\t\tTRANS_SYSTEM:long_name = Telecommunications system used ;\n",
      "\tobject TRANS_SYSTEM_ID(N_TRANS_SYSTEM) ;\n",
      "\t\tTRANS_SYSTEM_ID:long_name = Program identifier used by the transmission system ;\n",
      "\tobject TRANS_FREQUENCY(N_TRANS_SYSTEM) ;\n",
      "\t\tTRANS_FREQUENCY:long_name = Frequency of transmission from the float ;\n",
      "\t\tTRANS_FREQUENCY:units = hertz ;\n",
      "\tobject POSITIONING_SYSTEM(N_POSITIONING_SYSTEM) ;\n",
      "\t\tPOSITIONING_SYSTEM:long_name = Positioning system ;\n",
      "\tobject PLATFORM_FAMILY() ;\n",
      "\t\tPLATFORM_FAMILY:long_name = Category of instrument ;\n",
      "\t\tPLATFORM_FAMILY:conventions = Argo reference table 22 ;\n",
      "\tobject PLATFORM_TYPE() ;\n",
      "\t\tPLATFORM_TYPE:long_name = Type of float ;\n",
      "\t\tPLATFORM_TYPE:conventions = Argo reference table 23 ;\n",
      "\tobject PLATFORM_MAKER() ;\n",
      "\t\tPLATFORM_MAKER:long_name = Name of the manufacturer ;\n",
      "\t\tPLATFORM_MAKER:conventions = Argo reference table 24 ;\n",
      "\tobject FIRMWARE_VERSION() ;\n",
      "\t\tFIRMWARE_VERSION:long_name = Firmware version for the float ;\n",
      "\tobject MANUAL_VERSION() ;\n",
      "\t\tMANUAL_VERSION:long_name = Manual version for the float ;\n",
      "\tobject FLOAT_SERIAL_NO() ;\n",
      "\t\tFLOAT_SERIAL_NO:long_name = Serial number of the float ;\n",
      "\tobject STANDARD_FORMAT_ID() ;\n",
      "\t\tSTANDARD_FORMAT_ID:long_name = Standard format number to describe the data format type for each float ;\n",
      "\tobject DAC_FORMAT_ID() ;\n",
      "\t\tDAC_FORMAT_ID:long_name = Format number used by the DAC to describe the data format type for each float ;\n",
      "\tobject WMO_INST_TYPE() ;\n",
      "\t\tWMO_INST_TYPE:long_name = Coded instrument type ;\n",
      "\t\tWMO_INST_TYPE:conventions = Argo reference table 8 ;\n",
      "\tobject PROJECT_NAME() ;\n",
      "\t\tPROJECT_NAME:long_name = Program under which the float was deployed ;\n",
      "\tobject DATA_CENTRE() ;\n",
      "\t\tDATA_CENTRE:long_name = Data centre in charge of float real-time processing ;\n",
      "\t\tDATA_CENTRE:conventions = Argo reference table 4 ;\n",
      "\tobject PI_NAME() ;\n",
      "\t\tPI_NAME:long_name = Name of the principal investigator ;\n",
      "\tobject ANOMALY() ;\n",
      "\t\tANOMALY:long_name = Describe any anomalies or problems the float may have had ;\n",
      "\tobject BATTERY_TYPE() ;\n",
      "\t\tBATTERY_TYPE:long_name = Type of battery packs in the float ;\n",
      "\tobject BATTERY_PACKS() ;\n",
      "\t\tBATTERY_PACKS:long_name = Configuration of battery packs in the float ;\n",
      "\tobject CONTROLLER_BOARD_TYPE_PRIMARY() ;\n",
      "\t\tCONTROLLER_BOARD_TYPE_PRIMARY:long_name = Type of primary controller board ;\n",
      "\tobject CONTROLLER_BOARD_TYPE_SECONDARY() ;\n",
      "\t\tCONTROLLER_BOARD_TYPE_SECONDARY:long_name = Type of secondary controller board ;\n",
      "\tobject CONTROLLER_BOARD_SERIAL_NO_PRIMARY() ;\n",
      "\t\tCONTROLLER_BOARD_SERIAL_NO_PRIMARY:long_name = Serial number of the primary controller board ;\n",
      "\tobject CONTROLLER_BOARD_SERIAL_NO_SECONDARY() ;\n",
      "\t\tCONTROLLER_BOARD_SERIAL_NO_SECONDARY:long_name = Serial number of the secondary controller board ;\n",
      "\tobject SPECIAL_FEATURES() ;\n",
      "\t\tSPECIAL_FEATURES:long_name = Extra features of the float (algorithms, compressee etc.) ;\n",
      "\tobject FLOAT_OWNER() ;\n",
      "\t\tFLOAT_OWNER:long_name = Float owner ;\n",
      "\tobject OPERATING_INSTITUTION() ;\n",
      "\t\tOPERATING_INSTITUTION:long_name = Operating institution of the float ;\n",
      "\tobject CUSTOMISATION() ;\n",
      "\t\tCUSTOMISATION:long_name = Float customisation, i.e. (institution and modifications) ;\n",
      "\tobject LAUNCH_DATE() ;\n",
      "\t\tLAUNCH_DATE:long_name = Date (UTC) of the deployment ;\n",
      "\t\tLAUNCH_DATE:conventions = YYYYMMDDHHMISS ;\n",
      "\tfloat64 LAUNCH_LATITUDE() ;\n",
      "\t\tLAUNCH_LATITUDE:long_name = Latitude of the float when deployed ;\n",
      "\t\tLAUNCH_LATITUDE:units = degree_north ;\n",
      "\t\tLAUNCH_LATITUDE:valid_min = -90.0 ;\n",
      "\t\tLAUNCH_LATITUDE:valid_max = 90.0 ;\n",
      "\tfloat64 LAUNCH_LONGITUDE() ;\n",
      "\t\tLAUNCH_LONGITUDE:long_name = Longitude of the float when deployed ;\n",
      "\t\tLAUNCH_LONGITUDE:units = degree_east ;\n",
      "\t\tLAUNCH_LONGITUDE:valid_min = -180.0 ;\n",
      "\t\tLAUNCH_LONGITUDE:valid_max = 180.0 ;\n",
      "\tobject LAUNCH_QC() ;\n",
      "\t\tLAUNCH_QC:long_name = Quality on launch date, time and location ;\n",
      "\t\tLAUNCH_QC:conventions = Argo reference table 2 ;\n",
      "\tobject START_DATE() ;\n",
      "\t\tSTART_DATE:long_name = Date (UTC) of the first descent of the float ;\n",
      "\t\tSTART_DATE:conventions = YYYYMMDDHHMISS ;\n",
      "\tobject START_DATE_QC() ;\n",
      "\t\tSTART_DATE_QC:long_name = Quality on start date ;\n",
      "\t\tSTART_DATE_QC:conventions = Argo reference table 2 ;\n",
      "\tobject STARTUP_DATE() ;\n",
      "\t\tSTARTUP_DATE:long_name = Date (UTC) of the activation of the float ;\n",
      "\t\tSTARTUP_DATE:conventions = YYYYMMDDHHMISS ;\n",
      "\tobject STARTUP_DATE_QC() ;\n",
      "\t\tSTARTUP_DATE_QC:long_name = Quality on startup date ;\n",
      "\t\tSTARTUP_DATE_QC:conventions = Argo reference table 2 ;\n",
      "\tobject DEPLOYMENT_PLATFORM() ;\n",
      "\t\tDEPLOYMENT_PLATFORM:long_name = Identifier of the deployment platform ;\n",
      "\tobject DEPLOYMENT_CRUISE_ID() ;\n",
      "\t\tDEPLOYMENT_CRUISE_ID:long_name = Identification number or reference number of the cruise used to deploy the float ;\n",
      "\tobject DEPLOYMENT_REFERENCE_STATION_ID() ;\n",
      "\t\tDEPLOYMENT_REFERENCE_STATION_ID:long_name = Identifier or reference number of co-located stations used to verify the first profile ;\n",
      "\tobject END_MISSION_DATE() ;\n",
      "\t\tEND_MISSION_DATE:long_name = Date (UTC) of the end of mission of the float ;\n",
      "\t\tEND_MISSION_DATE:conventions = YYYYMMDDHHMISS ;\n",
      "\tobject END_MISSION_STATUS() ;\n",
      "\t\tEND_MISSION_STATUS:long_name = Status of the end of mission of the float ;\n",
      "\t\tEND_MISSION_STATUS:conventions = T:No more transmission received, R:Retrieved ;\n",
      "\tobject LAUNCH_CONFIG_PARAMETER_NAME(N_LAUNCH_CONFIG_PARAM) ;\n",
      "\t\tLAUNCH_CONFIG_PARAMETER_NAME:long_name = Name of configuration parameter at launch ;\n",
      "\tfloat64 LAUNCH_CONFIG_PARAMETER_VALUE(N_LAUNCH_CONFIG_PARAM) ;\n",
      "\t\tLAUNCH_CONFIG_PARAMETER_VALUE:long_name = Value of configuration parameter at launch ;\n",
      "\tobject CONFIG_PARAMETER_NAME(N_CONFIG_PARAM) ;\n",
      "\t\tCONFIG_PARAMETER_NAME:long_name = Name of configuration parameter ;\n",
      "\tfloat64 CONFIG_PARAMETER_VALUE(N_MISSIONS, N_CONFIG_PARAM) ;\n",
      "\t\tCONFIG_PARAMETER_VALUE:long_name = Value of configuration parameter ;\n",
      "\tfloat64 CONFIG_MISSION_NUMBER(N_MISSIONS) ;\n",
      "\t\tCONFIG_MISSION_NUMBER:long_name = Unique number denoting the missions performed by the float ;\n",
      "\t\tCONFIG_MISSION_NUMBER:conventions = 1...N, 1 : first complete mission ;\n",
      "\tobject CONFIG_MISSION_COMMENT(N_MISSIONS) ;\n",
      "\t\tCONFIG_MISSION_COMMENT:long_name = Comment on configuration ;\n",
      "\tobject SENSOR(N_SENSOR) ;\n",
      "\t\tSENSOR:long_name = Name of the sensor mounted on the float ;\n",
      "\t\tSENSOR:conventions = Argo reference table 25 ;\n",
      "\tobject SENSOR_MAKER(N_SENSOR) ;\n",
      "\t\tSENSOR_MAKER:long_name = Name of the sensor manufacturer ;\n",
      "\t\tSENSOR_MAKER:conventions = Argo reference table 26 ;\n",
      "\tobject SENSOR_MODEL(N_SENSOR) ;\n",
      "\t\tSENSOR_MODEL:long_name = Type of sensor ;\n",
      "\t\tSENSOR_MODEL:conventions = Argo reference table 27 ;\n",
      "\tobject SENSOR_SERIAL_NO(N_SENSOR) ;\n",
      "\t\tSENSOR_SERIAL_NO:long_name = Serial number of the sensor ;\n",
      "\tobject PARAMETER(N_PARAM) ;\n",
      "\t\tPARAMETER:long_name = Name of parameter computed from float measurements ;\n",
      "\t\tPARAMETER:conventions = Argo reference table 3 ;\n",
      "\tobject PARAMETER_SENSOR(N_PARAM) ;\n",
      "\t\tPARAMETER_SENSOR:long_name = Name of the sensor that measures this parameter ;\n",
      "\t\tPARAMETER_SENSOR:conventions = Argo reference table 25 ;\n",
      "\tobject PARAMETER_UNITS(N_PARAM) ;\n",
      "\t\tPARAMETER_UNITS:long_name = Units of accuracy and resolution of the parameter ;\n",
      "\tobject PARAMETER_ACCURACY(N_PARAM) ;\n",
      "\t\tPARAMETER_ACCURACY:long_name = Accuracy of the parameter ;\n",
      "\tobject PARAMETER_RESOLUTION(N_PARAM) ;\n",
      "\t\tPARAMETER_RESOLUTION:long_name = Resolution of the parameter ;\n",
      "\tobject PREDEPLOYMENT_CALIB_EQUATION(N_PARAM) ;\n",
      "\t\tPREDEPLOYMENT_CALIB_EQUATION:long_name = Calibration equation for this parameter ;\n",
      "\tobject PREDEPLOYMENT_CALIB_COEFFICIENT(N_PARAM) ;\n",
      "\t\tPREDEPLOYMENT_CALIB_COEFFICIENT:long_name = Calibration coefficients for this equation ;\n",
      "\tobject PREDEPLOYMENT_CALIB_COMMENT(N_PARAM) ;\n",
      "\t\tPREDEPLOYMENT_CALIB_COMMENT:long_name = Comment applying to this parameter calibration ;\n",
      "\n",
      "// global attributes:\n",
      "\t:title = Argo float meta data file: ;\n",
      "\t:institution = KIOST (former KORDI) ;\n",
      "\t:source = Argo float ;\n",
      "\t:history = 2018-12-20 recreation.; 2019-04-08 updated. ;\n",
      "\t:references = http://www.argodatamgt.org/Documentation ;\n",
      "\t:comment =   ;\n",
      "\t:user_manual_version = 3.2 ;\n",
      "\t:Conventions = Argo-3.1 CF-1.6 ;\n",
      "}"
     ]
    }
   ],
   "source": [
    "plat.info()"
   ]
  },
  {
   "cell_type": "code",
   "execution_count": 19,
   "metadata": {},
   "outputs": [
    {
     "data": {
      "text/plain": [
       "['CTD_PRES', 'CTD_TEMP', 'CTD_CNDC']"
      ]
     },
     "execution_count": 19,
     "metadata": {},
     "output_type": "execute_result"
    }
   ],
   "source": [
    "[x.strip(' ') for x in plat.variables['PARAMETER_SENSOR'].data.astype(str)]"
   ]
  },
  {
   "cell_type": "code",
   "execution_count": 20,
   "metadata": {},
   "outputs": [
    {
     "data": {
      "text/plain": [
       "[0.1, 0.001, 0.001]"
      ]
     },
     "execution_count": 20,
     "metadata": {},
     "output_type": "execute_result"
    }
   ],
   "source": [
    "plat.variables['PARAMETER_RESOLUTION'].data.astype(float).tolist()"
   ]
  },
  {
   "cell_type": "code",
   "execution_count": 59,
   "metadata": {},
   "outputs": [],
   "source": [
    "pn = int(plat.variables['PLATFORM_NUMBER'].data)"
   ]
  },
  {
   "cell_type": "code",
   "execution_count": 60,
   "metadata": {},
   "outputs": [
    {
     "data": {
      "text/plain": [
       "2900201"
      ]
     },
     "execution_count": 60,
     "metadata": {},
     "output_type": "execute_result"
    }
   ],
   "source": [
    "pn"
   ]
  },
  {
   "cell_type": "code",
   "execution_count": null,
   "metadata": {
    "collapsed": true
   },
   "outputs": [],
   "source": []
  }
 ],
 "metadata": {
  "kernelspec": {
   "display_name": "Python argo",
   "language": "python",
   "name": "argo"
  },
  "language_info": {
   "codemirror_mode": {
    "name": "ipython",
    "version": 3
   },
   "file_extension": ".py",
   "mimetype": "text/x-python",
   "name": "python",
   "nbconvert_exporter": "python",
   "pygments_lexer": "ipython3",
   "version": "3.6.1"
  }
 },
 "nbformat": 4,
 "nbformat_minor": 2
}
